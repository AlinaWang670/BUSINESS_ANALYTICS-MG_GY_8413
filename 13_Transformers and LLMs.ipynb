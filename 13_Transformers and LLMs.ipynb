{
 "cells": [
  {
   "cell_type": "markdown",
   "id": "b81c9823-08dc-4aaf-aad0-365d7907d362",
   "metadata": {},
   "source": [
    "# Transformers"
   ]
  },
  {
   "cell_type": "markdown",
   "id": "0fe38c40-ccd6-41c9-9a29-792f02f155d4",
   "metadata": {},
   "source": [
    "## Sentence Transformers \n",
    "(https://www.sbert.net/)\n",
    "\n",
    "Sentence BERT is a library that allows the creation of sentence embeddings based on transformer models, including nearly all models available on Huggingface.  A 'sentence' does not mean a literal sentence, it refers to any text.  \n",
    "\n",
    "Once we have embeddings available, there is no limit to what we can do with it.  We can pass the embeddings to traditional or network based models to drive classification, regression, or perform clustering of text data using any clustering method such as k-means or hierarchical clustering.\n",
    "\n",
    "We will start with sentence BERT, and look at some examples of the kinds of problems we can solve with it.  \n",
    "\n",
    "**Get some text data**  \n",
    "We import about 10,000 random articles that were collected using web scraping the net for articles that address cybersecurity.  Some item are long, some are short, and others are not really even articles as those might just be ads or other website notices.  \n",
    "**Local saving and loading of models**\n",
    "> Save with:\n",
    "```\n",
    "from sentence_transformers import SentenceTransformer\n",
    "\n",
    "model = SentenceTransformer('all-roberta-large-v1')\n",
    "\n",
    "model.save(path)\n",
    "```\n",
    "> Load with:\n",
    "```\n",
    "from sentence_transformers import SentenceTransformer\n",
    "\n",
    "model = SentenceTransformer(path)\n",
    "```\n"
   ]
  },
  {
   "cell_type": "code",
   "execution_count": 1,
   "id": "c7f98ac7-fdbc-4015-9f38-77a4ca61b974",
   "metadata": {
    "tags": []
   },
   "outputs": [],
   "source": [
    "# Set default locations for downloaded models\n",
    "import os\n",
    "\n",
    "if os.name != 'nt':  # Do this only if in a non-Windows environment\n",
    "    \n",
    "    if 'instructor' in os.getcwd(): # Set default model locations when logged in as instructor\n",
    "        os.environ['TRANSFORMERS_CACHE'] = '/home/instructor/shared/huggingface'\n",
    "        os.environ['SENTENCE_TRANSFORMERS_HOME'] = '/home/instructor/shared/huggingface'\n",
    "            \n",
    "    else: # Set default model locations when logged in as a student\n",
    "        os.environ['TRANSFORMERS_CACHE'] = '/home/jovyan/shared/huggingface'\n",
    "        os.environ['SENTENCE_TRANSFORMERS_HOME'] = '/home/jovyan/shared/huggingface'\n",
    "        "
   ]
  },
  {
   "cell_type": "code",
   "execution_count": 2,
   "id": "efeecb7f-0dfb-49ec-ad3b-7d5e22203d6c",
   "metadata": {
    "tags": []
   },
   "outputs": [],
   "source": [
    "# Usual library imports\n",
    "import pandas as pd\n",
    "import numpy as np\n",
    "import matplotlib.pyplot as plt\n",
    "import seaborn as sns\n",
    "import tqdm\n",
    "import torch"
   ]
  },
  {
   "cell_type": "code",
   "execution_count": 3,
   "id": "199a4246-3099-4040-b811-137b773ce51e",
   "metadata": {
    "tags": []
   },
   "outputs": [
    {
     "data": {
      "text/plain": [
       "'/home/instructor/shared'"
      ]
     },
     "execution_count": 3,
     "metadata": {},
     "output_type": "execute_result"
    }
   ],
   "source": [
    "pwd"
   ]
  },
  {
   "cell_type": "code",
   "execution_count": 4,
   "id": "6810875f-f6aa-42fd-8d37-78a356f109ee",
   "metadata": {
    "tags": []
   },
   "outputs": [],
   "source": [
    "# Import the data from a pickle file\n",
    "df = pd.read_pickle('sample.pkl')"
   ]
  },
  {
   "cell_type": "code",
   "execution_count": 5,
   "id": "54f28a3e-81e5-48c6-94f9-56826b4d7d00",
   "metadata": {
    "tags": []
   },
   "outputs": [
    {
     "data": {
      "text/plain": [
       "(10117, 7)"
      ]
     },
     "execution_count": 5,
     "metadata": {},
     "output_type": "execute_result"
    }
   ],
   "source": [
    "# How many rows and columns in our dataframe\n",
    "df.shape"
   ]
  },
  {
   "cell_type": "code",
   "execution_count": 6,
   "id": "25d7380f-804c-4f8e-b9d3-6e94137c26c2",
   "metadata": {
    "tags": []
   },
   "outputs": [
    {
     "data": {
      "text/html": [
       "<div>\n",
       "<style scoped>\n",
       "    .dataframe tbody tr th:only-of-type {\n",
       "        vertical-align: middle;\n",
       "    }\n",
       "\n",
       "    .dataframe tbody tr th {\n",
       "        vertical-align: top;\n",
       "    }\n",
       "\n",
       "    .dataframe thead th {\n",
       "        text-align: right;\n",
       "    }\n",
       "</style>\n",
       "<table border=\"1\" class=\"dataframe\">\n",
       "  <thead>\n",
       "    <tr style=\"text-align: right;\">\n",
       "      <th></th>\n",
       "      <th>title</th>\n",
       "      <th>summary_x</th>\n",
       "      <th>URL</th>\n",
       "      <th>keywords</th>\n",
       "      <th>summary_y</th>\n",
       "      <th>text</th>\n",
       "      <th>published_date</th>\n",
       "    </tr>\n",
       "  </thead>\n",
       "  <tbody>\n",
       "    <tr>\n",
       "      <th>0</th>\n",
       "      <td>Friday Squid Blogging: On Squid Brains</td>\n",
       "      <td>&lt;p&gt;Interesting &lt;i&gt;National Geographic&lt;/i&gt; &lt;a h...</td>\n",
       "      <td>https://www.schneier.com/blog/archives/2021/08...</td>\n",
       "      <td>working,school,technologist,security,schneier,...</td>\n",
       "      <td>About Bruce SchneierI am a public-interest tec...</td>\n",
       "      <td>About Bruce Schneier\\n\\nI am a public-interest...</td>\n",
       "      <td>2021-08-20 21:18:14</td>\n",
       "    </tr>\n",
       "    <tr>\n",
       "      <th>1</th>\n",
       "      <td>More on Apple’s iPhone Backdoor</td>\n",
       "      <td>&lt;p&gt;In this post, I&amp;#8217;ll collect links on A...</td>\n",
       "      <td>https://www.schneier.com/blog/archives/2021/08...</td>\n",
       "      <td>service,using,wiserposted,iphone,security,appl...</td>\n",
       "      <td>More on Apple’s iPhone BackdoorIn this post, I...</td>\n",
       "      <td>More on Apple’s iPhone Backdoor\\n\\nIn this pos...</td>\n",
       "      <td>2021-08-20 13:54:51</td>\n",
       "    </tr>\n",
       "    <tr>\n",
       "      <th>2</th>\n",
       "      <td>T-Mobile Data Breach</td>\n",
       "      <td>&lt;p&gt;It&amp;#8217;s a &lt;a href=\"https://www.wired.com...</td>\n",
       "      <td>https://www.schneier.com/blog/archives/2021/08...</td>\n",
       "      <td>tmobiles,numbers,data,tmobile,security,schneie...</td>\n",
       "      <td>It’s a big one:As first reported by Motherboar...</td>\n",
       "      <td>It’s a big one:\\n\\nAs first reported by Mother...</td>\n",
       "      <td>2021-08-19 11:17:56</td>\n",
       "    </tr>\n",
       "    <tr>\n",
       "      <th>3</th>\n",
       "      <td>Apple’s NeuralHash Algorithm Has Been Reverse-...</td>\n",
       "      <td>&lt;p&gt;Apple&amp;#8217;s &lt;a href=\"https://www.apple.co...</td>\n",
       "      <td>https://www.schneier.com/blog/archives/2021/08...</td>\n",
       "      <td>using,step,neuralhash,security,schneier,tests,...</td>\n",
       "      <td>Apple’s NeuralHash Algorithm Has Been Reverse-...</td>\n",
       "      <td>Apple’s NeuralHash Algorithm Has Been Reverse-...</td>\n",
       "      <td>2021-08-18 16:51:17</td>\n",
       "    </tr>\n",
       "    <tr>\n",
       "      <th>4</th>\n",
       "      <td>Upcoming Speaking Engagements</td>\n",
       "      <td>&lt;p&gt;This is a current list of where and when I ...</td>\n",
       "      <td>https://www.schneier.com/blog/archives/2021/08...</td>\n",
       "      <td>comments,pageposted,speakthe,scheduled,engagem...</td>\n",
       "      <td>Upcoming Speaking EngagementsThis is a current...</td>\n",
       "      <td>Upcoming Speaking Engagements\\n\\nThis is a cur...</td>\n",
       "      <td>2021-08-14 17:01:46</td>\n",
       "    </tr>\n",
       "    <tr>\n",
       "      <th>...</th>\n",
       "      <td>...</td>\n",
       "      <td>...</td>\n",
       "      <td>...</td>\n",
       "      <td>...</td>\n",
       "      <td>...</td>\n",
       "      <td>...</td>\n",
       "      <td>...</td>\n",
       "    </tr>\n",
       "    <tr>\n",
       "      <th>10112</th>\n",
       "      <td>Nigeria’s Autochek acquires Cheki Kenya and Ug...</td>\n",
       "      <td>Nigerian automotive tech company Autochek toda...</td>\n",
       "      <td>http://feedproxy.google.com/~r/Techcrunch/~3/0...</td>\n",
       "      <td>autochek,kenya,cheki,acquires,roam,ghana,ugand...</td>\n",
       "      <td>Nigerian automotive tech company Autochek toda...</td>\n",
       "      <td>Nigerian automotive tech company Autochek toda...</td>\n",
       "      <td>2021-09-06 07:56:18</td>\n",
       "    </tr>\n",
       "    <tr>\n",
       "      <th>10113</th>\n",
       "      <td>President of El Salvador says the country boug...</td>\n",
       "      <td>&lt;a href=\"https://www.coindesk.com/policy/2021/...</td>\n",
       "      <td>http://www.techmeme.com/210907/p2#a210907p2</td>\n",
       "      <td>common,el,work,law,tender,theres,comes,salvado...</td>\n",
       "      <td>— The Starters — Apple Inc. and Tesla Inc. hav...</td>\n",
       "      <td>— The Starters — Apple Inc. and Tesla Inc. hav...</td>\n",
       "      <td>2021-09-07 04:15:02</td>\n",
       "    </tr>\n",
       "    <tr>\n",
       "      <th>10114</th>\n",
       "      <td>A look at the growing movement of \"self-hostin...</td>\n",
       "      <td>&lt;a href=\"https://www.vice.com/en/article/pkb4n...</td>\n",
       "      <td>http://www.techmeme.com/210906/p10#a210906p10</td>\n",
       "      <td>friends,john,market,run,nft,week,truly,review,...</td>\n",
       "      <td>— Hello friends, and welcome back to Week in R...</td>\n",
       "      <td>— Hello friends, and welcome back to Week in R...</td>\n",
       "      <td>2021-09-06 17:50:01</td>\n",
       "    </tr>\n",
       "    <tr>\n",
       "      <th>10115</th>\n",
       "      <td>CoinGecko: Solana's SOL token has more than tr...</td>\n",
       "      <td>&lt;a href=\"https://www.bloomberg.com/news/articl...</td>\n",
       "      <td>http://www.techmeme.com/210906/p7#a210906p7</td>\n",
       "      <td>sol,startup,weeks,run,kind,solanas,smbs,resour...</td>\n",
       "      <td>— Factorial, a startup out of Barcelona that h...</td>\n",
       "      <td>— Factorial, a startup out of Barcelona that h...</td>\n",
       "      <td>2021-09-06 13:15:01</td>\n",
       "    </tr>\n",
       "    <tr>\n",
       "      <th>10116</th>\n",
       "      <td>Who is Starlink really for?</td>\n",
       "      <td>Alan Woodward lives out in the countryside, in...</td>\n",
       "      <td>https://www.technologyreview.com/2021/09/06/10...</td>\n",
       "      <td>really,areas,satellites,internet,rural,compani...</td>\n",
       "      <td>And for many customers, especially commercial ...</td>\n",
       "      <td>But it’s not totally clear whether rural Ameri...</td>\n",
       "      <td>2021-09-06 10:00:00</td>\n",
       "    </tr>\n",
       "  </tbody>\n",
       "</table>\n",
       "<p>10117 rows × 7 columns</p>\n",
       "</div>"
      ],
      "text/plain": [
       "                                                   title  \\\n",
       "0                 Friday Squid Blogging: On Squid Brains   \n",
       "1                        More on Apple’s iPhone Backdoor   \n",
       "2                                   T-Mobile Data Breach   \n",
       "3      Apple’s NeuralHash Algorithm Has Been Reverse-...   \n",
       "4                          Upcoming Speaking Engagements   \n",
       "...                                                  ...   \n",
       "10112  Nigeria’s Autochek acquires Cheki Kenya and Ug...   \n",
       "10113  President of El Salvador says the country boug...   \n",
       "10114  A look at the growing movement of \"self-hostin...   \n",
       "10115  CoinGecko: Solana's SOL token has more than tr...   \n",
       "10116                        Who is Starlink really for?   \n",
       "\n",
       "                                               summary_x  \\\n",
       "0      <p>Interesting <i>National Geographic</i> <a h...   \n",
       "1      <p>In this post, I&#8217;ll collect links on A...   \n",
       "2      <p>It&#8217;s a <a href=\"https://www.wired.com...   \n",
       "3      <p>Apple&#8217;s <a href=\"https://www.apple.co...   \n",
       "4      <p>This is a current list of where and when I ...   \n",
       "...                                                  ...   \n",
       "10112  Nigerian automotive tech company Autochek toda...   \n",
       "10113  <a href=\"https://www.coindesk.com/policy/2021/...   \n",
       "10114  <a href=\"https://www.vice.com/en/article/pkb4n...   \n",
       "10115  <a href=\"https://www.bloomberg.com/news/articl...   \n",
       "10116  Alan Woodward lives out in the countryside, in...   \n",
       "\n",
       "                                                     URL  \\\n",
       "0      https://www.schneier.com/blog/archives/2021/08...   \n",
       "1      https://www.schneier.com/blog/archives/2021/08...   \n",
       "2      https://www.schneier.com/blog/archives/2021/08...   \n",
       "3      https://www.schneier.com/blog/archives/2021/08...   \n",
       "4      https://www.schneier.com/blog/archives/2021/08...   \n",
       "...                                                  ...   \n",
       "10112  http://feedproxy.google.com/~r/Techcrunch/~3/0...   \n",
       "10113        http://www.techmeme.com/210907/p2#a210907p2   \n",
       "10114      http://www.techmeme.com/210906/p10#a210906p10   \n",
       "10115        http://www.techmeme.com/210906/p7#a210906p7   \n",
       "10116  https://www.technologyreview.com/2021/09/06/10...   \n",
       "\n",
       "                                                keywords  \\\n",
       "0      working,school,technologist,security,schneier,...   \n",
       "1      service,using,wiserposted,iphone,security,appl...   \n",
       "2      tmobiles,numbers,data,tmobile,security,schneie...   \n",
       "3      using,step,neuralhash,security,schneier,tests,...   \n",
       "4      comments,pageposted,speakthe,scheduled,engagem...   \n",
       "...                                                  ...   \n",
       "10112  autochek,kenya,cheki,acquires,roam,ghana,ugand...   \n",
       "10113  common,el,work,law,tender,theres,comes,salvado...   \n",
       "10114  friends,john,market,run,nft,week,truly,review,...   \n",
       "10115  sol,startup,weeks,run,kind,solanas,smbs,resour...   \n",
       "10116  really,areas,satellites,internet,rural,compani...   \n",
       "\n",
       "                                               summary_y  \\\n",
       "0      About Bruce SchneierI am a public-interest tec...   \n",
       "1      More on Apple’s iPhone BackdoorIn this post, I...   \n",
       "2      It’s a big one:As first reported by Motherboar...   \n",
       "3      Apple’s NeuralHash Algorithm Has Been Reverse-...   \n",
       "4      Upcoming Speaking EngagementsThis is a current...   \n",
       "...                                                  ...   \n",
       "10112  Nigerian automotive tech company Autochek toda...   \n",
       "10113  — The Starters — Apple Inc. and Tesla Inc. hav...   \n",
       "10114  — Hello friends, and welcome back to Week in R...   \n",
       "10115  — Factorial, a startup out of Barcelona that h...   \n",
       "10116  And for many customers, especially commercial ...   \n",
       "\n",
       "                                                    text       published_date  \n",
       "0      About Bruce Schneier\\n\\nI am a public-interest...  2021-08-20 21:18:14  \n",
       "1      More on Apple’s iPhone Backdoor\\n\\nIn this pos...  2021-08-20 13:54:51  \n",
       "2      It’s a big one:\\n\\nAs first reported by Mother...  2021-08-19 11:17:56  \n",
       "3      Apple’s NeuralHash Algorithm Has Been Reverse-...  2021-08-18 16:51:17  \n",
       "4      Upcoming Speaking Engagements\\n\\nThis is a cur...  2021-08-14 17:01:46  \n",
       "...                                                  ...                  ...  \n",
       "10112  Nigerian automotive tech company Autochek toda...  2021-09-06 07:56:18  \n",
       "10113  — The Starters — Apple Inc. and Tesla Inc. hav...  2021-09-07 04:15:02  \n",
       "10114  — Hello friends, and welcome back to Week in R...  2021-09-06 17:50:01  \n",
       "10115  — Factorial, a startup out of Barcelona that h...  2021-09-06 13:15:01  \n",
       "10116  But it’s not totally clear whether rural Ameri...  2021-09-06 10:00:00  \n",
       "\n",
       "[10117 rows x 7 columns]"
      ]
     },
     "execution_count": 6,
     "metadata": {},
     "output_type": "execute_result"
    }
   ],
   "source": [
    "# We look at the dataframe below.  The column of interest to us is the column titled 'text'\n",
    "df"
   ]
  },
  {
   "cell_type": "code",
   "execution_count": 7,
   "id": "1a33f760-d424-43dd-a665-003476c95909",
   "metadata": {
    "tags": []
   },
   "outputs": [],
   "source": [
    "# We create a dataframe with just the story text, and call it corpus\n",
    "\n",
    "corpus = df[['text']]"
   ]
  },
  {
   "cell_type": "code",
   "execution_count": 8,
   "id": "4b106cf1-2f73-41fb-b8cc-1bf65c852853",
   "metadata": {
    "tags": []
   },
   "outputs": [
    {
     "data": {
      "text/html": [
       "<div>\n",
       "<style scoped>\n",
       "    .dataframe tbody tr th:only-of-type {\n",
       "        vertical-align: middle;\n",
       "    }\n",
       "\n",
       "    .dataframe tbody tr th {\n",
       "        vertical-align: top;\n",
       "    }\n",
       "\n",
       "    .dataframe thead th {\n",
       "        text-align: right;\n",
       "    }\n",
       "</style>\n",
       "<table border=\"1\" class=\"dataframe\">\n",
       "  <thead>\n",
       "    <tr style=\"text-align: right;\">\n",
       "      <th></th>\n",
       "      <th>text</th>\n",
       "    </tr>\n",
       "  </thead>\n",
       "  <tbody>\n",
       "    <tr>\n",
       "      <th>0</th>\n",
       "      <td>About Bruce Schneier\\n\\nI am a public-interest...</td>\n",
       "    </tr>\n",
       "    <tr>\n",
       "      <th>1</th>\n",
       "      <td>More on Apple’s iPhone Backdoor\\n\\nIn this pos...</td>\n",
       "    </tr>\n",
       "    <tr>\n",
       "      <th>2</th>\n",
       "      <td>It’s a big one:\\n\\nAs first reported by Mother...</td>\n",
       "    </tr>\n",
       "    <tr>\n",
       "      <th>3</th>\n",
       "      <td>Apple’s NeuralHash Algorithm Has Been Reverse-...</td>\n",
       "    </tr>\n",
       "    <tr>\n",
       "      <th>4</th>\n",
       "      <td>Upcoming Speaking Engagements\\n\\nThis is a cur...</td>\n",
       "    </tr>\n",
       "    <tr>\n",
       "      <th>...</th>\n",
       "      <td>...</td>\n",
       "    </tr>\n",
       "    <tr>\n",
       "      <th>10112</th>\n",
       "      <td>Nigerian automotive tech company Autochek toda...</td>\n",
       "    </tr>\n",
       "    <tr>\n",
       "      <th>10113</th>\n",
       "      <td>— The Starters — Apple Inc. and Tesla Inc. hav...</td>\n",
       "    </tr>\n",
       "    <tr>\n",
       "      <th>10114</th>\n",
       "      <td>— Hello friends, and welcome back to Week in R...</td>\n",
       "    </tr>\n",
       "    <tr>\n",
       "      <th>10115</th>\n",
       "      <td>— Factorial, a startup out of Barcelona that h...</td>\n",
       "    </tr>\n",
       "    <tr>\n",
       "      <th>10116</th>\n",
       "      <td>But it’s not totally clear whether rural Ameri...</td>\n",
       "    </tr>\n",
       "  </tbody>\n",
       "</table>\n",
       "<p>10117 rows × 1 columns</p>\n",
       "</div>"
      ],
      "text/plain": [
       "                                                    text\n",
       "0      About Bruce Schneier\\n\\nI am a public-interest...\n",
       "1      More on Apple’s iPhone Backdoor\\n\\nIn this pos...\n",
       "2      It’s a big one:\\n\\nAs first reported by Mother...\n",
       "3      Apple’s NeuralHash Algorithm Has Been Reverse-...\n",
       "4      Upcoming Speaking Engagements\\n\\nThis is a cur...\n",
       "...                                                  ...\n",
       "10112  Nigerian automotive tech company Autochek toda...\n",
       "10113  — The Starters — Apple Inc. and Tesla Inc. hav...\n",
       "10114  — Hello friends, and welcome back to Week in R...\n",
       "10115  — Factorial, a startup out of Barcelona that h...\n",
       "10116  But it’s not totally clear whether rural Ameri...\n",
       "\n",
       "[10117 rows x 1 columns]"
      ]
     },
     "execution_count": 8,
     "metadata": {},
     "output_type": "execute_result"
    }
   ],
   "source": [
    "corpus"
   ]
  },
  {
   "cell_type": "code",
   "execution_count": 9,
   "id": "0d754e2c-50b2-49f9-bedd-fb37f8906f28",
   "metadata": {
    "tags": []
   },
   "outputs": [
    {
     "name": "stderr",
     "output_type": "stream",
     "text": [
      "/opt/conda/envs/mggy8413/lib/python3.10/site-packages/seaborn/_oldcore.py:1119: FutureWarning: use_inf_as_na option is deprecated and will be removed in a future version. Convert inf values to NaN before operating instead.\n",
      "  with pd.option_context('mode.use_inf_as_na', True):\n"
     ]
    },
    {
     "data": {
      "text/plain": [
       "count    10117.000000\n",
       "mean       559.145003\n",
       "std        501.310623\n",
       "min          0.000000\n",
       "25%        293.000000\n",
       "50%        450.000000\n",
       "75%        724.000000\n",
       "max       8807.000000\n",
       "dtype: float64"
      ]
     },
     "execution_count": 9,
     "metadata": {},
     "output_type": "execute_result"
    },
    {
     "data": {
      "image/png": "[encoded data removed]",
      "text/plain": [
       "<Figure size 1400x900 with 1 Axes>"
      ]
     },
     "metadata": {},
     "output_type": "display_data"
    }
   ],
   "source": [
    "# Next, we examine how long the articles are.  Perhaps we want to \n",
    "# throw out the outliers, ie really short articles, which may \n",
    "# not really be articles, and also very long articles.\n",
    "# \n",
    "# We do this below, looking at the mean and distribution of article lengths\n",
    "\n",
    "article_lengths = [(len(x.split())) for x in (corpus.text)]\n",
    "article_lengths = pd.Series(article_lengths)\n",
    "plt.figure(figsize = (14,9))\n",
    "sns.histplot(article_lengths)\n",
    "pd.Series(article_lengths).describe()"
   ]
  },
  {
   "cell_type": "code",
   "execution_count": 10,
   "id": "3b0b22af-0e14-4571-942d-77859234758d",
   "metadata": {
    "tags": []
   },
   "outputs": [
    {
     "data": {
      "text/plain": [
       "125"
      ]
     },
     "execution_count": 10,
     "metadata": {},
     "output_type": "execute_result"
    }
   ],
   "source": [
    "# Let us see how many articles more than 2000 words\n",
    "len(article_lengths[article_lengths>2000])"
   ]
  },
  {
   "cell_type": "code",
   "execution_count": 11,
   "id": "02debb07-dc39-4ccb-8853-a06ce279ca01",
   "metadata": {
    "tags": []
   },
   "outputs": [
    {
     "data": {
      "text/plain": [
       "349"
      ]
     },
     "execution_count": 11,
     "metadata": {},
     "output_type": "execute_result"
    }
   ],
   "source": [
    "# Let us see how many articles less than 50 words\n",
    "len(article_lengths[article_lengths<50])"
   ]
  },
  {
   "cell_type": "code",
   "execution_count": 12,
   "id": "2398df54-c1ab-4c4a-8242-b1bee4dd677d",
   "metadata": {
    "tags": []
   },
   "outputs": [
    {
     "name": "stdout",
     "output_type": "stream",
     "text": [
      "9643\n"
     ]
    },
    {
     "name": "stderr",
     "output_type": "stream",
     "text": [
      "/tmp/ipykernel_3964/2276487756.py:6: FutureWarning: Operation between non boolean Series with different indexes will no longer return a boolean result in a future version. Cast both Series to object type to maintain the prior behavior.\n",
      "  len(article_lengths[(article_lengths[article_lengths>49]) & (article_lengths[article_lengths<2000])])\n"
     ]
    },
    {
     "data": {
      "text/plain": [
       "9643"
      ]
     },
     "execution_count": 12,
     "metadata": {},
     "output_type": "execute_result"
    }
   ],
   "source": [
    "# Let us just keep the regular sized articles, ie those greater than 50\n",
    "# words, and also remove the excessively long articles.  We are still \n",
    "# left with a sizable number in our corpus.\n",
    "\n",
    "print(10117-349-125)\n",
    "len(article_lengths[(article_lengths[article_lengths>49]) & (article_lengths[article_lengths<2000])])"
   ]
  },
  {
   "cell_type": "code",
   "execution_count": 13,
   "id": "04d8f3ac-bace-4796-97ed-62c733a8953b",
   "metadata": {
    "tags": []
   },
   "outputs": [
    {
     "name": "stderr",
     "output_type": "stream",
     "text": [
      "/tmp/ipykernel_3964/244724525.py:1: FutureWarning: Operation between non boolean Series with different indexes will no longer return a boolean result in a future version. Cast both Series to object type to maintain the prior behavior.\n",
      "  corpus = corpus[(article_lengths[article_lengths>49]) & (article_lengths[article_lengths<2000])]\n"
     ]
    }
   ],
   "source": [
    "corpus = corpus[(article_lengths[article_lengths>49]) & (article_lengths[article_lengths<2000])]"
   ]
  },
  {
   "cell_type": "code",
   "execution_count": 14,
   "id": "8e8abaed-c29f-44b5-9d39-decd16d9dea6",
   "metadata": {
    "tags": []
   },
   "outputs": [
    {
     "name": "stderr",
     "output_type": "stream",
     "text": [
      "/opt/conda/envs/mggy8413/lib/python3.10/site-packages/seaborn/_oldcore.py:1119: FutureWarning: use_inf_as_na option is deprecated and will be removed in a future version. Convert inf values to NaN before operating instead.\n",
      "  with pd.option_context('mode.use_inf_as_na', True):\n"
     ]
    },
    {
     "data": {
      "text/plain": [
       "count    9643.000000\n",
       "mean      542.166753\n",
       "std       346.111949\n",
       "min        50.000000\n",
       "25%       308.000000\n",
       "50%       458.000000\n",
       "75%       722.000000\n",
       "max      1998.000000\n",
       "dtype: float64"
      ]
     },
     "execution_count": 14,
     "metadata": {},
     "output_type": "execute_result"
    },
    {
     "data": {
      "image/png": "[encoded data removed]",
      "text/plain": [
       "<Figure size 1400x900 with 1 Axes>"
      ]
     },
     "metadata": {},
     "output_type": "display_data"
    }
   ],
   "source": [
    "# Next we look at the distribution again\n",
    "\n",
    "article_lengths = [(len(x.split())) for x in (corpus.text)]\n",
    "article_lengths = pd.Series(article_lengths)\n",
    "plt.figure(figsize = (14,9))\n",
    "sns.histplot(article_lengths)\n",
    "pd.Series(article_lengths).describe()"
   ]
  },
  {
   "cell_type": "markdown",
   "id": "a96d5269-2962-42cf-9378-5c5a79fb92c7",
   "metadata": {},
   "source": [
    "Our code becomes really slow if we use all 9600 articles, so we randomly pick just 100 articles from the corpus.  This is just so we can finish in time with the demos.  When you have more time, you can run the code for all the articles too."
   ]
  },
  {
   "cell_type": "code",
   "execution_count": 15,
   "id": "1b084d8f-6f24-4521-85d0-819df549a39a",
   "metadata": {
    "tags": []
   },
   "outputs": [],
   "source": [
    "# We take only a sample of the entire corpus\n",
    "# If we want to consider the entire set, we do not need to run this cell\n",
    "\n",
    "corpus = corpus.sample(100)"
   ]
  },
  {
   "cell_type": "code",
   "execution_count": 16,
   "id": "85ef2bf6-8c84-4572-b152-2bd59b62817d",
   "metadata": {
    "tags": []
   },
   "outputs": [
    {
     "name": "stdout",
     "output_type": "stream",
     "text": [
      "The sudden move by Russia's top law enforcement agency to conduct a very public takedown of the REvil ransomware operation has set tongues wagging about how diplomacy may hold the key to slowing big-game ransomware attacks.\n",
      "\n",
      "The sting operation, which was followed by a carefully crafted announcement that it was done “at the request of the United States,” comes amidst a larger Russia-Ukraine geo-political conflict that is already being linked to data-wiping malware attacks and targeted web-site defacements.\n",
      "\n",
      "The U.S. government has publicly blamed Russia for ignoring multiple high-profile ransomware attacks that cripped gas pipelines and disrupted food and beverage operations and the White House last year insisted on “follow-up actions” after sharing data on Russian ransomware wealth transfer activity.\n",
      "\n",
      "Now, it appears the Russians are signaling a solitary follow-up action in a very deliberate manner, a move no doubt tied to larger diplomatic negotiations surrounding military conflict and economic sanctions.\n",
      "\n",
      "It’s worth closely examining the five major signals being sent to understand how the ransomware ecosystem shakes out the rest of this year:\n",
      "\n",
      "1. Ransomware can be (partially) solved with diplomacy:\n",
      "\n",
      "Everything about this operation screams .gov diplomacy at work. The Russians put on a show, posting raid videos alongside a carefully orchestrated announcement that the crackdown was a gift to the Americans.\n",
      "\n",
      "The FSB press release made it very clear that it was a response to a request from the U.S., an obvious signal it was willing to use its law enforcement reach to cooperate on cybersecurity issues.\n",
      "\n",
      "While many remain skeptical (more on the REvil takedown choice later), this is confirmation that a willing government can effectively thwart major cybercriminal activity, especially those with geo-political and national security implications. A few meetings by politicians could lead to a sudden law enforcement directive and the eventual knee-capping of cybercriminals.\n",
      "\n",
      "It shows that an all-hands global law enforcement initiative can provide comfort to network defenders struggling to pry ransomware from corporate networks.\n",
      "\n",
      "[READ: SecurityWeek Cyber Insights 2022: Ransomware ]\n",
      "\n",
      "2. REvil was low-hanging fruit:\n",
      "\n",
      "It’s interesting that the Russians chose REvil to be the target for this operation. The truth is that REvil’s malware operation was already compromised by U.S. government and law enforcement allies in the west.\n",
      "\n",
      "As I wrote last October, a U.S.-led law enforcement hack-back operation led to the seizure of Tor servers and effectively crippled REvil after the gang was blamed for the Colonial Pipeline hack and the Kaseya supply chain compromise.\n",
      "\n",
      "Since REvil was already disrupted and its operators known by U.S. authorities, it was pretty easy for Russia’s negotiators to publicly signal it may be cooperative on other bigger fish if the Americans are willing to make bigger deals.\n",
      "\n",
      "I asked someone deep in the nation-state malware tracking space for his take and his response makes total sense: “It's obvious what the signal is. It’s also important that the signal is correctly understood by everyone. You asked us to do something about ransomware and we did. Now what will you do for us?”\n",
      "\n",
      "[ READ: REvil Ransomware Gang Hit by Law Enforcement Hack-Back Operation ]\n",
      "\n",
      "3. Driving fear into criminal gangs:\n",
      "\n",
      "A big side-effect of this takedown will be deterrence. Regardless of the charges -- those arrested face lighter money-laundering charges because cybercrime laws require Russian victims -- there is nothing fun about being incarcerated in Russia, especially in January.\n",
      "\n",
      "While most of those arrested are believed to be low-level REvil affiliates in the ransomware ecosystem, it is a direct lesson to the masterminds and gang leaders that they are expendable assets in diplomatic negotiations.\n",
      "\n",
      "This deterrence will likely lead to a noticeable decline in bold-face attacks and more attempts by cybercriminals to cover tracks or shut down entire operations, much like we saw with DarkSide after the Colonial Pipeline hack\n",
      "\n",
      "[ READ: DarkSide Ransomware Shutdown: An Exit Scam or Running for Hills? ]\n",
      "\n",
      "4. The Iran-North Korea ransomware connection:\n",
      "\n",
      "While the REvil takedown is being viewed within the lens of the U.S.-Russia relationship, there are at least two nation-states -- North Korea and Iran -- using ransomware attacks and crypto-bank heists to get around economic sanctions.\n",
      "\n",
      "If the Russians can use ransomware damages as leverage in negotiations, it sets a precedent for other nations to pursue the same strategy. North Korean hackers stole a whopping $400 million worth of cryptocurrencies in 2021 and there are documented ransomware attacks coming from nation state-backed actors in Iran.\n",
      "\n",
      "Expect to see these .gov threat actors outsourcing sanctions-busting ransomware operations to mercenary private sector actors in attempts to dodge attribution or set up future diplomatic negotiations.\n",
      "\n",
      "[ READ: Microsoft Uncovers Destructive Malware Used in Ukraine Cyberattacks ]\n",
      "\n",
      "5. The value of (good) attribution\n",
      "\n",
      "One of the more interesting things to watch is the U.S. government’s use of a high-quality attribution in the new “sand-and-friction” strategy being used to disrupt apex predators, including actors in the ransomware ecosystem.\n",
      "\n",
      "The strategy includes multi-agency advisories with specific warnings about targeted APT activity and the use of direct attribution on social media to expose tools and IOCs to help defenders. This high-quality attribution is crucial for the level of .gov information sharing that leads to REvil gang arrests.\n",
      "\n",
      "Attribution can be a tricky discipline but its value has never been more urgent.\n",
      "\n",
      "It's important for the cybersecurity industry to understand the twists and turns of the ransomware ecosystem, even when governments and diplomats take control of the conversations.\n",
      "\n",
      "Related: Russia Lays the Smackdown on REvil Ransomware Gang\n",
      "\n",
      "Related: Ukraine Hacks Add to Worries of Cyber Conflict With Russia\n",
      "\n",
      "Related: DarkSide Ransomware Shutdown: An Exit Scam or Running for Hills\n",
      "\n",
      "Related: REvil Ransomware Gang Hit by Law Enforcement Hack-Back Operation\n",
      "\n",
      "Related: US Treasury Sanctions Crypto Exchange in Anti-Ransomware Crackdown\n",
      "\n",
      "Virtual Event: Registration open for Ransomware Resilience & Recovery Summit - Jan. 26\n"
     ]
    }
   ],
   "source": [
    "# Let us print out a random article\n",
    "\n",
    "print(corpus.text.iloc[35])"
   ]
  },
  {
   "cell_type": "markdown",
   "id": "0916c8c4-8ab0-4fff-a82b-fa7100e4ee60",
   "metadata": {},
   "source": [
    "### Embeddings/Feature Extraction\n",
    "\n",
    "First, we get embeddings for our corpus using a specific model.  We use the 'all-MiniLM-L6-v2' for symmetric queries, and any of the MSMARCO models for asymmetric queries.  The difference between symmetric an asymmetric queries is that the query and the sentences are roughly the same length in symmetric queries.  In asymmetric queries, the query is much smaller than the sentences.\n",
    "\n",
    "This is based upon the documentation on sentence-bert's website."
   ]
  },
  {
   "cell_type": "code",
   "execution_count": 17,
   "id": "180614cc-687f-42a4-b987-5f34fc9dd6bf",
   "metadata": {
    "collapsed": true,
    "jupyter": {
     "outputs_hidden": true
    },
    "tags": []
   },
   "outputs": [
    {
     "name": "stderr",
     "output_type": "stream",
     "text": [
      "/opt/conda/envs/mggy8413/lib/python3.10/site-packages/tqdm/auto.py:21: TqdmWarning: IProgress not found. Please update jupyter and ipywidgets. See https://ipywidgets.readthedocs.io/en/stable/user_install.html\n",
      "  from .autonotebook import tqdm as notebook_tqdm\n",
      "/opt/conda/envs/mggy8413/lib/python3.10/site-packages/transformers/utils/hub.py:123: FutureWarning: Using `TRANSFORMERS_CACHE` is deprecated and will be removed in v5 of Transformers. Use `HF_HOME` instead.\n",
      "  warnings.warn(\n",
      ".gitattributes: 100%|██████████| 391/391 [00:00<00:00, 170kB/s]\n",
      "1_Pooling/config.json: 100%|██████████| 190/190 [00:00<00:00, 447kB/s]\n",
      "README.md: 100%|██████████| 3.73k/3.73k [00:00<00:00, 5.02MB/s]\n",
      "config.json: 100%|██████████| 683/683 [00:00<00:00, 1.04MB/s]\n",
      "config_sentence_transformers.json: 100%|██████████| 122/122 [00:00<00:00, 418kB/s]\n",
      "merges.txt: 100%|██████████| 456k/456k [00:00<00:00, 8.51MB/s]\n",
      "pytorch_model.bin: 100%|██████████| 329M/329M [00:08<00:00, 36.6MB/s] \n",
      "sentence_bert_config.json: 100%|██████████| 53.0/53.0 [00:00<00:00, 128kB/s]\n",
      "special_tokens_map.json: 100%|██████████| 772/772 [00:00<00:00, 1.73MB/s]\n",
      "tokenizer.json: 100%|██████████| 1.36M/1.36M [00:00<00:00, 57.4MB/s]\n",
      "tokenizer_config.json: 100%|██████████| 1.20k/1.20k [00:00<00:00, 3.56MB/s]\n",
      "vocab.json: 100%|██████████| 798k/798k [00:00<00:00, 21.4MB/s]\n",
      "modules.json: 100%|██████████| 229/229 [00:00<00:00, 843kB/s]\n"
     ]
    },
    {
     "name": "stdout",
     "output_type": "stream",
     "text": [
      "Sentence: This framework generates embeddings for each input sentence\n",
      "Embedding: [-1.94026753e-01 -1.22946471e-01 -1.03668034e-01 -5.60734451e-01\n",
      "  1.10684834e-01  6.79869235e-01 -6.36456683e-02 -7.55183518e-01\n",
      "  7.56757021e-01  2.64225602e-01 -1.42992526e-01  3.98469806e-01\n",
      "  1.76254317e-01 -1.42204297e+00 -2.50023752e-01  6.46364130e-03\n",
      "  4.95951176e-01  4.63492960e-01 -1.50223663e-02  8.64237010e-01\n",
      "  1.83196366e-01 -8.47510576e-01 -7.40250051e-01 -1.01876450e+00\n",
      " -1.04469287e+00  5.33529937e-01  7.04184294e-01  3.23025227e-01\n",
      " -1.34202325e+00 -1.40403345e-01 -1.69760987e-01  9.34997261e-01\n",
      " -3.45070988e-01  4.92123514e-02  1.28698675e-02 -1.90801159e-01\n",
      "  5.31530082e-01 -3.53034884e-01 -9.99689162e-01  1.29575148e-01\n",
      "  8.10616910e-01  5.22234738e-01 -7.57189989e-01 -2.42323816e-01\n",
      "  4.81891304e-01 -2.24909976e-01  5.87175131e-01 -9.55266297e-01\n",
      " -2.80446976e-01 -5.75490929e-02  1.38305891e+00 -6.43579364e-02\n",
      " -2.80887365e-01 -2.96109200e-01  6.02367103e-01 -6.88801706e-01\n",
      " -3.63944769e-01  1.24548338e-01  1.68449268e-01 -3.52236420e-01\n",
      " -5.34670532e-01  1.07049555e-01  1.89601243e-01  4.98377800e-01\n",
      "  5.57314813e-01  9.96690150e-03  1.11395925e-01 -3.20706636e-01\n",
      " -5.68632305e-01 -2.54594833e-01 -1.17988825e-01  2.34521106e-01\n",
      "  4.05368246e-02 -8.24390471e-01  6.77566230e-01 -8.15773487e-01\n",
      "  6.42071605e-01 -7.75033176e-01 -2.13417754e-01  6.85814083e-01\n",
      "  1.00933182e+00  3.57063204e-01 -4.13770437e-01  3.37253183e-01\n",
      " -3.41041721e-02 -3.45317006e-01  2.80251224e-02  9.73951578e-01\n",
      " -6.43463284e-02 -6.06842458e-01 -3.48319054e-01 -5.75610362e-02\n",
      " -6.01035416e-01  1.48180997e+00  2.74765462e-01  6.42698467e-01\n",
      "  2.52264529e-01 -1.33694649e+00  2.61822164e-01 -1.21892028e-01\n",
      "  1.12433136e+00  3.23991567e-01  1.90715685e-01  1.06098719e-01\n",
      " -5.28269172e-01  1.66739702e-01  4.35670823e-01  3.07411373e-01\n",
      " -7.34457195e-01 -2.05262259e-01  1.22825585e-01  1.61016837e-01\n",
      "  4.43146855e-01  2.64934987e-01  8.47648203e-01 -7.37871304e-02\n",
      "  2.99922973e-01  3.89373749e-01  3.17177810e-02  5.00585675e-01\n",
      " -2.81463891e-01 -8.12775195e-01 -5.90420842e-01 -1.62012473e-01\n",
      " -6.17274344e-01  3.92245620e-01  6.67507887e-01  7.01212645e-01\n",
      " -1.29788280e+00  4.20975715e-01  6.82982728e-02  1.05026770e+00\n",
      "  1.90296575e-01  1.57451645e-01 -1.27690181e-01  1.70818016e-01\n",
      " -5.59714973e-01  2.86618143e-01  6.88184440e-01  1.76241711e-01\n",
      " -2.90351242e-01  5.54080784e-01  3.53000134e-01 -9.71634865e-01\n",
      "  5.82877040e-01  7.67539442e-02 -8.55225027e-02  1.64016202e-01\n",
      " -4.47867304e-01 -2.59355128e-01  1.27354860e-01  9.79057133e-01\n",
      "  3.73845577e-01  2.00499371e-02  3.08634609e-01 -8.47880363e-01\n",
      " -2.75357723e-01  4.34404045e-01  6.07398510e-01  1.44445255e-01\n",
      "  3.02737802e-01 -8.48591998e-02  7.59579390e-02  2.25079954e-01\n",
      "  3.31507504e-01 -3.65941852e-01  4.87931341e-01 -2.12545112e-01\n",
      " -6.65542066e-01  3.48111391e-01  2.20464528e-01 -3.09980899e-01\n",
      " -8.39646518e-01 -3.30512255e-01 -4.15750504e-01 -2.79508740e-01\n",
      " -1.40072510e-01  1.84453085e-01 -1.54586613e-01  5.54982722e-01\n",
      " -5.79781592e-01 -3.45990032e-01 -1.88777611e-01 -1.06845371e-01\n",
      " -3.00893933e-01 -4.41066593e-01  6.00923777e-01  4.12963659e-01\n",
      "  5.86518943e-01  2.00733364e-01  1.36600304e+00 -1.49683580e-01\n",
      " -1.08713530e-01 -5.95987737e-01 -3.16460915e-02 -6.61389351e-01\n",
      "  7.37694085e-01  7.15091750e-02 -3.63184452e-01 -6.92548528e-02\n",
      "  2.76804239e-01 -9.55267191e-01 -9.52276886e-02  4.58616734e-01\n",
      " -4.26264495e-01 -4.42463160e-01  1.27646729e-01 -9.39838588e-01\n",
      " -1.15567468e-01 -6.55211508e-01  7.31721878e-01 -1.57167566e+00\n",
      " -1.10542130e+00 -9.03355539e-01 -5.43097734e-01  7.95553446e-01\n",
      " -7.07988022e-03 -2.85226911e-01  9.28430557e-01  9.71571580e-02\n",
      " -3.96224171e-01  4.94155407e-01  5.37391365e-01 -3.39529425e-01\n",
      "  3.68308067e-01 -1.28579617e-01 -1.05017126e+00  4.17594075e-01\n",
      "  2.48605058e-01 -9.68260542e-02 -3.59232098e-01 -1.08622730e+00\n",
      " -1.00478321e-01  2.23072469e-01 -4.37571526e-01  1.38826263e+00\n",
      "  7.68635571e-01 -1.42440990e-01  6.20768607e-01 -2.65000314e-01\n",
      "  1.35476005e+00  2.88145721e-01 -1.43894210e-01 -2.99537063e-01\n",
      "  6.31549954e-02 -2.51712322e-01 -1.38677746e-01 -5.41012585e-01\n",
      "  1.47185072e-01 -1.49833366e-01 -7.15740681e-01  2.88314611e-01\n",
      " -6.38389409e-01  3.16053748e-01  7.71043360e-01  1.43179834e-01\n",
      "  1.48212165e-02  4.73498911e-01  8.03197920e-01 -1.08405864e+00\n",
      " -5.70262015e-01 -4.76538651e-02  5.26882291e-01 -2.81869859e-01\n",
      " -1.13989723e+00 -7.62864351e-01  2.67617404e-03 -5.99309504e-01\n",
      "  5.08215614e-02  3.48603800e-02 -1.31660938e-01  3.43350083e-01\n",
      "  1.47039965e-01  3.29475582e-01 -2.65228122e-01 -1.64056227e-01\n",
      "  1.84712455e-01 -1.64587021e-01  2.68282324e-01 -1.01048298e-01\n",
      "  3.19146961e-01 -1.23163387e-02  8.56841326e-01  2.03407004e-01\n",
      " -3.81547093e-01 -6.64151371e-01  1.32862222e+00  3.04318756e-01\n",
      "  3.39265376e-01  4.92733508e-01 -1.24012329e-01 -7.18624115e-01\n",
      "  7.86116898e-01 -1.71104655e-01 -6.88624442e-01 -5.21284342e-01\n",
      "  3.24477285e-01 -6.42667234e-01 -4.49099094e-01 -1.64437783e+00\n",
      " -1.15677440e+00  1.04355645e+00 -3.67200464e-01  4.36934203e-01\n",
      " -3.68611693e-01 -5.88484526e-01  1.77582100e-01  4.92794722e-01\n",
      " -1.17947496e-01 -3.62114757e-01 -8.98679972e-01  1.27371371e-01\n",
      "  1.12385176e-01  7.67848909e-01 -5.89435995e-01 -1.44602627e-01\n",
      " -1.09177697e+00  8.49221051e-01  5.22653401e-01  2.08491519e-01\n",
      " -5.28513014e-01 -4.64428335e-01  4.48831171e-01  5.75599492e-01\n",
      " -3.98134202e-01  9.21166241e-01  3.45953554e-01 -1.62111893e-01\n",
      " -1.04399778e-01 -2.50324517e-01  3.00041944e-01 -6.02200925e-01\n",
      "  1.75129041e-01  4.32528883e-01 -5.86885750e-01 -3.32548469e-01\n",
      " -3.95462871e-01 -5.57754815e-01 -4.48470950e-01 -2.77211308e-01\n",
      "  8.81523117e-02 -6.36177540e-01  3.19960475e-01  7.60708988e-01\n",
      "  3.15277606e-01  4.44415003e-01  6.47633135e-01 -2.63870507e-02\n",
      "  5.25060594e-01 -1.61294714e-01 -1.55720308e-01  8.36495638e-01\n",
      " -9.65523899e-01  3.01889509e-01  1.69886574e-01 -3.05454377e-02\n",
      "  1.86375260e-01  1.04047947e-01  2.38540154e-02 -6.64686024e-01\n",
      "  7.24216521e-01  3.38430434e-01 -5.57187498e-01 -6.26726031e-01\n",
      "  2.66006649e-01  7.35096276e-01 -9.07033443e-01  3.59426230e-01\n",
      "  6.95876598e-01 -7.21453607e-01  2.58154988e-01  5.54193199e-01\n",
      "  5.41523099e-04 -7.63940275e-01  3.79112154e-01  1.46436840e-01\n",
      "  5.97151935e-01 -7.88239300e-01 -3.30818504e-01  3.47732514e-01\n",
      " -9.91573870e-01  1.00135553e+00 -7.29097188e-01  6.53858840e-01\n",
      "  8.88706207e-01  7.92917684e-02  5.46956956e-01 -1.07456076e+00\n",
      "  2.40587756e-01 -2.27807209e-01 -5.90185344e-01  1.93599924e-01\n",
      " -2.94736087e-01  6.93159878e-01  5.71026325e-01 -5.83261102e-02\n",
      "  7.66058266e-01 -1.13303590e+00 -2.08591402e-01  7.20142186e-01\n",
      "  5.14323950e-01 -2.17918143e-01  5.63960522e-02  1.05543685e+00\n",
      "  3.60623628e-01 -8.86409521e-01  6.73738241e-01 -6.02494776e-01\n",
      "  2.93799639e-01  3.85887116e-01 -7.39044771e-02 -6.01254404e-01\n",
      "  4.93471712e-01  4.23361093e-01  4.78618354e-01 -2.05086768e-02\n",
      "  1.23452716e-01  3.61531019e-01 -6.02923334e-01  3.94695014e-01\n",
      " -6.17297411e-01  4.17496681e-01  1.88823760e-01  6.38140857e-01\n",
      " -2.95579106e-01 -1.13238789e-01 -2.92232990e-01  1.89025719e-02\n",
      "  8.18752721e-02  2.89109677e-01 -4.24625307e-01  1.15595751e-01\n",
      "  1.10594738e+00 -4.42896456e-01  9.07223523e-02 -3.24043393e-01\n",
      " -1.41675649e-02  3.84770066e-01 -1.10512674e-01  1.47955298e-01\n",
      "  3.03251743e-02  9.41580951e-01  7.44941771e-01 -5.16233861e-01\n",
      " -1.07049942e+00 -3.39609832e-01 -9.81281102e-01  1.63674410e-02\n",
      " -3.09417397e-01  8.38646710e-01 -2.57466435e-01  2.66417056e-01\n",
      "  8.29470456e-01  1.18659770e+00  4.45776463e-01 -5.46342313e-01\n",
      "  3.46238345e-01  4.82638925e-01 -2.03869641e-01 -4.86991256e-02\n",
      " -1.36196792e-01  7.27507055e-01 -2.94586211e-01  4.04030949e-01\n",
      " -4.61239845e-01  1.53372362e-01  5.77553630e-01 -1.07578725e-01\n",
      " -1.07114136e+00 -6.10307992e-01 -1.70739457e-01  2.83243030e-01\n",
      " -2.24986538e-01  3.85358483e-01 -7.83192888e-02 -6.51502907e-02\n",
      " -4.53458190e-01  1.75708756e-01  9.54947233e-01 -4.80353922e-01\n",
      "  3.67994346e-02  3.07653278e-01  9.76267099e-01 -2.82786399e-01\n",
      " -5.11632621e-01 -5.04429877e-01  2.25381270e-01  5.29596269e-01\n",
      " -1.00188501e-01  3.30983996e-02 -4.25292015e-01 -2.50480860e-01\n",
      "  7.80557692e-01 -3.06185842e-01  1.09467365e-01 -6.34019911e-01\n",
      "  3.03106368e-01 -1.41973746e+00 -4.36300963e-01  3.82954836e-01\n",
      "  2.25168154e-01 -3.14564556e-01 -2.14847490e-01 -7.26124287e-01\n",
      "  4.01522905e-01  1.61229193e-01 -2.14475557e-01 -8.14744383e-02\n",
      "  1.44952476e-01  4.35495764e-01  1.60962239e-01  8.42103899e-01\n",
      "  4.83167499e-01 -1.81478355e-02 -3.72209787e-01 -8.54205266e-02\n",
      " -1.25429201e+00  6.33917972e-02 -3.04254442e-01  1.19559906e-01\n",
      " -4.54790026e-01 -6.71518266e-01  8.25445354e-02  8.15792158e-02\n",
      "  8.27028513e-01 -3.20302337e-01 -6.09917045e-01 -2.28958264e-01\n",
      " -3.23811531e-01 -5.48928916e-01 -7.08899796e-01  5.72744608e-01\n",
      " -9.07645822e-02  2.64599085e-01  2.70573050e-01 -9.85758781e-01\n",
      " -2.44654119e-01 -3.91785175e-01  2.55578488e-01 -6.70407295e-01\n",
      " -1.21352947e+00 -3.58353972e-01  9.98406351e-01  6.14021182e-01\n",
      "  5.54477163e-02  2.67768949e-01  6.59717977e-01  6.53219074e-02\n",
      " -4.38049287e-01  9.86245930e-01 -2.51958549e-01  7.89943039e-01\n",
      " -7.73840845e-01  5.97827911e-01 -2.22646654e-01  4.02280800e-02\n",
      " -2.87521482e-01  3.42817515e-01 -2.41310313e-01  1.77004158e-01\n",
      " -9.65370610e-02  9.10423279e-01  4.00543898e-01  5.33567555e-02\n",
      " -2.18828097e-01 -2.59988517e-01 -2.06984773e-01  3.85516554e-01\n",
      "  9.66344535e-01  2.62666523e-01 -5.70590973e-01  9.91980076e-01\n",
      "  2.98638910e-01  9.17680562e-01 -9.80460346e-01 -5.94706833e-02\n",
      " -9.55569744e-02  8.68821204e-01 -6.75058365e-01 -2.41459921e-01\n",
      " -8.95355999e-01  4.71444994e-01 -2.14758083e-01  5.96137702e-01\n",
      " -6.81212470e-02 -1.22944182e-02 -3.48113060e-01  9.15873423e-02\n",
      " -8.74245226e-01 -6.46881282e-01 -2.76604414e-01 -4.86592054e-01\n",
      "  3.61363500e-01 -4.31284308e-01 -2.53119230e-01 -2.11931542e-01\n",
      "  7.04253912e-02  1.43149838e-01 -7.21812069e-01 -7.77529776e-01\n",
      " -2.66693234e-01  2.54975781e-02  3.14531446e-01  2.98289448e-01\n",
      "  4.59119409e-01  4.35666919e-01 -6.02146327e-01 -3.29306990e-01\n",
      "  2.72133380e-01  2.44669821e-02  3.10772181e-01 -6.65003061e-01\n",
      "  3.58248085e-01  3.00383389e-01 -3.64194274e-01 -5.12525439e-01\n",
      "  2.16460586e-01  5.01621187e-01  2.53828675e-01 -1.22401416e+00\n",
      "  4.61754203e-01 -1.53161362e-01 -2.68886298e-01  1.27812374e+00\n",
      " -1.07412541e+00 -4.94798034e-01  6.21693432e-01  4.18770939e-01\n",
      "  7.43999481e-01  2.84353346e-01  1.35037258e-01  8.22464049e-01\n",
      "  5.11462212e-01 -2.76414931e-01  3.26247573e-01 -4.85349864e-01\n",
      "  4.11562234e-01 -1.19246840e-01 -1.61334321e-01 -7.34282732e-01\n",
      " -9.41175163e-01 -1.15899503e+00 -2.58182973e-01 -4.81391162e-01\n",
      "  1.41962931e-01 -1.07253216e-01 -2.61296835e-02 -4.07726973e-01\n",
      "  3.95175934e-01  9.52931404e-01 -6.57292381e-02 -5.97879589e-01\n",
      " -4.26192641e-01  2.06618607e-01  6.77785575e-01 -1.12915134e+00\n",
      " -7.80459866e-02  3.37206334e-01 -6.69076666e-02  6.15011096e-01\n",
      " -2.87120134e-01 -2.27136746e-01 -2.42562532e-01 -2.03058660e-01\n",
      " -2.77407557e-01 -3.84486794e-01  1.71700642e-01  1.32659769e+00\n",
      " -1.54341742e-01 -9.40676928e-02 -3.46466452e-01  3.97526532e-01\n",
      " -3.61105919e-01  1.07136905e+00 -7.35428035e-01  4.52007025e-01\n",
      " -3.94796699e-01 -5.93080342e-01 -1.30981460e-01  2.37584516e-01\n",
      " -5.63736260e-01  7.58668721e-01  9.55792427e-01  3.89002204e-01\n",
      "  6.69344425e-01 -4.48577791e-01 -5.99645615e-01 -5.11237323e-01\n",
      " -6.01219594e-01 -3.33563656e-01  3.43441367e-02  1.24906369e-01\n",
      " -3.98856640e-01 -4.00449425e-01 -1.91573367e-01 -9.40701544e-01\n",
      " -1.97319195e-01 -1.99874476e-01 -3.46652456e-02 -1.74211428e-01\n",
      " -9.32460487e-01 -6.68439046e-02  3.58897477e-01  2.40670264e-01\n",
      "  1.68707609e-01  2.12407336e-01  3.82853150e-02  4.22058910e-01\n",
      "  7.49818623e-01 -6.04371190e-01 -5.07282078e-01  6.40344143e-01\n",
      " -4.69703436e-01 -6.06814563e-01 -2.10751727e-01  5.21381907e-02\n",
      " -1.81017425e-02  3.84092212e-01 -1.14480197e+00 -3.46425980e-01\n",
      "  4.44304794e-01  3.00263375e-01  9.76041779e-02  1.52970299e-01\n",
      "  1.78943336e-01 -2.96392947e-01 -4.73999232e-01 -6.50664151e-01\n",
      " -1.90126196e-01  1.75953791e-01  1.06422484e+00  6.82281256e-01\n",
      "  6.07434511e-01 -4.69580799e-01  2.85443813e-01  1.47230959e+00\n",
      "  6.49958372e-01 -4.16353941e-01 -2.71410197e-01 -4.02401060e-01\n",
      "  4.31929916e-01 -1.11652708e+00  9.89714801e-01 -4.93843645e-01\n",
      "  2.96220750e-01  6.49991453e-01  1.71276167e-01 -3.89997333e-01\n",
      "  2.96082228e-01 -6.96498811e-01  1.15289032e+00  5.26634514e-01\n",
      " -1.92738497e+00 -2.08714440e-01  2.58086026e-01 -2.02861443e-01\n",
      " -7.30242491e-01  9.42804158e-01 -1.71018437e-01  4.25120831e-01\n",
      "  5.78499734e-01  5.67792714e-01 -3.58646303e-01 -4.07528490e-01\n",
      "  1.21926451e+00 -4.26342458e-01  4.62175766e-03  9.98993695e-01]\n",
      "\n",
      "Sentence: Sentences are passed as a list of string.\n",
      "Embedding: [-1.16906427e-01 -3.39530110e-01  2.95595616e-01  6.28463507e-01\n",
      " -1.21640182e+00  1.65200937e+00 -3.72159809e-01  1.22192718e-01\n",
      "  1.43514112e-01  1.89907873e+00  7.67186642e-01  1.97850570e-01\n",
      " -3.00641805e-01  2.56379396e-01 -3.48131925e-01 -4.73126650e-01\n",
      "  1.08252883e+00  2.98562765e-01  7.63341725e-01  8.66353214e-01\n",
      "  4.58364397e-01 -9.81928825e-01  2.39390507e-01 -2.22515926e-01\n",
      " -1.33060649e-01 -9.96132791e-02  3.78245860e-01  6.10264063e-01\n",
      " -2.39596471e-01 -6.06569707e-01 -1.00376737e+00  1.12918293e+00\n",
      "  1.00350954e-01 -3.09984893e-01  5.68390548e-01  4.60176796e-01\n",
      "  5.56804180e-01 -9.56280410e-01 -1.07998073e+00 -8.21259320e-02\n",
      " -5.05553782e-01  4.20839638e-01 -9.42075014e-01 -1.94354162e-01\n",
      " -7.87233829e-01 -3.89430553e-01  6.93552911e-01 -1.27062425e-01\n",
      " -3.93039994e-02 -3.24398011e-01  2.25297913e-01 -4.44826573e-01\n",
      "  3.83224934e-01  1.55420229e-01 -4.00179535e-01  5.34262002e-01\n",
      " -7.52259076e-01 -1.48048401e+00 -3.27409953e-01 -6.32045493e-02\n",
      "  2.56293565e-01 -6.87813103e-01 -5.23867190e-01 -8.44655037e-02\n",
      "  7.01583564e-01 -5.68879426e-01 -3.34130734e-01  3.62066299e-01\n",
      " -2.21194327e-01  2.73136884e-01  1.07009542e+00 -8.99545252e-01\n",
      " -1.09715128e+00 -4.02705997e-01  4.93271589e-01 -1.13299310e+00\n",
      " -1.01656161e-01  1.21973050e+00  2.00954035e-01  6.92954242e-01\n",
      "  1.01618135e+00  9.38402236e-01  1.15314364e-01  1.12252986e+00\n",
      " -3.70449871e-01 -3.82418305e-01 -5.63913621e-02 -6.26985729e-01\n",
      "  1.02046466e+00  4.74569649e-01  2.05626592e-01 -2.17339441e-01\n",
      "  1.67205021e-01  4.19095419e-02 -2.10443601e-01  4.12338704e-01\n",
      "  2.06380442e-01 -5.14171839e-01  3.42742831e-01 -6.01808310e-01\n",
      "  2.28809655e-01  4.86289382e-01 -8.57146263e-01  4.29493040e-02\n",
      " -5.76607287e-01 -5.80542147e-01  1.24514174e+00 -4.79772598e-01\n",
      " -3.29002179e-02  1.63348198e-01 -2.32700989e-01  6.50418818e-01\n",
      "  5.11511266e-01  4.20596838e-01  8.68813217e-01 -6.27200067e-01\n",
      "  1.10752141e+00 -1.90651610e-01  8.90402719e-02  2.78722763e-01\n",
      " -2.18247935e-01  3.38913053e-01 -3.35250974e-01  4.99916315e-01\n",
      " -6.69480383e-01  1.10689543e-01  8.38254452e-01 -3.01222593e-01\n",
      " -1.18903160e+00 -2.68499870e-02  6.16425097e-01  1.19437897e+00\n",
      "  5.95553577e-01 -1.32277024e+00  1.98763654e-01 -2.30663791e-01\n",
      " -7.13005006e-01  2.79663354e-02  7.10063636e-01  3.44211727e-01\n",
      "  8.25602636e-02  2.76916891e-01  7.48485267e-01 -3.27318281e-01\n",
      "  1.07345390e+00  3.40998799e-01  3.17850381e-01  4.49840426e-01\n",
      "  4.13322210e-01  9.21601877e-02 -2.65353769e-01  1.64882147e+00\n",
      " -3.41724515e-01  3.83047611e-01  3.46933715e-02  1.15816690e-01\n",
      " -5.06707013e-01 -9.16419685e-01  6.92660153e-01 -1.91819847e-01\n",
      "  4.06172514e-01  3.52778196e-01  1.16980880e-01  1.12070417e+00\n",
      "  9.78734076e-01  6.79819211e-02  8.12346041e-01 -1.63415834e-01\n",
      " -4.97115821e-01  1.41053334e-01  1.21359527e-01  1.46335140e-01\n",
      " -7.41518795e-01 -6.45966053e-01 -1.24297166e+00 -7.96830714e-01\n",
      "  1.20228687e-02 -7.87057638e-01  6.79720640e-01 -2.38566920e-01\n",
      " -5.98563135e-01 -7.69117534e-01 -3.11014533e-01 -6.62289083e-01\n",
      "  1.29007651e-02 -4.72290844e-01  6.81381941e-01 -4.00672913e-01\n",
      "  2.86585122e-01 -9.39205468e-01  9.26605165e-01  1.39040902e-01\n",
      "  2.27116659e-01  1.29718792e+00 -2.83729464e-01 -1.75453627e+00\n",
      "  5.14368176e-01  1.06682293e-01  9.78547633e-01 -1.69397011e-01\n",
      "  2.32441559e-01 -5.80134131e-02 -2.61542290e-01  7.10425377e-01\n",
      " -8.07003081e-01 -3.24614614e-01 -2.31424972e-01  1.46880284e-01\n",
      " -1.99358985e-01 -7.85942018e-01  4.01072145e-01  3.64469081e-01\n",
      " -1.64785945e+00  3.43261391e-01  6.66369379e-01  3.20747852e-01\n",
      "  7.45556176e-01  1.49886370e+00  4.15917970e-02  2.38673389e-01\n",
      "  3.11245948e-01  1.11624874e-01  7.58127213e-01 -5.90230405e-01\n",
      "  7.38683999e-01 -3.79376322e-01 -4.98532921e-01 -5.99652380e-02\n",
      " -4.13518339e-01  5.47317922e-01  2.37316146e-01 -2.11386514e+00\n",
      " -3.93649228e-02  1.37291089e-01  2.58059323e-01  1.37962866e+00\n",
      "  1.65988818e-01  6.67002723e-02  3.37507576e-01 -5.14430344e-01\n",
      "  4.13343072e-01 -2.81219512e-01 -2.19349340e-01 -5.69459081e-01\n",
      " -4.63474303e-01  5.79096138e-01 -4.88767833e-01  1.13501036e+00\n",
      "  2.89164901e-01  1.12575181e-01  2.79256135e-01  4.80988652e-01\n",
      " -5.67966282e-01 -5.34343161e-02 -9.01518881e-01 -3.24263990e-01\n",
      " -2.45776772e-01 -4.92247075e-01  1.03530455e+00  9.57974255e-01\n",
      "  4.51066285e-01 -9.26326454e-01  1.34554327e+00 -3.74586195e-01\n",
      "  2.47376546e-01 -1.81936204e-01 -2.40810111e-01 -5.23641193e-03\n",
      " -3.87806892e-01 -4.16272491e-01 -1.71080843e-01  3.55579585e-01\n",
      "  8.26952532e-02  1.00085485e+00 -5.76247454e-01 -1.80821300e-01\n",
      "  8.64279449e-01 -5.98723531e-01 -7.60922849e-01 -2.56919116e-01\n",
      "  3.39388758e-01 -4.09686595e-01  3.79985534e-02  5.18352270e-01\n",
      " -1.36770591e-01  3.60791117e-01 -1.16105109e-01  1.77926958e-01\n",
      " -1.48968816e-01  4.53826189e-01 -6.20274067e-01 -1.56975836e-01\n",
      " -7.03017533e-01  9.73927319e-01  2.12830380e-01  5.20101190e-02\n",
      " -1.31684408e-01 -4.94676709e-01 -6.14996731e-01 -2.58644581e-01\n",
      " -7.12190628e-01  1.17969358e+00 -1.86769709e-01  7.47682869e-01\n",
      "  1.40398815e-01  1.88243091e-01  1.12703316e-01  3.15180749e-01\n",
      " -1.09888591e-01  1.92593131e-02  8.62525463e-01  4.12413329e-01\n",
      "  1.97270989e-01  3.58973294e-02  2.80339450e-01 -1.11711740e-01\n",
      " -1.95807174e-01 -8.96784365e-01 -8.74943495e-01 -5.09607196e-01\n",
      "  2.54793793e-01 -1.11524872e-01  4.84610230e-01  2.03405812e-01\n",
      " -1.28510666e+00  6.13452911e-01 -7.62467444e-01 -4.45492834e-01\n",
      "  8.98255587e-01 -4.65354472e-01 -2.69756407e-01  6.43096745e-01\n",
      " -1.17004313e-01  1.26670986e-01  7.34534487e-02 -6.00619614e-02\n",
      "  2.99075156e-01 -2.24283025e-01 -1.75984219e-01  6.67618334e-01\n",
      " -6.75170362e-01  3.97940069e-01  2.71357298e-01 -7.92277753e-02\n",
      " -2.15837434e-01 -1.67163447e-01  3.36395174e-01  5.76823771e-01\n",
      "  4.60953861e-01 -6.98052347e-01  2.63511211e-01  7.60804176e-01\n",
      " -5.87762296e-01  8.38262260e-01  3.91144902e-01 -4.16893154e-01\n",
      "  3.68823856e-01 -3.06230336e-02  3.03764254e-01 -6.96085691e-01\n",
      " -6.19741380e-01 -6.71980441e-01  4.05087113e-01  2.55810171e-01\n",
      "  7.36331701e-01  1.07302420e-01  8.99604380e-01  3.40113401e-01\n",
      "  2.11659912e-02 -3.83403778e-01  4.60269809e-01 -1.18837185e-01\n",
      "  1.00144021e-01 -2.24259877e+00  1.93747338e-02 -7.39750788e-02\n",
      " -8.71745288e-01  8.03703785e-01  1.01660287e+00  2.40651324e-01\n",
      " -2.53779620e-01 -4.69365954e-01 -2.86698371e-01  2.74047792e-01\n",
      "  7.87154809e-02 -1.53373897e-01 -2.92662174e-01 -2.36835957e-01\n",
      "  1.95323750e-01  2.89674252e-01  1.05472898e+00 -1.23539770e+00\n",
      " -5.54235220e-01 -2.46516615e-02  1.38152875e-02 -7.63832510e-01\n",
      "  6.22973144e-01 -3.92606929e-02  7.64602423e-02  5.43340407e-02\n",
      "  6.10556543e-01  1.02582246e-01  2.56898165e-01  1.37819707e-01\n",
      "  4.16399688e-01 -1.39033079e-01  1.24321707e-01  6.18482120e-02\n",
      "  5.80244362e-01 -5.59255719e-01  1.20674439e-01  4.10760552e-01\n",
      "  1.28601357e-01 -3.12268317e-01  3.42458844e-01 -1.27689645e-01\n",
      " -3.82214002e-02 -9.15540397e-01 -1.02993572e+00  3.61140013e-01\n",
      " -3.60446602e-01  5.16319454e-01 -5.18504262e-01  6.51507616e-01\n",
      " -5.95811248e-01  2.35786512e-01  5.75912654e-01 -5.66179812e-01\n",
      " -1.10639952e-01 -7.76338518e-01 -2.11644605e-01 -8.05814743e-01\n",
      "  8.35742950e-01 -2.62212545e-01  7.90670633e-01 -3.43366027e-01\n",
      " -3.72239321e-01 -4.08376493e-02  1.12646019e+00 -1.66462982e+00\n",
      "  3.08841735e-01  7.88043797e-01  7.16356814e-01 -5.27685046e-01\n",
      " -8.58412981e-01 -4.89941597e-01 -6.18518472e-01 -5.47998130e-01\n",
      "  2.82600135e-01  2.53601819e-02 -2.31744111e-01 -1.62023008e-02\n",
      "  3.90202790e-01  4.31031495e-01  1.22245109e+00 -8.24960709e-01\n",
      " -4.07059669e-01  3.74508858e-01 -6.94209576e-01  3.41466337e-01\n",
      "  5.05169153e-01  3.98316145e-01  5.49142540e-01  6.20303929e-01\n",
      "  3.60187382e-01  1.61006883e-01  4.66424525e-02  4.81842160e-01\n",
      " -1.84291705e-01  4.89783406e-01  5.16658545e-01  4.50122952e-01\n",
      "  3.07244033e-01 -1.70839205e-01 -2.76717216e-01  4.60506976e-03\n",
      " -2.14468598e-01  8.68432224e-01  3.81192297e-01 -6.10564530e-01\n",
      "  7.38632500e-01  4.27025817e-02  2.78751045e-01 -1.05490148e-01\n",
      "  1.88716158e-01  3.07166070e-01 -6.19095802e-01 -2.75718868e-01\n",
      " -5.85847080e-01  8.56539667e-01  5.67891896e-01 -1.51823014e-01\n",
      "  2.37745583e-01  3.64973992e-01 -7.51305372e-02  3.16786431e-02\n",
      "  3.98023486e-01 -4.46236253e-01 -7.03080237e-01  2.52316386e-01\n",
      "  3.52889985e-01 -5.75691998e-01  1.24144828e+00  1.38289347e-01\n",
      "  3.81564885e-01 -8.19765508e-01  2.28470817e-04 -5.46364725e-01\n",
      "  2.03513443e-01  5.78800678e-01  3.69110107e-01  9.68074083e-01\n",
      " -2.43431762e-01  9.17764366e-01 -3.66043337e-02  7.57101834e-01\n",
      " -6.07912123e-01 -9.96343434e-01 -4.58301067e-01 -1.82977751e-01\n",
      " -5.52110016e-01  3.47472876e-01 -9.36147630e-01 -2.70746827e-01\n",
      "  2.48595133e-01 -5.79485707e-02  2.39616275e-01  3.35074663e-01\n",
      " -1.06118619e+00 -1.42484093e+00 -7.67819643e-01 -1.43470180e+00\n",
      " -5.37024915e-01  1.65033489e-01  4.07063276e-01 -1.52938679e-01\n",
      " -1.18532336e+00 -2.95132309e-01 -1.73252285e+00 -4.88075852e-01\n",
      " -4.30523425e-01  5.56107700e-01  6.89622879e-01  1.09164231e-01\n",
      " -5.97034514e-01 -4.75037843e-01 -4.20479290e-02  9.49334919e-01\n",
      " -5.05421817e-01  5.95862806e-01 -6.86308444e-01 -1.74919176e+00\n",
      " -4.96481985e-01  4.71894711e-01 -5.22780657e-01 -1.12564266e+00\n",
      "  1.33108413e+00 -4.00434405e-01 -2.46227786e-01 -2.05789506e-01\n",
      " -7.13342428e-01  9.93152618e-01  5.43551028e-01  1.40178755e-01\n",
      " -1.20376790e+00  1.13356730e-03 -7.26537228e-01  1.67121813e-01\n",
      "  1.23233460e-01 -7.82044649e-01 -4.97816354e-01  3.81824762e-01\n",
      " -3.73728126e-01  2.39122152e+00 -1.07404351e+00  2.29385629e-01\n",
      " -1.38386682e-01  6.94291174e-01 -3.10964763e-01  4.20644842e-02\n",
      "  9.38089311e-01 -1.04231365e-01  1.16593026e-01 -3.05112004e-01\n",
      " -9.77337137e-02 -9.86911058e-01 -1.09040804e-01 -4.07513410e-01\n",
      " -5.02027094e-01  2.71883551e-02 -2.00748086e-01 -6.90446675e-01\n",
      "  1.33138776e-01 -1.00048316e+00 -1.72360018e-01  7.12541044e-01\n",
      "  9.36333954e-01  1.94153726e-01  3.32033753e-01  4.40459371e-01\n",
      "  4.60635096e-01  2.93383807e-01 -8.14757407e-01  9.33266938e-01\n",
      "  1.13695204e+00 -3.12429160e-01  9.34469700e-01 -5.23366146e-02\n",
      "  2.66572207e-01 -1.24626791e+00 -6.47320449e-01 -1.20386472e-02\n",
      "  2.51794666e-01 -1.62435925e+00 -8.43286097e-01  7.72574246e-01\n",
      "  3.02384287e-01 -3.15416753e-01 -5.72964132e-01 -9.20166731e-01\n",
      " -1.82137206e-01 -4.98007268e-01 -7.29632437e-01  1.04492652e+00\n",
      " -6.90358400e-01 -9.51737344e-01  3.10427904e-01  7.88420856e-01\n",
      "  6.19800389e-02  3.75025882e-03 -7.25813568e-01  5.08510172e-01\n",
      " -6.10125065e-01  3.90015513e-01  4.52400178e-01 -6.01837272e-03\n",
      "  2.28873000e-01  2.35855266e-01 -9.13142785e-02  3.06746870e-01\n",
      " -3.69900346e-01 -1.39348194e-01  5.83142936e-01 -1.25550938e+00\n",
      " -8.68165120e-02  6.80030346e-01 -8.99782479e-01  8.13373625e-02\n",
      " -3.56430918e-01 -2.15153515e-01  1.38490438e-01  2.13631429e-04\n",
      "  4.07018155e-01 -4.40745741e-01  8.44455183e-01  3.03579599e-01\n",
      "  1.49657249e-01  5.79764508e-02  7.15666637e-02  1.71763241e-01\n",
      " -6.31176293e-01 -2.79558212e-01  2.62509853e-01 -3.23251896e-02\n",
      "  4.23288107e-01  3.77706051e-01  5.57582974e-01  8.59237373e-01\n",
      " -3.47557306e-01 -7.35680163e-01 -7.03000873e-02 -5.45158267e-01\n",
      "  8.58226478e-01  9.47745144e-01 -4.69266444e-01 -2.98372597e-01\n",
      "  1.17471755e-01  7.46314764e-01 -1.12414218e-01 -4.88282233e-01\n",
      " -9.37604725e-01  4.19724286e-02  7.81153738e-01 -5.68223558e-02\n",
      "  7.27754593e-01  5.69072187e-01 -7.93714523e-01  1.44074127e-01\n",
      " -4.56198126e-01 -2.51369327e-01  9.05618072e-03 -4.03465591e-02\n",
      " -3.96877766e-01 -2.11487249e-01 -4.27029580e-01 -3.86283040e-01\n",
      " -2.77999043e-01 -2.68107027e-01  3.09029728e-01 -5.82618296e-01\n",
      " -1.06567216e+00  4.17119591e-03  4.01847549e-02 -6.01722479e-01\n",
      "  4.67178196e-01  1.71983883e-01  1.02346790e+00  2.26992533e-01\n",
      "  5.59994839e-02 -6.66350424e-01 -5.41385829e-01 -2.64908403e-01\n",
      "  1.17840195e+00 -9.09025446e-02  5.70266247e-01  5.13671100e-01\n",
      " -5.46498485e-02  3.44300419e-01 -1.03550243e+00 -4.83340621e-01\n",
      "  3.63576680e-01 -6.91399336e-01  3.50902319e-01  1.29768813e+00\n",
      " -4.58699495e-01 -5.93462706e-01  1.38791487e-01 -3.23593885e-01\n",
      " -3.75319034e-01  5.54264039e-02  8.91401231e-01  4.82140034e-02\n",
      "  1.08048625e-01 -2.60419518e-01  1.30271208e+00 -1.25113916e+00\n",
      " -2.67142296e-01 -1.66046119e-03 -3.50445747e-01 -2.64513999e-01\n",
      "  8.10347497e-01 -6.63674772e-01  4.60750848e-01 -4.22019333e-01\n",
      "  1.34326026e-01  1.13470089e+00 -5.85057080e-01 -7.30284229e-02\n",
      "  2.85868347e-01 -1.50319016e+00  3.82265955e-01  4.41001505e-01\n",
      " -1.80919468e-01 -3.12278122e-01  1.30557612e-01  2.84799132e-02\n",
      " -1.06328082e+00  1.11511230e-01  1.82909518e-02  6.55073225e-01\n",
      "  3.26293796e-01  1.18603802e+00 -1.55810818e-01  1.99322402e-02\n",
      " -1.86681822e-01 -4.06430602e-01  4.99121040e-01  1.71999419e+00]\n",
      "\n",
      "Sentence: The quick brown fox jumps over the lazy dog.\n",
      "Embedding: [-2.68969208e-01 -5.03524840e-01 -1.75523594e-01  2.02556774e-01\n",
      " -2.23502859e-01 -1.07607953e-01 -1.00223994e+00 -9.82934907e-02\n",
      "  3.46169680e-01 -4.59772944e-01 -7.90716410e-01 -6.96035445e-01\n",
      " -1.47489876e-01  1.45099401e+00  1.52760923e-01 -1.37310207e+00\n",
      "  4.35587615e-01 -6.60499156e-01  3.41288477e-01  5.21309078e-01\n",
      " -3.79796147e-01  3.82933497e-01  1.93710193e-01  1.72207370e-01\n",
      "  1.11666787e+00 -1.58466920e-01 -8.79326642e-01 -1.04076612e+00\n",
      " -5.95403612e-01 -5.07739902e-01 -8.78801286e-01  5.56477726e-01\n",
      "  2.71484673e-01  1.14686418e+00  7.52792537e-01 -1.76436171e-01\n",
      "  4.71736163e-01 -3.68952900e-01  5.48888445e-01  6.86078787e-01\n",
      " -5.23310788e-02 -9.48668048e-02 -1.66674420e-01 -1.00176156e+00\n",
      "  5.21575630e-01 -9.06652510e-02  4.29446965e-01 -4.49900508e-01\n",
      "  2.51435429e-01 -2.33954430e-01 -5.11107922e-01 -3.94425720e-01\n",
      "  6.45667970e-01 -5.30599177e-01  1.85784757e-01  1.42533675e-01\n",
      " -3.00293595e-01  1.20069742e-01  4.23554808e-01 -4.89861399e-01\n",
      "  4.29552644e-01 -7.01628625e-02 -9.37449634e-02 -1.15294397e-01\n",
      " -3.64667922e-01  3.96197885e-01 -2.02278718e-01  1.08975601e+00\n",
      "  6.74838006e-01 -8.51848900e-01 -8.50431342e-03 -2.92630821e-01\n",
      " -8.90984356e-01  2.79129356e-01  7.33362734e-01 -2.50034869e-01\n",
      "  4.23965245e-01  4.33226585e-01 -3.26750040e-01 -4.49382186e-01\n",
      "  2.12669894e-01 -9.23774168e-02  8.03805366e-02 -9.57483947e-01\n",
      " -4.16921854e-01 -4.06423599e-01 -2.35503569e-01  1.82990715e-01\n",
      " -4.38782237e-02 -3.14176738e-01 -1.64121056e+00 -1.08092748e-01\n",
      "  1.26185298e-01 -2.39005014e-01  2.31036082e-01 -1.37319148e+00\n",
      " -1.09652080e-01  8.69975328e-01  5.29625416e-01 -3.94928843e-01\n",
      " -4.19800967e-01  3.17379802e-01  1.01159728e+00 -3.20727766e-01\n",
      "  7.06700325e-01 -2.87797302e-01  1.24787867e+00  1.35662451e-01\n",
      " -3.59829932e-01 -5.47928393e-01 -4.67555612e-01  2.81867564e-01\n",
      "  4.62634474e-01 -6.17995560e-02 -9.53641474e-01  2.37935230e-01\n",
      " -2.29460523e-01 -3.87111306e-01  2.52904236e-01  3.61001283e-01\n",
      "  1.38696149e-01  4.70265776e-01  4.66160864e-01  3.28223944e-01\n",
      "  5.93114495e-02 -1.63352263e+00 -2.77716726e-01  3.24460357e-01\n",
      "  4.59154606e-01  6.27263963e-01  7.00711787e-01  8.31252113e-02\n",
      " -3.90917249e-02  6.63699865e-01  6.51223123e-01 -1.23448409e-01\n",
      "  1.16297580e-01 -3.19162399e-01 -3.68011110e-02 -2.44184375e-01\n",
      "  6.71637297e-01  5.24989188e-01 -5.65380275e-01  4.64955062e-01\n",
      " -2.36028537e-01  1.26898751e-01 -8.10474217e-01 -4.33059573e-01\n",
      " -7.57938445e-01  8.53266954e-01 -3.98881912e-01  5.07005751e-01\n",
      " -1.62706137e-01 -1.30534872e-01  3.67368340e-01 -9.70499516e-01\n",
      "  3.40843081e-01  4.97943401e-01  1.58791423e-01 -2.94252932e-01\n",
      " -2.42183924e-01 -3.72528404e-01 -1.02916479e-01 -9.32458714e-02\n",
      "  5.89991987e-01  1.16003297e-01  2.60323584e-01  4.31694746e-01\n",
      " -5.11277974e-01 -6.45894468e-01  1.37274280e-01  1.14651620e+00\n",
      " -4.86506075e-01 -3.28467876e-01  3.27600062e-01  4.68084455e-01\n",
      " -2.47449279e-02 -1.60796344e-01 -1.17120713e-01 -9.79831144e-02\n",
      "  1.10103749e-01  5.45698583e-01  5.11913002e-01 -6.92725956e-01\n",
      "  9.79630277e-02  4.42452759e-01 -4.89459664e-01  2.34948888e-01\n",
      " -3.07362080e-01  6.56947136e-01  7.93625832e-01 -2.94100374e-01\n",
      " -2.89061934e-01 -1.43957615e+00  3.79291296e-01  8.70321453e-01\n",
      " -4.80793975e-02 -1.06954217e+00 -1.58590719e-01 -9.69051048e-02\n",
      "  9.12153542e-01 -1.23418260e+00  4.51984406e-01 -4.57108766e-01\n",
      " -2.01666760e+00  2.20075965e-01  5.54017782e-01  1.22555387e+00\n",
      "  3.02874684e-01  7.03862727e-01  3.94382030e-01  9.47180331e-01\n",
      "  2.24411059e-02 -5.42042434e-01  2.69550294e-01 -7.95503929e-02\n",
      " -1.07106663e-01  1.02087057e+00  1.16717279e-01  3.97928983e-01\n",
      " -3.21070939e-01 -6.07489087e-02 -3.35352272e-01 -4.89043742e-01\n",
      "  7.83755124e-01  4.48905617e-01 -3.26831967e-01 -6.30240381e-01\n",
      " -3.69371921e-01  5.18288672e-01 -2.31943667e-01  7.51048803e-01\n",
      " -9.50812399e-02  6.59680292e-02 -4.41955894e-01 -7.28520930e-01\n",
      "  5.47576189e-01  8.39056194e-01 -3.89602035e-01 -1.11769319e-01\n",
      " -1.33700669e+00 -1.93452656e-01  4.31115508e-01  5.68186522e-01\n",
      "  1.99087739e-01 -5.89395225e-01 -2.32292101e-01 -2.24908328e+00\n",
      " -2.52226263e-01 -3.92307431e-01 -4.02772784e-01  3.22516888e-01\n",
      "  1.56780124e-01  1.95240006e-01  5.58442771e-01 -6.56266630e-01\n",
      "  1.04243629e-01  7.31817901e-01 -4.68050241e-01 -9.43408191e-01\n",
      "  8.49512517e-02  3.44091326e-01  5.19126475e-01  1.76346198e-01\n",
      " -1.47554204e-02  5.23199551e-02  2.12843537e-01  1.14475124e-01\n",
      " -1.42233834e-01 -1.51223406e-01  1.82097375e-01 -4.30664301e-01\n",
      "  5.23616374e-01  5.61065376e-01 -1.14937663e-01  3.88169378e-01\n",
      " -1.85353413e-01  2.58063018e-01 -9.29597914e-01 -6.23448610e-01\n",
      " -1.90620542e-01  7.05193281e-01 -3.31303269e-01 -8.48224223e-01\n",
      "  7.35408962e-01  1.90986648e-01  1.18175375e+00 -1.31905913e-01\n",
      "  6.12539828e-01 -2.27061227e-01  6.12020016e-01 -2.15494797e-01\n",
      "  8.65323782e-01 -9.04374182e-01 -7.20959723e-01 -1.09307142e-02\n",
      "  5.78229547e-01  3.06568295e-01  1.27713993e-01  5.53308070e-01\n",
      "  3.06026012e-01  1.36258781e+00  1.49002206e+00 -5.77752411e-01\n",
      " -6.27591789e-01  5.52487671e-01 -1.07050538e-01 -7.02992857e-01\n",
      "  6.61346197e-01  1.48597705e+00 -6.77083254e-01 -4.57084775e-02\n",
      "  4.91177231e-01  4.69606042e-01  4.79630381e-01 -6.30940378e-01\n",
      "  3.36747199e-01  3.69836122e-01  1.56286553e-01 -5.31474203e-02\n",
      " -2.05093771e-02 -8.72779116e-02  4.99324918e-01  4.19809669e-01\n",
      "  2.90960193e-01 -2.08618626e-01 -9.31024253e-01  2.00260460e-01\n",
      " -1.67006969e-01  1.26128688e-01 -2.68612218e+00  6.09862171e-02\n",
      "  3.88032794e-01 -1.61151931e-01  5.81366003e-01 -8.78996074e-01\n",
      "  3.46108556e-01 -2.94365853e-01 -6.19270921e-01 -2.72759646e-02\n",
      "  2.50238180e-01 -8.14378023e-01 -9.11834463e-02  8.10586452e-01\n",
      " -3.08611821e-02  3.30791980e-01  1.92959532e-01  5.86895505e-03\n",
      " -2.81593710e-01  1.07093729e-01  4.95705456e-01 -5.93880236e-01\n",
      " -9.31355134e-02  4.96446013e-01 -6.09604359e-01 -7.22875059e-01\n",
      " -3.91720742e-01  5.72670162e-01 -9.82807353e-02 -9.71324146e-01\n",
      "  2.91548786e-03  6.50036275e-01 -3.80878359e-01  4.00920868e-01\n",
      " -5.13824821e-01  3.31710905e-01 -1.11063111e+00 -2.53363460e-01\n",
      "  2.70247310e-01  1.53764337e-01  4.10948247e-01  7.36399710e-01\n",
      "  2.56115258e-01  3.60514730e-01  1.65222570e-01 -5.48293293e-01\n",
      "  3.92309994e-01  2.21360207e-01  1.85525581e-01 -1.58027828e-01\n",
      "  7.06265867e-01 -3.98958832e-01  3.22360724e-01  6.30562231e-02\n",
      " -7.96445191e-01 -3.65186095e-01  1.66747570e-01 -3.76819938e-01\n",
      " -4.38465089e-01 -8.31743300e-01 -8.69117454e-02 -1.07136333e+00\n",
      "  1.15936685e+00 -7.67135322e-02 -4.17888075e-01  4.69102740e-01\n",
      " -8.31390202e-01  6.38638079e-01  9.34859574e-01  4.25273031e-01\n",
      " -7.34036863e-01 -2.99270242e-01  6.30385518e-01 -4.01803553e-02\n",
      "  6.99251473e-01  4.14620601e-02 -3.52736950e-01 -8.50805119e-02\n",
      " -2.99161702e-01 -2.26154733e+00  1.94242239e-01  2.13073111e+00\n",
      " -3.08788806e-01  7.76493251e-01 -3.85470778e-01  5.09763621e-02\n",
      " -3.32625628e-01 -2.70369172e-01 -2.73550868e-01  5.12204468e-01\n",
      " -1.57276336e-02 -2.03380302e-01 -9.83161852e-02 -1.08133368e-01\n",
      " -1.30143374e-01 -5.75544953e-01 -2.37111807e-01  7.66149163e-02\n",
      " -8.78035486e-01 -4.69297647e-01 -5.42065382e-01 -3.27693939e-01\n",
      "  4.26552743e-02 -3.32962684e-02  2.29725495e-01 -6.76589966e-01\n",
      "  5.90870261e-01  4.67664152e-01  4.05344591e-02 -1.01890057e-01\n",
      "  2.98107743e-01  9.38350141e-01  4.14085358e-01  3.07833821e-01\n",
      "  1.42964447e+00 -4.45302248e-01 -3.95337254e-01  2.59421974e-01\n",
      "  4.70787048e-01 -3.28690171e-01 -3.26701850e-01  4.60925549e-01\n",
      "  3.00194860e-01 -1.27617800e+00  1.93441853e-01  6.96226731e-02\n",
      "  2.50157148e-01  6.29924297e-01  4.90758605e-02 -6.81154728e-01\n",
      "  7.49542639e-02 -5.32942772e-01 -1.46872491e-01  1.52524978e-01\n",
      " -1.40324920e-01 -4.47373420e-01  5.56249440e-01  2.14512110e-01\n",
      " -1.18132555e+00 -5.53277135e-02 -1.21998131e-01  4.59377617e-01\n",
      " -7.73455918e-01  6.49327159e-01 -2.88688928e-01  2.49826208e-01\n",
      "  1.49200752e-01  8.95309821e-02 -1.65562093e-01  3.12327474e-01\n",
      " -2.94915706e-01  6.04379922e-04  1.51518926e-01 -2.43606910e-01\n",
      " -3.77415776e-01 -7.48818576e-01  1.97308734e-01  1.54566690e-01\n",
      "  2.31411830e-01 -1.31587684e-01 -9.31631386e-01  5.21845996e-01\n",
      " -1.77721962e-01 -3.30963314e-01  8.78182352e-02 -3.89436454e-01\n",
      "  1.18288994e+00  4.61943656e-01 -3.60817432e-01  9.62438658e-02\n",
      "  3.29588264e-01 -7.63411820e-01 -4.32647876e-02  3.71987730e-01\n",
      "  1.30858168e-01  3.64951879e-01 -1.14585556e-01  9.33713838e-02\n",
      "  8.79911482e-01  8.51521119e-02  5.08776307e-01  8.31995428e-01\n",
      " -3.25604826e-02 -6.76323116e-01  2.73325771e-01 -5.52082181e-01\n",
      "  7.04786360e-01 -9.38156024e-02  3.16393882e-01  9.30703402e-01\n",
      "  1.43995538e-01  1.28289923e-01  7.13750362e-01 -6.91197813e-01\n",
      " -4.63514209e-01 -5.43086648e-01  3.93340588e-01  6.55048609e-01\n",
      "  2.37008527e-01  5.90159237e-01 -1.45171511e+00 -5.42990744e-01\n",
      "  7.16488734e-02 -5.74966855e-02 -3.19812059e-01 -4.15111631e-01\n",
      " -1.15385616e+00  9.88350436e-02 -3.99327785e-01 -3.86230499e-01\n",
      " -9.66311216e-01  6.24254704e-01 -8.67876232e-01  7.91856721e-02\n",
      " -2.16634512e-01 -1.30775765e-01  5.42041719e-01 -1.27456367e-01\n",
      "  2.19354108e-01  2.45432314e-02 -1.31416485e-01 -9.94023144e-01\n",
      "  3.11670303e-01  2.79866695e-01  1.76268851e-03  2.36769259e-01\n",
      "  2.31806055e-01 -2.09278286e-01 -3.29869926e-01  5.31312346e-01\n",
      " -1.50240259e-02 -1.96521267e-01 -4.44440156e-01 -1.03522152e-01\n",
      "  1.57737479e-01 -3.42690438e-01  6.51859701e-01  5.95698416e-01\n",
      "  1.57644525e-01 -7.42945492e-01 -8.25147688e-01  8.19953442e-01\n",
      " -3.89361262e-01 -4.63993639e-01  4.91448015e-01  1.03501894e-01\n",
      " -1.43068239e-01  6.59974158e-01 -6.28924310e-01  8.06039035e-01\n",
      " -6.85657322e-01 -7.82158434e-01  9.65901315e-02 -4.44415808e-02\n",
      "  5.49143851e-01 -3.65766853e-01  9.12627056e-02 -1.57133430e-01\n",
      "  6.35211527e-01  1.13972068e-01 -1.81235090e-01  8.61219108e-01\n",
      "  1.31244108e-01  5.98486483e-01  1.65067092e-01  5.73873401e-01\n",
      "  4.87468749e-01 -1.68807805e-04 -1.20138906e-01  3.91712904e-01\n",
      "  5.30987144e-01  2.69023508e-01  1.52858406e-01 -7.95848072e-01\n",
      " -9.93978977e-01  4.33745027e-01  1.67980269e-01 -1.70952603e-01\n",
      "  3.58180374e-01  1.74466336e+00 -5.23976982e-01  4.59477663e-01\n",
      " -3.23338091e-01 -3.03671479e-01 -5.17564267e-02 -9.27554905e-01\n",
      "  1.22588478e-01  9.21691656e-01 -7.77568102e-01  7.57553577e-01\n",
      "  5.98537207e-01  1.51887909e-01 -5.41039646e-01 -6.00217469e-02\n",
      " -1.40656948e+00 -2.00708881e-01 -5.64499199e-01 -7.12800741e-01\n",
      " -6.20633423e-01  2.33131111e-01 -9.46428061e-01 -3.88114452e-01\n",
      " -3.07884157e-01 -1.85048357e-01 -5.36421724e-02  1.98028028e-01\n",
      "  6.83652461e-01  2.92166740e-01  1.00554025e+00  5.15276909e-01\n",
      "  9.16523337e-02  4.16358799e-01  1.63049176e-01  6.65169001e-01\n",
      "  4.27929759e-02  2.41374090e-01 -3.95990640e-01 -2.23520398e-02\n",
      " -1.48183778e-01 -7.48705685e-01 -9.84093904e-01 -2.63506204e-01\n",
      " -7.75049329e-02  2.21899197e-01  3.77231151e-01 -2.79826403e-01\n",
      "  4.35912699e-01  1.72022566e-01 -2.74399310e-01 -5.74139245e-02\n",
      "  3.34030867e-01  3.96052450e-01 -8.62337112e-01 -3.87750894e-01\n",
      " -2.32265726e-01 -2.47504458e-01 -1.66177571e-01 -2.38492042e-02\n",
      "  4.86695915e-01  2.90136784e-01  7.03744352e-01  2.41494477e-02\n",
      "  7.77043164e-01  6.32856414e-02  5.27289987e-01 -3.04111123e-01\n",
      "  1.47445917e+00 -3.12047511e-01 -9.46989536e-01  6.20721817e-01\n",
      " -2.51838595e-01 -4.54647660e-01  2.69545943e-01  4.68926936e-01\n",
      "  3.01602274e-01  4.27662015e-01  1.22736998e-01 -4.31586355e-01\n",
      " -3.55660886e-01  2.95266230e-02 -8.30306485e-02 -1.24135482e+00\n",
      " -9.31493700e-01  1.69711626e+00  4.80521232e-01 -3.84667367e-01\n",
      "  4.66282576e-01  2.56258160e-01 -2.17679013e-02 -1.55928719e+00\n",
      "  5.75663447e-01 -1.57456756e-01  9.48551357e-01  1.66334957e-01\n",
      " -5.28567731e-01 -5.70252001e-01 -1.46021277e-01  4.87905264e-01\n",
      "  4.78013419e-02 -5.77541292e-01  1.92396843e-03  6.13498867e-01\n",
      " -1.05793901e-01 -1.09683305e-01 -2.96361893e-02  4.35960263e-01\n",
      " -4.02660757e-01  3.87758106e-01  1.12706983e+00  9.24297199e-02\n",
      " -5.83022594e-01 -3.87693256e-01  2.39862059e-03 -5.64945519e-01\n",
      "  1.48378491e-01 -2.77033180e-01 -2.34442815e-01  1.73352826e-02\n",
      "  3.67671400e-01 -7.33667135e-01 -7.92824268e-01  6.30360723e-01\n",
      "  3.33380312e-01  4.56192762e-01 -7.72262141e-02  1.27429202e-01\n",
      " -1.78493142e-01  1.97268844e-01  1.57322991e+00  1.07754266e+00\n",
      " -1.59494743e-01 -1.17894948e-01 -1.59462199e-01 -6.25817835e-01\n",
      "  2.81546623e-01  2.70361453e-01 -4.11008269e-01  2.61917502e-01\n",
      "  1.35742232e-01  2.32770741e-01 -1.96227834e-01  1.48295105e-01\n",
      "  6.96589649e-01 -4.05376583e-01 -5.51122315e-02  6.23578914e-02\n",
      "  6.14083230e-01 -2.98538566e-01 -8.09021175e-01 -2.79872064e-02\n",
      " -9.66248691e-01 -8.61432076e-01  2.46819779e-01 -3.50682288e-01\n",
      " -1.29827082e+00 -2.78866112e-01 -3.06518614e-01  6.44666016e-01]\n",
      "\n"
     ]
    }
   ],
   "source": [
    "# Toy example with just three sentences to see what embeddings look like\n",
    "\n",
    "from sentence_transformers import SentenceTransformer\n",
    "# model = SentenceTransformer('all-MiniLM-L6-v2') #for symmetric queries\n",
    "model = SentenceTransformer('msmarco-distilroberta-base-v2') #for asymmetric queries\n",
    "#Our sentences we like to encode\n",
    "sentences = ['This framework generates embeddings for each input sentence',\n",
    "    'Sentences are passed as a list of string.',\n",
    "    'The quick brown fox jumps over the lazy dog.']\n",
    "\n",
    "#Sentences are encoded by calling model.encode()\n",
    "embeddings = model.encode(sentences)\n",
    "\n",
    "#Print the embeddings\n",
    "for sentence, embedding in zip(sentences, embeddings):\n",
    "    print(\"Sentence:\", sentence)\n",
    "    print(\"Embedding:\", embedding)\n",
    "    print(\"\")"
   ]
  },
  {
   "cell_type": "code",
   "execution_count": 18,
   "id": "9028a859-d121-4547-b31c-0be77a128c18",
   "metadata": {},
   "outputs": [
    {
     "data": {
      "text/plain": [
       "(768,)"
      ]
     },
     "execution_count": 18,
     "metadata": {},
     "output_type": "execute_result"
    }
   ],
   "source": [
    "embedding.shape"
   ]
  },
  {
   "cell_type": "code",
   "execution_count": 1,
   "id": "98957d56-c631-49ae-a8c9-f5ad9cff114f",
   "metadata": {
    "tags": []
   },
   "outputs": [
    {
     "name": "stderr",
     "output_type": "stream",
     "text": [
      "/opt/conda/envs/mggy8413/lib/python3.10/site-packages/tqdm/auto.py:21: TqdmWarning: IProgress not found. Please update jupyter and ipywidgets. See https://ipywidgets.readthedocs.io/en/stable/user_install.html\n",
      "  from .autonotebook import tqdm as notebook_tqdm\n",
      ".gitattributes: 100%|██████████| 391/391 [00:00<00:00, 548kB/s]\n",
      "1_Pooling/config.json: 100%|██████████| 190/190 [00:00<00:00, 339kB/s]\n",
      "README.md: 100%|██████████| 3.73k/3.73k [00:00<00:00, 9.56MB/s]\n",
      "config.json: 100%|██████████| 683/683 [00:00<00:00, 1.52MB/s]\n",
      "config_sentence_transformers.json: 100%|██████████| 122/122 [00:00<00:00, 430kB/s]\n",
      "merges.txt: 100%|██████████| 456k/456k [00:00<00:00, 8.59MB/s]\n",
      "pytorch_model.bin: 100%|██████████| 329M/329M [00:08<00:00, 40.4MB/s] \n",
      "sentence_bert_config.json: 100%|██████████| 53.0/53.0 [00:00<00:00, 205kB/s]\n",
      "special_tokens_map.json: 100%|██████████| 772/772 [00:00<00:00, 2.48MB/s]\n",
      "tokenizer.json: 100%|██████████| 1.36M/1.36M [00:00<00:00, 35.1MB/s]\n",
      "tokenizer_config.json: 100%|██████████| 1.20k/1.20k [00:00<00:00, 3.74MB/s]\n",
      "vocab.json: 100%|██████████| 798k/798k [00:00<00:00, 42.9MB/s]\n",
      "modules.json: 100%|██████████| 229/229 [00:00<00:00, 301kB/s]\n"
     ]
    },
    {
     "ename": "NameError",
     "evalue": "name 'corpus' is not defined",
     "output_type": "error",
     "traceback": [
      "\u001b[0;31m---------------------------------------------------------------------------\u001b[0m",
      "\u001b[0;31mNameError\u001b[0m                                 Traceback (most recent call last)",
      "File \u001b[0;32m<timed exec>:8\u001b[0m\n",
      "\u001b[0;31mNameError\u001b[0m: name 'corpus' is not defined"
     ]
    }
   ],
   "source": [
    "%%time\n",
    "# Use our data\n",
    "\n",
    "from sentence_transformers import SentenceTransformer\n",
    "# model = SentenceTransformer('all-MiniLM-L6-v2') #for symmetric queries\n",
    "model = SentenceTransformer('msmarco-distilroberta-base-v2') #for asymmetric queries\n",
    "\n",
    "#Our sentences we like to encode\n",
    "sentences = list(corpus.text)\n",
    "\n",
    "#Sentences are encoded by calling model.encode()\n",
    "embeddings = model.encode(sentences)\n",
    "\n"
   ]
  },
  {
   "cell_type": "code",
   "execution_count": 20,
   "id": "9b8b733f-37d4-4679-9c20-c0ae8c8fc368",
   "metadata": {},
   "outputs": [
    {
     "data": {
      "text/plain": [
       "(100, 768)"
      ]
     },
     "execution_count": 20,
     "metadata": {},
     "output_type": "execute_result"
    }
   ],
   "source": [
    "# At this point, the variable embeddings contains all our embeddings, one row for each document\n",
    "# So we expect there to be 100 rows, and as many columns as the model we chose vectorizes text\n",
    "# into.\n",
    "\n",
    "embeddings.shape"
   ]
  },
  {
   "cell_type": "code",
   "execution_count": 21,
   "id": "ba658021-64d2-48e9-9281-fa4d6c19b35a",
   "metadata": {},
   "outputs": [],
   "source": [
    "# model.save('msmarco-distilroberta-base-v2')"
   ]
  },
  {
   "cell_type": "markdown",
   "id": "25a80640-8b3b-4b99-af7d-d8489e5be688",
   "metadata": {},
   "source": [
    "### Cosine similarity between sentences \n",
    "Using brute force method, and finding the most similar.  Very compute intensive, will not run if number of sentences is very large."
   ]
  },
  {
   "cell_type": "code",
   "execution_count": 22,
   "id": "1e3ef388-0bab-4b8a-b041-959c2a909aad",
   "metadata": {
    "tags": []
   },
   "outputs": [],
   "source": [
    "# This can crash the kernel, don't run unless you want to\n",
    "\n",
    "run = True\n",
    "if run:\n",
    "    from sentence_transformers import SentenceTransformer, util\n",
    "    #Compute cosine-similarities for each sentence with each other sentence\n",
    "    cosine_scores = util.cos_sim(embeddings, embeddings)\n",
    "\n",
    "    #Find the pairs with the highest cosine similarity scores\n",
    "    pairs = []\n",
    "    for i in range(len(cosine_scores)-1):\n",
    "        for j in range(i+1, len(cosine_scores)):\n",
    "            pairs.append({'index': [i, j], 'score': cosine_scores[i][j]})\n",
    "\n",
    "    #Sort scores in decreasing order\n",
    "    pairs = sorted(pairs, key=lambda x: x['score'], reverse=True)\n",
    "\n"
   ]
  },
  {
   "cell_type": "code",
   "execution_count": 23,
   "id": "584530bf-a314-4e60-8056-807817bd65f4",
   "metadata": {},
   "outputs": [
    {
     "data": {
      "text/plain": [
       "[{'index': [67, 98], 'score': tensor(0.7903)},\n",
       " {'index': [28, 49], 'score': tensor(0.7720)},\n",
       " {'index': [28, 67], 'score': tensor(0.7470)},\n",
       " {'index': [67, 90], 'score': tensor(0.7131)},\n",
       " {'index': [51, 98], 'score': tensor(0.7115)},\n",
       " {'index': [36, 66], 'score': tensor(0.7109)},\n",
       " {'index': [65, 84], 'score': tensor(0.6998)},\n",
       " {'index': [6, 67], 'score': tensor(0.6828)},\n",
       " {'index': [67, 95], 'score': tensor(0.6824)},\n",
       " {'index': [6, 98], 'score': tensor(0.6670)}]"
      ]
     },
     "execution_count": 23,
     "metadata": {},
     "output_type": "execute_result"
    }
   ],
   "source": [
    "pairs[:10]"
   ]
  },
  {
   "cell_type": "code",
   "execution_count": 24,
   "id": "dad5c440-879f-4ea3-903d-05cebd8af92d",
   "metadata": {
    "tags": []
   },
   "outputs": [
    {
     "name": "stdout",
     "output_type": "stream",
     "text": [
      "Friday Squid Blogging: Squid Game Cryptocurrency Was a Scam\n",
      "\n",
      "The Squid Game cryptocurrency was a complete scam:\n",
      "\n",
      "The SQUID cryptocurrency peaked at a price of $2,861 before plummeting to $0 around 5:40 a.m. ET., according to the website CoinMarketCap. This kind of theft, commonly called a “rug pull” by crypto investors, happens when the creators of the crypto quickly cash out their coins for real money, draining the liquidity pool from the exchange.\n",
      "\n",
      "I don’t know why anyone would trust an investment — any investment — that you could buy but not sell.\n",
      "\n",
      "Wired story.\n",
      "\n",
      "As usual, you can also use this squid post to talk about the security stories in the news that I haven’t covered.\n",
      "\n",
      "Read my blog posting guidelines here.\n",
      "\n",
      "Posted on November 5, 2021 at 4:11 PM • 42 Comments\n"
     ]
    }
   ],
   "source": [
    "print(corpus.iloc[60].text)"
   ]
  },
  {
   "cell_type": "code",
   "execution_count": 25,
   "id": "4eec76d6-8c6e-4800-9a48-55f404163f3e",
   "metadata": {
    "tags": []
   },
   "outputs": [
    {
     "name": "stdout",
     "output_type": "stream",
     "text": [
      "A suspected Ukrainian hacker has been arrested and charged in the United States in connection with a string of costly ransomware attacks, including one that snarled businesses around the globe on the Fourth of July weekend, U.S. officials said Monday.\n",
      "\n",
      "Yaroslav Vasinskyi was arrested last month after traveling to Poland, according to the Justice Department, which also announced the recovery of $6.1 million in ill-gotten funds from a Russian national who was separately charged and remains sought by the FBI.\n",
      "\n",
      "Both men are alleged to be affiliated with the prolific Russia-based REvil ransomware gang, whose attacks have compromised tens of thousands of computers worldwide and yielded at least $200 million in ransom payments, said Attorney General Merrick Garland. Victims have included the world’s largest meat processor, JBS SA, and a technology company called Kaseya, which was hit in a holiday weekend attack last July that the company said affected between 800 and 1,500 businesses that relied on its software.\n",
      "\n",
      "The coordination of multiple agencies across the Biden administration amounted to perhaps the most high-profile response yet to a blitz of ransomware attacks that officials say continues to threaten national security and the economy. Deputy Attorney General Lisa Monaco appeared to foreshadow Monday’s announcement in an interview with The Associated Press last week, saying that “in the days and weeks to come, you’re going to see more arrests” as well as more seizures of illicit ransomware proceeds.\n",
      "\n",
      "Speaking at a news conference Monday, she said, “We have been using every tool at our disposal and leveraging every authority we have to hunt down and hold accountable cybercriminals wherever they seek to hide.”\n",
      "\n",
      "The indictment accuses Vasinskyi, 22, of deploying REvil ransomware, also known as Sodinokibi, a broad range of victims — including the massive Kaseya attack.\n",
      "\n",
      "Yevgeniy Polyanin, a Russian national, is charged in a separate indictment. He’s accused of conducting roughly 3,000 ransomware attacks on companies and entities across the U.S., including law enforcement agencies and local governments in the state of Texas.\n",
      "\n",
      "Both indictments were filed in federal court in the Northern District of Texas, a state where REvil ransomware compromised the computer networks of some two dozen local government agencies in the summer of 2019.\n",
      "\n",
      "The U.S. is seeking Vasinskyi’s extradition from Poland. Though it successfully seized $6 million in ransomware payments from Polyanin, the FBI is continuing to seek his arrest, and the State Department on Monday announced a $10 million reward for anyone with information leading to the capture of any leaders of the REvil group.\n",
      "\n",
      "The Treasury Department, meanwhile, announced sanctions against the pair as well as a virtual currency exchange, Chatex, that it said was used to facilitate financial transactions for ransomware gangs.\n",
      "\n",
      "President Joe Biden commended the government’s actions, saying he was making good on his commitment to Russian leader Vladimir Putin that the U.S. would hold cyber criminals accountable.\n",
      "\n",
      "He said in a statement that the U.S. was “bringing the full strength of the federal government to disrupt malicious cyber activity and actors” and to “bolster resilience at home.”\n",
      "\n",
      "The announcement of the criminal charges came hours after European law enforcement officials revealed the results of a lengthy, 17-nation operation. As part of that operation, Europol said, a total of seven hackers linked to REvil and another ransomware family have been arrested since February, including two last week by Romanian authorities.\n",
      "\n",
      "[ Read: Europol Announces Arrests of 7 People Linked to REvil, GandCrab Ransomware ]\n",
      "\n",
      "The Justice Department has tried multiple ways to address a ransomware scourge that has exploded over the last year with attacks against critical infrastructure and major corporations. Arrests of foreign hackers are significant for the Justice Department, and rare, since many of them operate in the refuge of countries that do not extradite their own citizens to the U.S. for prosecution.\n",
      "\n",
      "“There’s lots of reasons why people travel, and I can’t get into the specific reasons why Mr. Vasinskyi traveled, but boy are we glad he did,” FBI Director Christopher Wray said Monday.\n",
      "\n",
      "Even so, ransomware attacks — in which hackers seize and encrypt data and demand often-exorbitant sums to release it to victims — have been hard to curb. Monaco told the AP last week that since Biden’s admonitions to Putin last summer to rein in ransomware gangs, “we have not seen a material change in the landscape.”\n",
      "\n",
      "Garland did not answer directly when asked if there was evidence that the Russian government was aware of REvil’s activities, but said, “we expect and hope that any government in which one of these ransomware actors is residing will do everything it can to provide that person to us for prosecution.”\n",
      "\n",
      "The $6.1 million seizure in this case builds on a similar success from months ago.\n",
      "\n",
      "Federal authorities in June seized $2.3 million in cryptocurrency from a payment made by Colonial Pipeline following a ransomware attack that caused the company to temporarily halt operations, creating fuel shortages in parts of the country.\n",
      "\n",
      "Justice Department officials also used Monday’s news conference to urge Congress to create a national standard for the reporting of significant cyber incidents, and to require that that information be shared immediately with federal law enforcement.\n",
      "\n",
      "*article updated throughout with additional information\n"
     ]
    }
   ],
   "source": [
    "print(corpus.iloc[79].text)"
   ]
  },
  {
   "cell_type": "code",
   "execution_count": 26,
   "id": "a0267482-f7c0-4ad1-8a0a-18973b498fe7",
   "metadata": {},
   "outputs": [
    {
     "name": "stdout",
     "output_type": "stream",
     "text": [
      "Immediately after the public release of the exploit code for the VMware vCenter CVE-2021-22005 flaw threat actors started using it.\n",
      "\n",
      "Researchers warn that immediately after the release of the exploit code for the recently addressed CVE-2021-22005 flaw in VMware vCenter threat actors started using it.\n",
      "\n",
      "The CVE-2021-22005 issue is a critical arbitrary file upload vulnerability that impacts appliances running default vCenter Server 6.7 and 7.0 deployments.\n",
      "\n",
      "vCenter Server is the centralized management utility for VMware, and is used to manage virtual machines, multiple ESXi hosts, and all dependent components from a single centralized location.\n",
      "\n",
      "The vulnerability is due to the way it handles session tokens.\n",
      "\n",
      "“VMware has released patches that address a new critical security advisory, VMSA-2021-0020. This needs your immediate attention if you are using vCenter Server.” reads the advisory published by the virtualization giant. “The VMSA outlines a number of issues that are resolved in this patch release. The most urgent addresses CVE-2021-22005, a file upload vulnerability that can be used to execute commands and software on the vCenter Server Appliance. This vulnerability can be used by anyone who can reach vCenter Server over the network to gain access, regardless of the configuration settings of vCenter Server.”\n",
      "\n",
      "The threat intelligence firm Bad Packets reported that scanning activity for this vulnerability started immediately after the virtualization giant addressed the flaw.\n",
      "\n",
      "CVE-2021-22005 scanning activity detected from 116.48.233.234 (🇭🇰).\n",
      "\n",
      "\n",
      "\n",
      "Target:\n",
      "\n",
      "VMware vCenter servers vulnerable to arbitrary file upload leading to remote code execution (https://t.co/JWfc7rHuUK).#threatintel pic.twitter.com/mDFQtyx8IG — Bad Packets (@bad_packets) September 22, 2021\n",
      "\n",
      "Researchers from BleepingComputer also reported that threat actors have started to exploit CVE-2021-22005 using code released by security researcher Jang.\n",
      "\n",
      "VMware confirmed it is aware of threat actors exploiting the flaw in the wild.\n",
      "\n",
      "“VMware has confirmed reports that CVE-2021-22005 is being exploited in the wild” states the company.\n",
      "\n",
      "Researchers from search engines for internet-connected devices Censys published an interesting analysis of the vulnerability and provided information about the number of VMware vCenter Server installs exposed online.\n",
      "\n",
      "Derek Abdine, CTO at Censys, explained that Linux-based deployments are exploitable with code execution, while the exploitation is more difficult on Windows-based hosts. The exploitation requires two unauthenticated web requests.\n",
      "\n",
      "“Using a simple search query, Censys determined that just over 7,000 services on the public internet identify as VMWare vCenter. 3,264 hosts that are Internet-facing are potentially vulnerable, 436 are patched, and 1,369 are either not applicable (unaffected version) or have the workaround applied.” reads the post published by Censys.\n",
      "\n",
      "The U.S. Cybersecurity and Infrastructure Seurity Agency (CISA) also published an advisory to warn critical infrastructrure organizations to address this vulnerability.\n",
      "\n",
      "The security researcher Jang published a quick note for CVE-2021-22005 along with this video PoC that shows how to exploit the vulnerability.\n",
      "\n",
      "Follow me on Twitter: @securityaffairs and Facebook\n",
      "\n",
      "Pierluigi Paganini\n",
      "\n",
      "(SecurityAffairs – hacking, VMware)\n"
     ]
    }
   ],
   "source": [
    "print(corpus.iloc[81].values[0])"
   ]
  },
  {
   "cell_type": "markdown",
   "id": "d5e0657d-f259-403c-851b-b60726cc7a3e",
   "metadata": {},
   "source": [
    "### Semantic paraphrasing\n",
    "Finds similar articles, except more efficient"
   ]
  },
  {
   "cell_type": "code",
   "execution_count": 27,
   "id": "3e317cbc-bb9d-4acc-b6f9-feece01fcba5",
   "metadata": {
    "tags": []
   },
   "outputs": [
    {
     "name": "stdout",
     "output_type": "stream",
     "text": [
      "CPU times: user 42 s, sys: 8.02 s, total: 50 s\n",
      "Wall time: 50.2 s\n"
     ]
    },
    {
     "data": {
      "text/plain": [
       "[[0.7903256416320801, 67, 98],\n",
       " [0.7719780206680298, 28, 49],\n",
       " [0.7470053434371948, 28, 67],\n",
       " [0.7130910754203796, 67, 90],\n",
       " [0.7114944458007812, 51, 98],\n",
       " [0.7108569741249084, 36, 66],\n",
       " [0.6997889876365662, 65, 84],\n",
       " [0.6828299164772034, 6, 67],\n",
       " [0.6824029088020325, 67, 95],\n",
       " [0.6669973731040955, 6, 98]]"
      ]
     },
     "execution_count": 27,
     "metadata": {},
     "output_type": "execute_result"
    }
   ],
   "source": [
    "%%time\n",
    "from sentence_transformers import SentenceTransformer, util\n",
    "\n",
    "# model = SentenceTransformer('all-MiniLM-L6-v2')\n",
    "\n",
    "# Single list of sentences - Possible tens of thousands of sentences\n",
    "sentences = list(corpus.text)\n",
    "\n",
    "paraphrases = util.paraphrase_mining(model, sentences)\n",
    "\n",
    "# below code good only for small articles\n",
    "# for paraphrase in paraphrases[0:25]:\n",
    "#     score, i, j = paraphrase\n",
    "#     print(\"{} \\t\\t {} \\t\\t Score: {:.4f}\".format(sentences[i], sentences[j], score))\n",
    "    \n",
    "paraphrases[:10]"
   ]
  },
  {
   "cell_type": "code",
   "execution_count": 28,
   "id": "b3af8e97-46b0-4ad3-9a1a-925066632591",
   "metadata": {
    "tags": []
   },
   "outputs": [
    {
     "name": "stdout",
     "output_type": "stream",
     "text": [
      "Up for the “Most Meta Cybercrime Offering” award this year is Accountz Club, a new cybercrime store that sells access to purloined accounts at services built for cybercriminals, including shops peddling stolen payment cards and identities, spamming tools, email and phone bombing services, and those selling authentication cookies for a slew of popular websites.\n",
      "\n",
      "Criminals ripping off other crooks is a constant theme in the cybercrime underworld; Accountz Club’s slogan — “the best autoshop for your favorite shops’ accounts” — just normalizes this activity by making logins stolen from users of various cybercrime shops for sale at a fraction of their account balances.\n",
      "\n",
      "The site says it sells “cracked” accounts, or those that used passwords which could be easily guessed or enumerated by automated tools. All of the credentials being sold by Accountz provide access to services that in turn sell access to stolen information or hijacked property, as in the case of “bot shops” that resell access to infected computers.\n",
      "\n",
      "One example is Genesis Market, where customers can search for stolen credentials and authentication cookies from a broad range of popular online destinations. Genesis even offers a custom-made web browser where you can load authentication cookies from botted PCs and waltz right into the account without having to enter a username or password or mess with multi-factor authentication.\n",
      "\n",
      "Accountz is currently selling four different Genesis logins for about 40-50 percent of their unspent balances. Genesis mostly gets its inventory of botted computers and stolen logins from resellers who specialize in deploying infostealer malware via email and booby-trapped websites. Likewise, it appears Accountz also derives much of its stock from a handful of resellers, who presumably are the same ones doing the cybercrime service account cracking.\n",
      "\n",
      "In essence, Accountz customers are paying for illicit access to cybercrime services that sell access to compromised resources that can be abused for cybercrime. That’s seriously meta.\n",
      "\n",
      "Accountz says its inventory is low right now but that it expects to offer a great deal more stock in the coming days. I don’t doubt that’s true, and it’s somewhat remarkable that services like this aren’t more common: From reporting my “Breadcrumbs” series on prominent cybercrime actors, it’s clear that a great many cybercriminals will use the same username and password across multiple services online.\n",
      "\n",
      "What’s more, relatively few cybercrime shops online offer their users any sort of multi-factor authentication. That’s probably because so few customers supply their real contact information when they sign up. As a result, it is often far easier for customers to simply create a new account than it is to regain control over a hacked one, or to change a forgotten password. On top of that, most shops have only rudimentary tools for blocking automated login attempts and password cracking activity.\n",
      "\n",
      "It will be interesting to see whether any of the cybercrime shops most heavily represented in the logins for sale at Accountz start to push back. After all, draining customer account balances and locking out users is likely to increase customer support costs for these shops, lower customer satisfaction, and perhaps even damage their reputations on the crime forums where they peddle their wares.\n",
      "\n",
      "Oh, the horror.\n"
     ]
    }
   ],
   "source": [
    "print(sentences[55])"
   ]
  },
  {
   "cell_type": "code",
   "execution_count": 29,
   "id": "b93ca9e8-e427-4048-bd02-4a4a283bcf4a",
   "metadata": {
    "tags": []
   },
   "outputs": [
    {
     "name": "stdout",
     "output_type": "stream",
     "text": [
      "Cisco fixed three critical flaws impacting IOS XE operating system powering some of its devices, such as routers and wireless controllers.\n",
      "\n",
      "Cisco has addressed three critical vulnerabilities impacting its IOS XE operating system powering multiple products, including routers and wireless controllers.\n",
      "\n",
      "The most severe of these vulnerabilities is a Remote Code Execution Vulnerability, tracked as CVE-2021-34770, in the Control and Provisioning of Wireless Access Points (CAPWAP) protocol processing of Cisco IOS XE Software for Cisco Catalyst 9000 Family Wireless Controller.\n",
      "\n",
      "“A vulnerability in the Control and Provisioning of Wireless Access Points (CAPWAP) protocol processing of Cisco IOS XE Software for Cisco Catalyst 9000 Family Wireless Controllers could allow an unauthenticated, remote attacker to execute arbitrary code with administrative privileges or cause a denial of service (DoS) condition on an affected device.” reads the advisory published by Cisco.\n",
      "\n",
      "The flaw is due to a logic error that occurs during the validation of CAPWAP packets. A remote, unauthenticated attacker can trigger the flaw by sending a specially crafted CAPWAP packet to a vulnerable device. Successful exploitation of the issue could allow the attacker to execute arbitrary code with administrative privileges or cause the device to crash and reload.\n",
      "\n",
      "This vulnerability affects the following products if they are running a flawed Cisco IOS XE Software for Cisco Catalyst 9000 Family Wireless Controllers:\n",
      "\n",
      "Catalyst 9800 Embedded Wireless Controller for Catalyst 9300, 9400, and 9500 Series Switches\n",
      "\n",
      "Catalyst 9800 Series Wireless Controllers\n",
      "\n",
      "Catalyst 9800-CL Wireless Controllers for Cloud\n",
      "\n",
      "Embedded Wireless Controller on Catalyst Access Points\n",
      "\n",
      "Another critical-severity vulnerability addressed by the IT giant is a buffer overflow issue, tracked as CVE-2021-34727, in the vDaemon process in Cisco IOS XE SD-WAN Software. The flaw is due insufficient bounds checking and has been rated with a CVSS score of 9.8.\n",
      "\n",
      "“A vulnerability in the vDaemon process in Cisco IOS XE SD-WAN Software could allow an unauthenticated, remote attacker to cause a buffer overflow on an affected device.” reads the security advisory. “This vulnerability is due to insufficient bounds checking when an affected device processes traffic. An attacker could exploit this vulnerability by sending crafted traffic to the device. A successful exploit could allow the attacker to cause a buffer overflow and possibly execute arbitrary commands with root-level privileges, or cause the device to reload, which could result in a denial of service condition.”\n",
      "\n",
      "A remote, unauthenticated attacker can exploit this flaw by sending modified traffic to a vulnerable target device. Successful exploitation could lead to executing arbitrary commands with the highest privileges or trigger a denial-of-service (DoS) condition.\n",
      "\n",
      "The issue affects the following products running an outdated version of Cisco IOS XE SD-WAN software and have the SD-WAN feature active (disabled by default):\n",
      "\n",
      "1000 Series Integrated Services Routers (ISRs)\n",
      "\n",
      "4000 Series ISRs\n",
      "\n",
      "ASR 1000 Series Aggregation Services Routers\n",
      "\n",
      "Cloud Services Router 1000V Series\n",
      "\n",
      "The third critical flaw addressed by Cisco, tracked as CVE-2021-1619, is an authentication bypass vulnerability in the authentication, authorization, and accounting (AAA) function of Cisco IOS XE software.\n",
      "\n",
      "“A vulnerability in the authentication, authorization, and accounting (AAA) function of Cisco IOS XE Software could allow an unauthenticated, remote attacker to bypass NETCONF or RESTCONF authentication and do either of the following:\n",
      "\n",
      "Install, manipulate, or delete the configuration of an affected device\n",
      "\n",
      "Cause memory corruption that results in a denial of service (DoS) on an affected device\n",
      "\n",
      "This vulnerability is due to an uninitialized variable. An attacker could exploit this vulnerability by sending a series of NETCONF or RESTCONF requests to an affected device.” reads the advisory. “A successful exploit could allow the attacker to use NETCONF or RESTCONF to install, manipulate, or delete the configuration of a network device or to corrupt memory on the device, resulting a DoS.”\n",
      "\n",
      "Cisco experts are not aware of attacks in the wild exploiting the above critical vulnerabilities.\n",
      "\n",
      "Follow me on Twitter: @securityaffairs and Facebook\n",
      "\n",
      "Pierluigi Paganini\n",
      "\n",
      "(SecurityAffairs – hacking, RCE)\n"
     ]
    }
   ],
   "source": [
    "print(sentences[72])"
   ]
  },
  {
   "cell_type": "code",
   "execution_count": null,
   "id": "2f7eed9f-2004-49c6-8e5d-18fc157d1643",
   "metadata": {},
   "outputs": [],
   "source": []
  },
  {
   "cell_type": "markdown",
   "id": "337c8a6b-ee8b-4a6b-99db-30d47684f61c",
   "metadata": {},
   "source": [
    "### Semantic Search"
   ]
  },
  {
   "cell_type": "code",
   "execution_count": 30,
   "id": "113b332a-6bf8-4493-b764-ff99161a2f72",
   "metadata": {
    "tags": []
   },
   "outputs": [
    {
     "name": "stdout",
     "output_type": "stream",
     "text": [
      "\n",
      "------Similarly score is tensor(0.2778)\n",
      "Valve announced this week that its prestigious Dota 2 tournament The International will require all attendees to be fully masked and vaccinated for entry.\n",
      "\n",
      "As noted on the Dota 2 site, anyone attending the October competition at the National Arena in Bucharest, Romania, must be at least 10 days out from their final vaccination, and attendees will need to present proof of inoculation (which must be in either English or Romanian) along with a photo ID to gain access to the event grounds and tournament arena. All attendees must also wear a mask and proof-of-vaccination wristband along with their registration badges. Additional safety protocols will be put into place throughout the tournament.\n",
      "\n",
      "Now in its 10th year, The International gathers the best Dota 2 teams from around the globe to compete for a multimillion-dollar prize pool. But over the past year, Valve has not had an easy time with COVID-related restrictions for its annual tournament. The company's initial plans to hold The International 10 in Stockholm were scrapped earlier this summer after the Swedish Sports Federation decided not to include esports in its officially recognized body—a move that meant anyone traveling for the tournament would be denied an entry visa.\n",
      "\n",
      "Advertisement\n",
      "\n",
      "Valve's subsequent requests for the Swedish government to intervene were denied, and the company announcing the move to Romania in July. (2020's tournament, which was also planned to be held in Stockholm, was indefinitely delayed in April 2020 over safety concerns amidst the global pandemic.)\n",
      "\n",
      "The move to make The International a fully vaccinated, fully masked tournament is just the latest in a growing trend of gaming events tightening up COVID restrictions. For instance, this summer's PAX West in Seattle required attendees to present either proof-of-vaccination or a negative PCR test for entry, as well as wearing a vaccination-proof wristband along with their registration badges.\n",
      "\n",
      "The International 10's group stage, which doesn't appear to be open to the public, will be held October 7-10, while the main-stage tournament event (the only stage Valve is selling tickets for) will be split between two midweeks running from October 12-15. The finals are scheduled to be held on October 16 and 17. Tickets for the main stage will go on sale September 22, and those are sold in three separate two-day bundles.\n",
      "\n",
      "---------------------\n",
      "---------------------\n",
      "---------------------\n",
      "\n",
      "------Similarly score is tensor(0.1612)\n",
      "Amazon Prime Video's adaptation of the Fallout franchise of video games is entering production this year, and its two lead writers have been named, according to reports in Deadline and Variety.\n",
      "\n",
      "It was previously known that Jonathan Nolan and Lisa Joy (who worked together on HBO's Westworld) would be executive producers, and Variety and Deadline both report that Nolan will direct the first episode of the show.\n",
      "\n",
      "But Nolan and Joy will not be the primary creative leads on the series. Rather, Geneva Robertson-Dworet and Graham Wagner have been attached as showrunners.\n",
      "\n",
      "Robertson-Dworet wrote the screenplays for the superhero movie Captain Marvel and the 2018 Tomb Raider film adaptation. She is also writing a future Star Trek film planned for release in 2023.\n",
      "\n",
      "Wagner is best known as one of the main writers on the sketch comedy series Portlandia and for work on modern sitcoms like The Office, Silicon Valley, and Baskets.\n",
      "\n",
      "Robertson-Dworet brings the science fiction and action/adventure credentials, and Wagner brings the comedy, covering two foundations of the Fallout franchise's narrative style.\n",
      "\n",
      "The series was first announced in July with Nolan and Joy attached, but there were few other details available. We still don't know much about the series, but the selection of the above two as showrunners suggests that comedy and action will both be central.\n",
      "\n",
      "Advertisement\n",
      "\n",
      "For those unfamiliar, Fallout is a long-running video game franchise set in a post-apocalyptic alternate future where a cold war between China and the United States turns hot, leaving the world in a brutal nuclear winter with mutated creatures and violent bandits. Despite the grim setting, the series is known for its sense of humor as much as its darkness, with pop culture references, a 1950s aesthetic, heavy influences from pulp science fiction, and biting satire of American capitalism.\n",
      "\n",
      "The series originated as a slow-paced, top-down role-playing game on the PC in the 1990s, but the intellectual property was later bought by game publisher Bethesda Softworks. Most recent installments have been made by Bethesda Game Studios, which is best known for the open-world adventure role-playing series The Elder Scrolls, and the recent Fallout games have more in common with those games than with the original Fallout titles from the '90s.\n",
      "\n",
      "The series has maintained a deep and consistent library of lore spanning hundreds of years throughout its run across its various games, giving the TV series' writers a lot to draw upon.\n",
      "\n",
      "Though the TV series begins production this year, we don't yet know when it will start streaming to audiences.\n",
      "\n",
      "---------------------\n",
      "---------------------\n",
      "---------------------\n",
      "\n",
      "------Similarly score is tensor(0.0993)\n",
      "What do you get for the man who has everything? How about a vivid fantasy world of his own design?\n",
      "\n",
      "Last week, during a keynote presentation at Facebook’s annual virtual reality conference, Mark Zuckerberg appeared in a feature-length video detailing his plans for “the metaverse,” an immersive digital world powered by his own products. In Zuckerberg’s imagined realm, humans will teleport across the globe in hologram form. Virtual fish will swim in the sky. You’ll have a big virtual telescope in your house, and a floating cast-iron chiminea, and David Attenborough will be there. You’ll still have to spend your days on video conference calls for work, but now some of your colleagues will look like cartoons.\n",
      "\n",
      "Zuckerberg’s metaverse will be influenced by his financial interests and his strategic impulses, but also by his tastes. In his world, he could become our architect, decorator, concert promoter, film distributor, fitness guru, curator and stylist, or at least their boss. It’s time to assess Zuckerberg not only as a corporate leader but as a cultural one.\n",
      "\n",
      "What is the Mark Zuckerberg aesthetic? What does he even like? His nearly 20 years in public life provide few clues. We know that he has expressed interest in Morgan Freeman’s voice and Vin Diesel’s oeuvre. In 2015, he hosted a Facebook book club with an absurdly broad brief, selecting works by both Michelle Alexander and Henry Kissinger. He has streamed himself smoking meats on Facebook Live.\n",
      "\n",
      "His personal style is expeditious. Like a comic-book character, he seems to have a closet full of unindividuated outfits, all dark jeans and subtly heathered crew-neck tees. His hair has been cut into the same shape, close-cropped and featuring the tiny bangs of a medieval squire, for more than a decade. At 37, his pale, oddly smooth visage lends him a vampiric quality. There is something unnerving about the static nature of his image, of its imperviousness to the passage of time and his own ballooning wealth. It is as if he has always been moving through the world as an avatar.\n",
      "\n",
      "---------------------\n",
      "---------------------\n",
      "---------------------\n",
      "\n",
      "------Similarly score is tensor(0.0823)\n",
      "Once again attackers have used Office files in targeted attacks against Microsoft users. This time they used the Windows Explorer preview pane to deliver malicious .doc, .docm, and .docx files. Researchers have found that malicious .rtf files can also be used in such attacks. For this exploit, an attacker crafts a malicious ActiveX control to be used by a Microsoft Office document that hosts the browser rendering engine.\n",
      "\n",
      "The attacker must convince a user to open the malicious document. So, your first line of defense is an educated user who doesn’t blindly open unexpected files. In addition, Microsoft Defender Antivirus and Microsoft Defender for Endpoint both provide detection and protections for the known vulnerability. Your antivirus tools may already include detections for this exploit as well.\n",
      "\n",
      "Microsoft has released CVE-2021-40444 to track this vulnerability. Even when it’s fixed, don’t let your guard down. Instead, I recommend you keep one key protection that probably many of us are not doing to protect ourselves from malicious Office files including those used in this most current exploit.\n",
      "\n",
      "Microsoft Defender Attack Surface Reduction rules\n",
      "\n",
      "---------------------\n",
      "---------------------\n",
      "---------------------\n",
      "\n",
      "------Similarly score is tensor(0.0744)\n",
      "There are some technical terms being thrown around at Tuesday’s hearing with the Facebook whistle-blower Frances Haugen. Here’s a primer on what the former Facebook product manager and the senators are discussing:\n",
      "\n",
      "Engagement-based ranking: Facebook and other social media platforms use engagement-based ranking to determine which content they believe is most relevant to users’ interests. After taking into account a post’s likes, shares and comments, as well as a user’s past interactions with similar content, the algorithms powering someone’s Twitter feed or Facebook’s news feed will place posts in front of that person. This is in contrast to a chronological ranking that simply is based on when content was posted or sent.\n",
      "\n",
      "Meaningful social interactions (M.S.I.): In 2018, Facebook overhauled its news feed algorithm to prioritize interactions, such as comments and likes, between friends and family. The idea was to give more weight to the posts and engagements of people that Facebook thought were closest to users. In her testimony, Ms. Haugen argued that the change toward M.S.I. made Facebook an angrier social platform, and created an environment that encouraged polarization, misinformation, and shocking content.\n",
      "\n",
      "Instagram for Kids: This is an informal name for a planned photo-sharing app for children under the age of 13. Last month, Instagram announced it was pausing the development of this product after uproar from an article in The Wall Street Journal showing that the company knew its products could harm teens’ mental health.\n",
      "\n",
      "---------------------\n",
      "---------------------\n",
      "---------------------\n"
     ]
    }
   ],
   "source": [
    "# Query sentence - one at a time:\n",
    "query = ['vaccine for children']\n",
    "\n",
    "\n",
    "\n",
    "# Find the closest 5 sentences of the corpus for each query sentence based on cosine similarity\n",
    "top_k = min(5, len(corpus))\n",
    "\n",
    "query_embedding = model.encode(query, convert_to_tensor=True)\n",
    "\n",
    "# We use cosine-similarity and torch.topk to find the highest 5 scores\n",
    "cos_scores = util.cos_sim(query_embedding, embeddings)[0]\n",
    "top_results = torch.topk(cos_scores, k=top_k)\n",
    "\n",
    "score, idx = top_results[0], top_results[1]\n",
    "\n",
    "for index, i in enumerate(idx):\n",
    "    print('\\n------Similarly score is', score[index])\n",
    "    print(corpus.text.iloc[int(i)])\n",
    "    print('\\n---------------------\\n---------------------\\n---------------------')\n",
    "    \n",
    "    "
   ]
  },
  {
   "cell_type": "code",
   "execution_count": 31,
   "id": "4dcc5757-a18b-490d-9645-07b216eddcd3",
   "metadata": {},
   "outputs": [
    {
     "data": {
      "text/plain": [
       "torch.Size([1, 768])"
      ]
     },
     "execution_count": 31,
     "metadata": {},
     "output_type": "execute_result"
    }
   ],
   "source": [
    "query_embedding.shape"
   ]
  },
  {
   "cell_type": "code",
   "execution_count": 32,
   "id": "d96e75af-c49b-4606-ae4a-fb39aa8b4bf2",
   "metadata": {},
   "outputs": [
    {
     "data": {
      "text/plain": [
       "(100, 768)"
      ]
     },
     "execution_count": 32,
     "metadata": {},
     "output_type": "execute_result"
    }
   ],
   "source": [
    "embeddings.shape"
   ]
  },
  {
   "cell_type": "code",
   "execution_count": null,
   "id": "82db3c05-6fad-49c3-b5dc-8cff5d58e8e4",
   "metadata": {},
   "outputs": [],
   "source": []
  },
  {
   "cell_type": "code",
   "execution_count": null,
   "id": "04bade18-57b8-4998-8599-35a4c9886824",
   "metadata": {},
   "outputs": [],
   "source": []
  },
  {
   "cell_type": "markdown",
   "id": "b75e32d1-d0f0-4d36-8eaa-823f5745821d",
   "metadata": {},
   "source": [
    "### Clustering\n",
    "#### KMeans"
   ]
  },
  {
   "cell_type": "code",
   "execution_count": 33,
   "id": "a71471e2-3279-4143-a1ef-c0fab6b7b83f",
   "metadata": {
    "tags": []
   },
   "outputs": [],
   "source": [
    "from sklearn.cluster import KMeans\n",
    "\n",
    "# Perform kmean clustering\n",
    "num_clusters = 5\n",
    "clustering_model = KMeans(n_clusters=num_clusters, n_init='auto')\n",
    "clustering_model.fit(embeddings)\n",
    "cluster_assignment = clustering_model.labels_\n",
    "\n",
    "clustered_sentences = [[] for i in range(num_clusters)]\n",
    "for sentence_id, cluster_id in enumerate(cluster_assignment):\n",
    "    clustered_sentences[cluster_id].append(list(corpus.text)[sentence_id])\n",
    "\n",
    "# for i, cluster in enumerate(clustered_sentences):\n",
    "#     print(\"Cluster \", i+1)\n",
    "#     print(cluster)\n",
    "#     print(\"\")"
   ]
  },
  {
   "cell_type": "code",
   "execution_count": 34,
   "id": "f476d7fd-618c-46b4-8081-20bd730fb831",
   "metadata": {},
   "outputs": [
    {
     "data": {
      "text/plain": [
       "(100,)"
      ]
     },
     "execution_count": 34,
     "metadata": {},
     "output_type": "execute_result"
    }
   ],
   "source": [
    "clustering_model.labels_.shape"
   ]
  },
  {
   "cell_type": "code",
   "execution_count": 35,
   "id": "8805faa8-3b59-4b99-8839-bc7b33b7c983",
   "metadata": {},
   "outputs": [
    {
     "data": {
      "text/plain": [
       "array([0, 3, 4, 3, 4, 3, 1, 3, 1, 1, 0, 3, 3, 2, 3, 3, 3, 3, 3, 3, 3, 3,\n",
       "       2, 2, 3, 2, 3, 4, 1, 2, 2, 3, 3, 3, 3, 0, 3, 4, 2, 3, 4, 3, 2, 3,\n",
       "       3, 4, 3, 3, 3, 1, 3, 1, 1, 1, 1, 3, 0, 3, 0, 4, 3, 0, 2, 2, 3, 4,\n",
       "       0, 1, 1, 3, 0, 1, 1, 3, 1, 1, 0, 4, 3, 0, 3, 1, 3, 3, 4, 3, 1, 2,\n",
       "       4, 3, 1, 0, 3, 2, 0, 1, 3, 3, 1, 2], dtype=int32)"
      ]
     },
     "execution_count": 35,
     "metadata": {},
     "output_type": "execute_result"
    }
   ],
   "source": [
    "cluster_assignment"
   ]
  },
  {
   "cell_type": "code",
   "execution_count": 36,
   "id": "13a67463-dc19-48c0-8fbb-5c3ce0ce4e21",
   "metadata": {},
   "outputs": [
    {
     "data": {
      "text/plain": [
       "3    44\n",
       "1    20\n",
       "2    13\n",
       "0    12\n",
       "4    11\n",
       "Name: count, dtype: int64"
      ]
     },
     "execution_count": 36,
     "metadata": {},
     "output_type": "execute_result"
    }
   ],
   "source": [
    "pd.Series(cluster_assignment).value_counts()"
   ]
  },
  {
   "cell_type": "markdown",
   "id": "f3fc8aaf-d791-4ed9-93a6-3bb73d60227d",
   "metadata": {},
   "source": [
    "## Huggingface Pipeline function\n",
    "The Huggingface Pipeline function wraps everything together for a number of common NLP tasks.  \n",
    "\n",
    "The format for the commands is as below:\n",
    "\n",
    "```python\n",
    "from transformers import pipeline\n",
    "\n",
    "# Using default model and tokenizer for the task\n",
    "pipeline(\"<task-name>\")\n",
    "\n",
    "# Using a user-specified model\n",
    "pipeline(\"<task-name>\", model=\"<model_name>\")\n",
    "\n",
    "# Using custom model/tokenizer as str\n",
    "pipeline('<task-name>', model='<model name>', tokenizer='<tokenizer_name>')\n",
    "```\n",
    "\n"
   ]
  },
  {
   "cell_type": "markdown",
   "id": "49d61dc7-612e-4cda-839d-056be30a9666",
   "metadata": {},
   "source": [
    "By default, pipeline selects a particular pretrained model that has been fine-tuned for the specified task. The model is downloaded and cached when you create the classifier object. If you rerun the command, the cached model will be used instead and there is no need to download the model again.\n",
    "\n",
    "Pipelines are made of:\n",
    "\n",
    " - A tokenizer in charge of mapping raw textual input to token.\n",
    " - A model to make predictions from the inputs.\n",
    " - Some (optional) post processing for enhancing model’s output.\n",
    "\n",
    "Some of the currently available pipelines are:\n",
    "\n",
    "- feature-extraction (get the vector representation of a text)  \n",
    "- fill-mask  \n",
    "- ner (named entity recognition)  \n",
    "- question-answering  \n",
    "- sentiment-analysis  \n",
    "- summarization  \n",
    "- text-generation  \n",
    "- translation  \n",
    "- zero-shot-classification  \n",
    "\n",
    "Each pipeline has a default model, which can be obtained from https://github.com/huggingface/transformers/blob/main/src/transformers/pipelines/__init__.py\n",
    "\n",
    "Pipeline | Default Model\n",
    "-----|-----\n",
    "\"feature-extraction\" | \"distilbert-base-cased\"\n",
    "\"fill-mask\" | \"distilroberta-base\"\n",
    "\"ner\" | \"t5-base\"\n",
    "\"question-answering\" | \"distilbert-base-cased-distilled-squad\"\n",
    "\"summarization\" | \"sshleifer/distilbart-cnn-12-6\"\n",
    "\"translation\" | \"t5-base\"\n",
    "\"text-generation\" | \"gpt2\"\n",
    "\"text2text-generation\" | \"t5-base\"\n",
    "\"zero-shot-classification\" | \"facebook/bart-large-mnli\"\n",
    "\"conversational\" | \"microsoft/DialoGPT-medium\"\n",
    "\n",
    "**First, some library imports**  "
   ]
  },
  {
   "cell_type": "code",
   "execution_count": 2,
   "id": "79ac2d38-48fc-4874-87dc-00b09978d0e4",
   "metadata": {},
   "outputs": [
    {
     "name": "stderr",
     "output_type": "stream",
     "text": [
      "2024-01-16 20:01:12.061135: I tensorflow/core/platform/cpu_feature_guard.cc:193] This TensorFlow binary is optimized with oneAPI Deep Neural Network Library (oneDNN) to use the following CPU instructions in performance-critical operations:  AVX2 FMA\n",
      "To enable them in other operations, rebuild TensorFlow with the appropriate compiler flags.\n",
      "2024-01-16 20:01:12.644825: W tensorflow/compiler/xla/stream_executor/platform/default/dso_loader.cc:64] Could not load dynamic library 'libcudart.so.11.0'; dlerror: libcudart.so.11.0: cannot open shared object file: No such file or directory; LD_LIBRARY_PATH: :/usr/local/nvidia/lib64\n",
      "2024-01-16 20:01:12.644866: I tensorflow/compiler/xla/stream_executor/cuda/cudart_stub.cc:29] Ignore above cudart dlerror if you do not have a GPU set up on your machine.\n",
      "2024-01-16 20:01:15.627549: W tensorflow/compiler/xla/stream_executor/platform/default/dso_loader.cc:64] Could not load dynamic library 'libnvinfer.so.7'; dlerror: libnvinfer.so.7: cannot open shared object file: No such file or directory; LD_LIBRARY_PATH: :/usr/local/nvidia/lib64\n",
      "2024-01-16 20:01:15.628643: W tensorflow/compiler/xla/stream_executor/platform/default/dso_loader.cc:64] Could not load dynamic library 'libnvinfer_plugin.so.7'; dlerror: libnvinfer_plugin.so.7: cannot open shared object file: No such file or directory; LD_LIBRARY_PATH: :/usr/local/nvidia/lib64\n",
      "2024-01-16 20:01:15.628660: W tensorflow/compiler/tf2tensorrt/utils/py_utils.cc:38] TF-TRT Warning: Cannot dlopen some TensorRT libraries. If you would like to use Nvidia GPU with TensorRT, please make sure the missing libraries mentioned above are installed properly.\n"
     ]
    }
   ],
   "source": [
    "# First, some library imports\n",
    "import numpy as np\n",
    "import pandas as pd\n",
    "import matplotlib.pyplot as plt\n",
    "import seaborn as sns\n",
    "import tqdm\n",
    "import torch\n",
    "\n",
    "from transformers import AutoTokenizer, AutoModel, pipeline"
   ]
  },
  {
   "cell_type": "code",
   "execution_count": 38,
   "id": "32a8ad5c-4881-4201-892e-529fa96f6531",
   "metadata": {},
   "outputs": [],
   "source": [
    "mytext = \"\"\"\n",
    "Panther Labs, an early stage startup that specializes in detection and response analytics, has raised a whopping $120 million in a new round of funding led by hedge fund Coatue Management.\n",
    "\n",
    "Panther Labs said the Series B investment was raised at a $1.4 billion valuation, putting the company among a growing list of ‘unicorn’ cybersecurity startups.\n",
    "\n",
    "In addition to Coatue Management, Panther Labs scored investments from ICONIQ Growth and Snowflake Ventures along with money from existing investors Lightspeed Venture Partners, S28 Capital, and Innovation Endeavors.\n",
    "\n",
    "The company previously raised $15 million in a September 2020 Series A round.\n",
    "\n",
    "The San Francisco firm, which was founded by Airbnb and AWS alumni, styles itself as a “cloud-scale security analytics platform” that helps organizations prevent breaches by providing actionable insights from large volumes of data.\n",
    "\n",
    "The Panther product can be used by security teams to perform continuous security monitoring, gain security visibility across cloud and on-premise infrastructure, and build data lakes for incident response investigations.\n",
    "\n",
    "In the last year, Panther claims its customer roster grew by 300 percent, including deals with big companies like Dropbox, Zapier and Snyk.\n",
    "\n",
    "Panther Labs said the new funding will be used to speed up product development, expand go-to-marketing initiatives and scale support for its customers.\n",
    "\n",
    "Related: Panther Labs Launches Open-Source Cloud-Native SIEM\n",
    "\n",
    "Related: CyCognito Snags $100 Million for Attack Surface Management\n",
    "\"\"\""
   ]
  },
  {
   "cell_type": "code",
   "execution_count": 39,
   "id": "c9a77225-13e0-4dd6-b235-f5633e12caca",
   "metadata": {},
   "outputs": [
    {
     "name": "stdout",
     "output_type": "stream",
     "text": [
      "224\n",
      "\n",
      "Panther Labs, an early stage startup that specializes in detection and response analytics, has raised a whopping $120 million in a new round of funding led by hedge fund Coatue Management.\n",
      "\n",
      "Panther Labs said the Series B investment was raised at a $1.4 billion valuation, putting the company among a growing list of ‘unicorn’ cybersecurity startups.\n",
      "\n",
      "In addition to Coatue Management, Panther Labs scored investments from ICONIQ Growth and Snowflake Ventures along with money from existing investors Lightspeed Venture Partners, S28 Capital, and Innovation Endeavors.\n",
      "\n",
      "The company previously raised $15 million in a September 2020 Series A round.\n",
      "\n",
      "The San Francisco firm, which was founded by Airbnb and AWS alumni, styles itself as a “cloud-scale security analytics platform” that helps organizations prevent breaches by providing actionable insights from large volumes of data.\n",
      "\n",
      "The Panther product can be used by security teams to perform continuous security monitoring, gain security visibility across cloud and on-premise infrastructure, and build data lakes for incident response investigations.\n",
      "\n",
      "In the last year, Panther claims its customer roster grew by 300 percent, including deals with big companies like Dropbox, Zapier and Snyk.\n",
      "\n",
      "Panther Labs said the new funding will be used to speed up product development, expand go-to-marketing initiatives and scale support for its customers.\n",
      "\n",
      "Related: Panther Labs Launches Open-Source Cloud-Native SIEM\n",
      "\n",
      "Related: CyCognito Snags $100 Million for Attack Surface Management\n",
      "\n"
     ]
    }
   ],
   "source": [
    "print(len(mytext.split()))\n",
    "print(mytext)"
   ]
  },
  {
   "cell_type": "code",
   "execution_count": null,
   "id": "0e3de451-d9c8-495d-a344-6cf94f049d4d",
   "metadata": {},
   "outputs": [],
   "source": []
  },
  {
   "cell_type": "code",
   "execution_count": 4,
   "id": "2ad842e6-56ab-48a7-b3bb-db5040397d5b",
   "metadata": {
    "tags": []
   },
   "outputs": [],
   "source": [
    "# Set default locations for downloaded models\n",
    "import os\n",
    "\n",
    "if os.name != 'nt':  # Do this only if in a non-Windows environment\n",
    "    \n",
    "    if 'instructor' in os.getcwd(): # Set default model locations when logged in as instructor\n",
    "        os.environ['TRANSFORMERS_CACHE'] = '/home/instructor/shared/huggingface'\n",
    "        os.environ['SENTENCE_TRANSFORMERS_HOME'] = '/home/instructor/shared/huggingface'\n",
    "            \n",
    "    else: # Set default model locations when logged in as a student\n",
    "        os.environ['TRANSFORMERS_CACHE'] = '/home/jovyan/shared/huggingface'\n",
    "        os.environ['SENTENCE_TRANSFORMERS_HOME'] = '/home/jovyan/shared/huggingface'\n",
    "        "
   ]
  },
  {
   "cell_type": "markdown",
   "id": "8ef2157d-8274-4aaa-bc7b-192fd93efc59",
   "metadata": {},
   "source": [
    "### Embeddings/Feature Extraction\n",
    "\n",
    "Feature extraction allows us to obtain embeddings for a sentence.  This is similar (in fact identical) to embeddings obtained from sentence-transformers."
   ]
  },
  {
   "cell_type": "code",
   "execution_count": 41,
   "id": "f29503b5-960e-44b3-b6a1-632b9a7a0228",
   "metadata": {},
   "outputs": [
    {
     "data": {
      "text/plain": [
       "'/home/instructor/shared'"
      ]
     },
     "execution_count": 41,
     "metadata": {},
     "output_type": "execute_result"
    }
   ],
   "source": [
    "pwd"
   ]
  },
  {
   "cell_type": "code",
   "execution_count": 5,
   "id": "1aea028a-6357-4299-97ac-cf0e4963c223",
   "metadata": {},
   "outputs": [
    {
     "name": "stderr",
     "output_type": "stream",
     "text": [
      "No model was supplied, defaulted to distilbert-base-cased and revision 935ac13 (https://huggingface.co/distilbert-base-cased).\n",
      "Using a pipeline without specifying a model name and revision in production is not recommended.\n"
     ]
    },
    {
     "name": "stdout",
     "output_type": "stream",
     "text": [
      "(5, 768)\n"
     ]
    }
   ],
   "source": [
    "feature_extraction = pipeline('feature-extraction')\n",
    "features = feature_extraction(\"i am awesome\")\n",
    "features = np.squeeze(features)\n",
    "print(features.shape)"
   ]
  },
  {
   "cell_type": "code",
   "execution_count": 43,
   "id": "788843ca-5540-4146-90fe-de58aaec88e5",
   "metadata": {
    "tags": []
   },
   "outputs": [],
   "source": [
    "# If you summarize by column, you get the same results as `model.encode` with sentence-bert\n",
    "features = np.mean(features, axis=0)"
   ]
  },
  {
   "cell_type": "code",
   "execution_count": 44,
   "id": "bb2eaafe-f10e-4a34-94c7-a167ca55b542",
   "metadata": {},
   "outputs": [
    {
     "data": {
      "text/plain": [
       "(768,)"
      ]
     },
     "execution_count": 44,
     "metadata": {},
     "output_type": "execute_result"
    }
   ],
   "source": [
    "features.shape"
   ]
  },
  {
   "cell_type": "code",
   "execution_count": 45,
   "id": "745cbcfb-9590-40ef-ae65-d39206459dd0",
   "metadata": {},
   "outputs": [
    {
     "name": "stdout",
     "output_type": "stream",
     "text": [
      "(322, 768)\n"
     ]
    }
   ],
   "source": [
    "# Let us try feature extraction on mytext\n",
    "features = feature_extraction(mytext)\n",
    "features = np.squeeze(features)\n",
    "print(features.shape)"
   ]
  },
  {
   "cell_type": "markdown",
   "id": "d966b437-922a-4f5a-b20d-6f776d189080",
   "metadata": {},
   "source": [
    "### Fill Mask"
   ]
  },
  {
   "cell_type": "code",
   "execution_count": 6,
   "id": "7ec258b0-9a01-49a5-8378-93d71930dafe",
   "metadata": {},
   "outputs": [
    {
     "name": "stderr",
     "output_type": "stream",
     "text": [
      "No model was supplied, defaulted to distilroberta-base and revision ec58a5b (https://huggingface.co/distilroberta-base).\n",
      "Using a pipeline without specifying a model name and revision in production is not recommended.\n",
      "config.json: 100%|██████████| 480/480 [00:00<00:00, 1.56MB/s]\n",
      "model.safetensors: 100%|██████████| 331M/331M [00:01<00:00, 174MB/s] \n",
      "Some weights of the model checkpoint at distilroberta-base were not used when initializing RobertaForMaskedLM: ['roberta.pooler.dense.weight', 'roberta.pooler.dense.bias']\n",
      "- This IS expected if you are initializing RobertaForMaskedLM from the checkpoint of a model trained on another task or with another architecture (e.g. initializing a BertForSequenceClassification model from a BertForPreTraining model).\n",
      "- This IS NOT expected if you are initializing RobertaForMaskedLM from the checkpoint of a model that you expect to be exactly identical (initializing a BertForSequenceClassification model from a BertForSequenceClassification model).\n",
      "vocab.json: 100%|██████████| 899k/899k [00:00<00:00, 39.1MB/s]\n",
      "merges.txt: 100%|██████████| 456k/456k [00:00<00:00, 2.67MB/s]\n",
      "tokenizer.json: 100%|██████████| 1.36M/1.36M [00:00<00:00, 27.4MB/s]\n"
     ]
    },
    {
     "data": {
      "text/plain": [
       "[{'score': 0.10091249644756317,\n",
       "  'token': 8018,\n",
       "  'token_str': ' joke',\n",
       "  'sequence': 'New York is a joke'},\n",
       " {'score': 0.04816770926117897,\n",
       "  'token': 4593,\n",
       "  'token_str': ' democracy',\n",
       "  'sequence': 'New York is a democracy'},\n",
       " {'score': 0.046186525374650955,\n",
       "  'token': 7319,\n",
       "  'token_str': ' mess',\n",
       "  'sequence': 'New York is a mess'},\n",
       " {'score': 0.04198995232582092,\n",
       "  'token': 20812,\n",
       "  'token_str': ' circus',\n",
       "  'sequence': 'New York is a circus'},\n",
       " {'score': 0.024249713867902756,\n",
       "  'token': 43689,\n",
       "  'token_str': ' wasteland',\n",
       "  'sequence': 'New York is a wasteland'}]"
      ]
     },
     "execution_count": 6,
     "metadata": {},
     "output_type": "execute_result"
    }
   ],
   "source": [
    "fill_mask = pipeline('fill-mask') \n",
    "fill_mask('New York is a <mask>')"
   ]
  },
  {
   "cell_type": "code",
   "execution_count": 7,
   "id": "0724d8eb-74f2-4cc7-aa25-449af360b680",
   "metadata": {
    "tags": []
   },
   "outputs": [
    {
     "name": "stderr",
     "output_type": "stream",
     "text": [
      "Some weights of the model checkpoint at distilroberta-base were not used when initializing RobertaForMaskedLM: ['roberta.pooler.dense.weight', 'roberta.pooler.dense.bias']\n",
      "- This IS expected if you are initializing RobertaForMaskedLM from the checkpoint of a model trained on another task or with another architecture (e.g. initializing a BertForSequenceClassification model from a BertForPreTraining model).\n",
      "- This IS NOT expected if you are initializing RobertaForMaskedLM from the checkpoint of a model that you expect to be exactly identical (initializing a BertForSequenceClassification model from a BertForSequenceClassification model).\n"
     ]
    },
    {
     "data": {
      "text/plain": [
       "[{'score': 0.42242366075515747,\n",
       "  'token': 469,\n",
       "  'token_str': ' York',\n",
       "  'sequence': 'New York is a great city'},\n",
       " {'score': 0.2367219477891922,\n",
       "  'token': 4942,\n",
       "  'token_str': ' Orleans',\n",
       "  'sequence': 'New Orleans is a great city'},\n",
       " {'score': 0.08853636682033539,\n",
       "  'token': 3123,\n",
       "  'token_str': ' Jersey',\n",
       "  'sequence': 'New Jersey is a great city'},\n",
       " {'score': 0.06783503293991089,\n",
       "  'token': 3534,\n",
       "  'token_str': ' Delhi',\n",
       "  'sequence': 'New Delhi is a great city'},\n",
       " {'score': 0.032185353338718414,\n",
       "  'token': 12050,\n",
       "  'token_str': ' Haven',\n",
       "  'sequence': 'New Haven is a great city'}]"
      ]
     },
     "execution_count": 7,
     "metadata": {},
     "output_type": "execute_result"
    }
   ],
   "source": [
    "fill_mask = pipeline('fill-mask', model = 'distilroberta-base')\n",
    "fill_mask('New <mask> is a great city')"
   ]
  },
  {
   "cell_type": "code",
   "execution_count": 48,
   "id": "dd14b230-b140-4e2f-8e02-54a3bb85ad02",
   "metadata": {},
   "outputs": [
    {
     "data": {
      "text/plain": [
       "[{'score': 0.09071359038352966,\n",
       "  'token': 2173,\n",
       "  'token_str': ' guy',\n",
       "  'sequence': 'Joe Biden is a good guy'},\n",
       " {'score': 0.07118405401706696,\n",
       "  'token': 1441,\n",
       "  'token_str': ' friend',\n",
       "  'sequence': 'Joe Biden is a good friend'},\n",
       " {'score': 0.0398402214050293,\n",
       "  'token': 30443,\n",
       "  'token_str': ' listener',\n",
       "  'sequence': 'Joe Biden is a good listener'},\n",
       " {'score': 0.033013053238391876,\n",
       "  'token': 28587,\n",
       "  'token_str': ' liar',\n",
       "  'sequence': 'Joe Biden is a good liar'},\n",
       " {'score': 0.030751364305615425,\n",
       "  'token': 313,\n",
       "  'token_str': ' man',\n",
       "  'sequence': 'Joe Biden is a good man'}]"
      ]
     },
     "execution_count": 48,
     "metadata": {},
     "output_type": "execute_result"
    }
   ],
   "source": [
    "fill_mask('Joe Biden is a good <mask>')"
   ]
  },
  {
   "cell_type": "code",
   "execution_count": 49,
   "id": "282d7b45-f696-4899-8ede-e62c08722eb4",
   "metadata": {
    "tags": []
   },
   "outputs": [
    {
     "data": {
      "text/plain": [
       "[{'score': 0.8292388319969177,\n",
       "  'token': 6711,\n",
       "  'token_str': ' mood',\n",
       "  'sequence': 'Joe Biden is in a good mood'},\n",
       " {'score': 0.040497805923223495,\n",
       "  'token': 3989,\n",
       "  'token_str': ' shape',\n",
       "  'sequence': 'Joe Biden is in a good shape'},\n",
       " {'score': 0.02688235603272915,\n",
       "  'token': 317,\n",
       "  'token_str': ' place',\n",
       "  'sequence': 'Joe Biden is in a good place'},\n",
       " {'score': 0.024332040920853615,\n",
       "  'token': 1514,\n",
       "  'token_str': ' spot',\n",
       "  'sequence': 'Joe Biden is in a good spot'},\n",
       " {'score': 0.013950918801128864,\n",
       "  'token': 737,\n",
       "  'token_str': ' position',\n",
       "  'sequence': 'Joe Biden is in a good position'}]"
      ]
     },
     "execution_count": 49,
     "metadata": {},
     "output_type": "execute_result"
    }
   ],
   "source": [
    "fill_mask('Joe Biden is in a good <mask>')"
   ]
  },
  {
   "cell_type": "markdown",
   "id": "da03a3e1-5a16-4107-8c63-4e78506ce35e",
   "metadata": {},
   "source": [
    "### Sentiment Analysis (+ve/-ve)"
   ]
  },
  {
   "cell_type": "code",
   "execution_count": 3,
   "id": "d1a6e3f2-7b77-4504-b03c-2d385e653e66",
   "metadata": {
    "tags": []
   },
   "outputs": [],
   "source": [
    "# Set default locations for downloaded models\n",
    "import os\n",
    "\n",
    "if os.name != 'nt':  # Do this only if in a non-Windows environment\n",
    "    \n",
    "    if 'instructor' in os.getcwd(): # Set default model locations when logged in as instructor\n",
    "        os.environ['HF_HOME'] = '/home/instructor/shared/huggingface'\n",
    "        os.environ['SENTENCE_TRANSFORMERS_HOME'] = '/home/instructor/shared/huggingface'\n",
    "            \n",
    "    else: # Set default model locations when logged in as a student\n",
    "        os.environ['HF_HOME'] = '/home/jovyan/shared/huggingface'\n",
    "        os.environ['SENTENCE_TRANSFORMERS_HOME'] = '/home/jovyan/shared/huggingface'\n",
    "        "
   ]
  },
  {
   "cell_type": "code",
   "execution_count": 4,
   "id": "dc9df2f9-22fc-48c3-82d9-95c05b36e5bf",
   "metadata": {},
   "outputs": [
    {
     "name": "stderr",
     "output_type": "stream",
     "text": [
      "No model was supplied, defaulted to distilbert-base-uncased-finetuned-sst-2-english and revision af0f99b (https://huggingface.co/distilbert-base-uncased-finetuned-sst-2-english).\n",
      "Using a pipeline without specifying a model name and revision in production is not recommended.\n"
     ]
    },
    {
     "data": {
      "text/plain": [
       "[{'label': 'POSITIVE', 'score': 0.9996662139892578}]"
      ]
     },
     "execution_count": 4,
     "metadata": {},
     "output_type": "execute_result"
    }
   ],
   "source": [
    "from transformers import pipeline\n",
    "\n",
    "classifier = pipeline(\"sentiment-analysis\")\n",
    "\n",
    "classifier(\"It was sort of ok\")"
   ]
  },
  {
   "cell_type": "code",
   "execution_count": 52,
   "id": "f4b894d9-79da-4561-b031-3858f27b555a",
   "metadata": {},
   "outputs": [
    {
     "data": {
      "text/plain": [
       "[{'label': 'POSITIVE', 'score': 0.8596643209457397}]"
      ]
     },
     "execution_count": 52,
     "metadata": {},
     "output_type": "execute_result"
    }
   ],
   "source": [
    "classifier(mytext)"
   ]
  },
  {
   "cell_type": "markdown",
   "id": "79de3dbd-184e-4cfb-86f4-bd5de14de84d",
   "metadata": {},
   "source": [
    "### Named Entity Recognition  \n",
    "\n",
    "Identify tokens as belonging to one of 9 classes:\n",
    "\n",
    "```\n",
    "O, Outside of a named entity\n",
    "B-MIS, Beginning of a miscellaneous entity right after another miscellaneous entity\n",
    "I-MIS, Miscellaneous entity\n",
    "B-PER, Beginning of a person’s name right after another person’s name\n",
    "I-PER, Person’s name\n",
    "B-ORG, Beginning of an organisation right after another organisation\n",
    "I-ORG, Organisation\n",
    "B-LOC, Beginning of a location right after another location\n",
    "I-LOC, Location\n",
    "```"
   ]
  },
  {
   "cell_type": "code",
   "execution_count": 53,
   "id": "3aabc079-9026-4ca9-8447-022cde8d704f",
   "metadata": {
    "tags": []
   },
   "outputs": [],
   "source": [
    "# Set default locations for downloaded models\n",
    "import os\n",
    "\n",
    "if os.name != 'nt':  # Do this only if in a non-Windows environment\n",
    "    \n",
    "    if 'instructor' in os.getcwd(): # Set default model locations when logged in as instructor\n",
    "        os.environ['TRANSFORMERS_CACHE'] = '/home/instructor/shared/huggingface'\n",
    "        os.environ['SENTENCE_TRANSFORMERS_HOME'] = '/home/instructor/shared/huggingface'\n",
    "            \n",
    "    else: # Set default model locations when logged in as a student\n",
    "        os.environ['TRANSFORMERS_CACHE'] = '/home/jovyan/shared/huggingface'\n",
    "        os.environ['SENTENCE_TRANSFORMERS_HOME'] = '/home/jovyan/shared/huggingface'\n",
    "        "
   ]
  },
  {
   "cell_type": "code",
   "execution_count": 5,
   "id": "46efe9c7-0285-4a00-9dce-a1c9a8347006",
   "metadata": {},
   "outputs": [
    {
     "name": "stderr",
     "output_type": "stream",
     "text": [
      "No model was supplied, defaulted to dbmdz/bert-large-cased-finetuned-conll03-english and revision f2482bf (https://huggingface.co/dbmdz/bert-large-cased-finetuned-conll03-english).\n",
      "Using a pipeline without specifying a model name and revision in production is not recommended.\n",
      "Some weights of the model checkpoint at dbmdz/bert-large-cased-finetuned-conll03-english were not used when initializing BertForTokenClassification: ['bert.pooler.dense.bias', 'bert.pooler.dense.weight']\n",
      "- This IS expected if you are initializing BertForTokenClassification from the checkpoint of a model trained on another task or with another architecture (e.g. initializing a BertForSequenceClassification model from a BertForPreTraining model).\n",
      "- This IS NOT expected if you are initializing BertForTokenClassification from the checkpoint of a model that you expect to be exactly identical (initializing a BertForSequenceClassification model from a BertForSequenceClassification model).\n"
     ]
    },
    {
     "data": {
      "text/plain": [
       "[{'entity': 'I-LOC',\n",
       "  'score': 0.99756324,\n",
       "  'index': 1,\n",
       "  'word': 'Seattle',\n",
       "  'start': 0,\n",
       "  'end': 7},\n",
       " {'entity': 'I-LOC',\n",
       "  'score': 0.9981115,\n",
       "  'index': 6,\n",
       "  'word': 'Washington',\n",
       "  'start': 21,\n",
       "  'end': 31},\n",
       " {'entity': 'I-ORG',\n",
       "  'score': 0.9993381,\n",
       "  'index': 8,\n",
       "  'word': 'Microsoft',\n",
       "  'start': 38,\n",
       "  'end': 47}]"
      ]
     },
     "execution_count": 5,
     "metadata": {},
     "output_type": "execute_result"
    }
   ],
   "source": [
    "ner = pipeline(\"ner\") \n",
    "\n",
    "ner(\"Seattle is a city in Washington where Microsoft is headquartered\")"
   ]
  },
  {
   "cell_type": "code",
   "execution_count": 55,
   "id": "1527bfc3-3192-4aeb-9b59-79b11aafdbe8",
   "metadata": {
    "collapsed": true,
    "jupyter": {
     "outputs_hidden": true
    },
    "tags": []
   },
   "outputs": [
    {
     "data": {
      "text/plain": [
       "[{'entity': 'I-ORG',\n",
       "  'score': 0.99932563,\n",
       "  'index': 1,\n",
       "  'word': 'Panther',\n",
       "  'start': 1,\n",
       "  'end': 8},\n",
       " {'entity': 'I-ORG',\n",
       "  'score': 0.9993229,\n",
       "  'index': 2,\n",
       "  'word': 'Labs',\n",
       "  'start': 9,\n",
       "  'end': 13},\n",
       " {'entity': 'I-ORG',\n",
       "  'score': 0.9992663,\n",
       "  'index': 37,\n",
       "  'word': 'Co',\n",
       "  'start': 171,\n",
       "  'end': 173},\n",
       " {'entity': 'I-ORG',\n",
       "  'score': 0.9986853,\n",
       "  'index': 38,\n",
       "  'word': '##at',\n",
       "  'start': 173,\n",
       "  'end': 175},\n",
       " {'entity': 'I-ORG',\n",
       "  'score': 0.999196,\n",
       "  'index': 39,\n",
       "  'word': '##ue',\n",
       "  'start': 175,\n",
       "  'end': 177},\n",
       " {'entity': 'I-ORG',\n",
       "  'score': 0.99944323,\n",
       "  'index': 40,\n",
       "  'word': 'Management',\n",
       "  'start': 178,\n",
       "  'end': 188},\n",
       " {'entity': 'I-ORG',\n",
       "  'score': 0.9994549,\n",
       "  'index': 42,\n",
       "  'word': 'Panther',\n",
       "  'start': 191,\n",
       "  'end': 198},\n",
       " {'entity': 'I-ORG',\n",
       "  'score': 0.9986261,\n",
       "  'index': 43,\n",
       "  'word': 'Labs',\n",
       "  'start': 199,\n",
       "  'end': 203},\n",
       " {'entity': 'I-ORG',\n",
       "  'score': 0.99832755,\n",
       "  'index': 85,\n",
       "  'word': 'Co',\n",
       "  'start': 367,\n",
       "  'end': 369},\n",
       " {'entity': 'I-ORG',\n",
       "  'score': 0.9989543,\n",
       "  'index': 86,\n",
       "  'word': '##at',\n",
       "  'start': 369,\n",
       "  'end': 371},\n",
       " {'entity': 'I-ORG',\n",
       "  'score': 0.99904543,\n",
       "  'index': 87,\n",
       "  'word': '##ue',\n",
       "  'start': 371,\n",
       "  'end': 373},\n",
       " {'entity': 'I-ORG',\n",
       "  'score': 0.99918145,\n",
       "  'index': 88,\n",
       "  'word': 'Management',\n",
       "  'start': 374,\n",
       "  'end': 384},\n",
       " {'entity': 'I-ORG',\n",
       "  'score': 0.99947304,\n",
       "  'index': 90,\n",
       "  'word': 'Panther',\n",
       "  'start': 386,\n",
       "  'end': 393},\n",
       " {'entity': 'I-ORG',\n",
       "  'score': 0.9986386,\n",
       "  'index': 91,\n",
       "  'word': 'Labs',\n",
       "  'start': 394,\n",
       "  'end': 398},\n",
       " {'entity': 'I-ORG',\n",
       "  'score': 0.9969086,\n",
       "  'index': 95,\n",
       "  'word': 'I',\n",
       "  'start': 423,\n",
       "  'end': 424},\n",
       " {'entity': 'I-ORG',\n",
       "  'score': 0.98679113,\n",
       "  'index': 96,\n",
       "  'word': '##CO',\n",
       "  'start': 424,\n",
       "  'end': 426},\n",
       " {'entity': 'I-ORG',\n",
       "  'score': 0.9962644,\n",
       "  'index': 97,\n",
       "  'word': '##NI',\n",
       "  'start': 426,\n",
       "  'end': 428},\n",
       " {'entity': 'I-ORG',\n",
       "  'score': 0.9870978,\n",
       "  'index': 98,\n",
       "  'word': '##Q',\n",
       "  'start': 428,\n",
       "  'end': 429},\n",
       " {'entity': 'I-ORG',\n",
       "  'score': 0.995076,\n",
       "  'index': 99,\n",
       "  'word': 'Growth',\n",
       "  'start': 430,\n",
       "  'end': 436},\n",
       " {'entity': 'I-ORG',\n",
       "  'score': 0.997384,\n",
       "  'index': 101,\n",
       "  'word': 'Snow',\n",
       "  'start': 441,\n",
       "  'end': 445},\n",
       " {'entity': 'I-ORG',\n",
       "  'score': 0.99732804,\n",
       "  'index': 102,\n",
       "  'word': '##f',\n",
       "  'start': 445,\n",
       "  'end': 446},\n",
       " {'entity': 'I-ORG',\n",
       "  'score': 0.9969291,\n",
       "  'index': 103,\n",
       "  'word': '##lake',\n",
       "  'start': 446,\n",
       "  'end': 450},\n",
       " {'entity': 'I-ORG',\n",
       "  'score': 0.99730384,\n",
       "  'index': 104,\n",
       "  'word': 'Ventures',\n",
       "  'start': 451,\n",
       "  'end': 459},\n",
       " {'entity': 'I-ORG',\n",
       "  'score': 0.99798065,\n",
       "  'index': 111,\n",
       "  'word': 'Lights',\n",
       "  'start': 501,\n",
       "  'end': 507},\n",
       " {'entity': 'I-ORG',\n",
       "  'score': 0.98029435,\n",
       "  'index': 112,\n",
       "  'word': '##pe',\n",
       "  'start': 507,\n",
       "  'end': 509},\n",
       " {'entity': 'I-ORG',\n",
       "  'score': 0.99478084,\n",
       "  'index': 113,\n",
       "  'word': '##ed',\n",
       "  'start': 509,\n",
       "  'end': 511},\n",
       " {'entity': 'I-ORG',\n",
       "  'score': 0.99712026,\n",
       "  'index': 114,\n",
       "  'word': 'Venture',\n",
       "  'start': 512,\n",
       "  'end': 519},\n",
       " {'entity': 'I-ORG',\n",
       "  'score': 0.99780315,\n",
       "  'index': 115,\n",
       "  'word': 'Partners',\n",
       "  'start': 520,\n",
       "  'end': 528},\n",
       " {'entity': 'I-ORG',\n",
       "  'score': 0.9866433,\n",
       "  'index': 117,\n",
       "  'word': 'S',\n",
       "  'start': 530,\n",
       "  'end': 531},\n",
       " {'entity': 'I-ORG',\n",
       "  'score': 0.97416526,\n",
       "  'index': 118,\n",
       "  'word': '##28',\n",
       "  'start': 531,\n",
       "  'end': 533},\n",
       " {'entity': 'I-ORG',\n",
       "  'score': 0.9915843,\n",
       "  'index': 119,\n",
       "  'word': 'Capital',\n",
       "  'start': 534,\n",
       "  'end': 541},\n",
       " {'entity': 'I-ORG',\n",
       "  'score': 0.9983632,\n",
       "  'index': 122,\n",
       "  'word': 'Innovation',\n",
       "  'start': 547,\n",
       "  'end': 557},\n",
       " {'entity': 'I-ORG',\n",
       "  'score': 0.9993075,\n",
       "  'index': 123,\n",
       "  'word': 'End',\n",
       "  'start': 558,\n",
       "  'end': 561},\n",
       " {'entity': 'I-ORG',\n",
       "  'score': 0.9934894,\n",
       "  'index': 124,\n",
       "  'word': '##eavor',\n",
       "  'start': 561,\n",
       "  'end': 566},\n",
       " {'entity': 'I-ORG',\n",
       "  'score': 0.98961776,\n",
       "  'index': 125,\n",
       "  'word': '##s',\n",
       "  'start': 566,\n",
       "  'end': 567},\n",
       " {'entity': 'I-LOC',\n",
       "  'score': 0.99653375,\n",
       "  'index': 143,\n",
       "  'word': 'San',\n",
       "  'start': 653,\n",
       "  'end': 656},\n",
       " {'entity': 'I-LOC',\n",
       "  'score': 0.9925095,\n",
       "  'index': 144,\n",
       "  'word': 'Francisco',\n",
       "  'start': 657,\n",
       "  'end': 666},\n",
       " {'entity': 'I-ORG',\n",
       "  'score': 0.9983175,\n",
       "  'index': 151,\n",
       "  'word': 'Air',\n",
       "  'start': 694,\n",
       "  'end': 697},\n",
       " {'entity': 'I-ORG',\n",
       "  'score': 0.98135924,\n",
       "  'index': 152,\n",
       "  'word': '##b',\n",
       "  'start': 697,\n",
       "  'end': 698},\n",
       " {'entity': 'I-ORG',\n",
       "  'score': 0.6833769,\n",
       "  'index': 153,\n",
       "  'word': '##n',\n",
       "  'start': 698,\n",
       "  'end': 699},\n",
       " {'entity': 'I-ORG',\n",
       "  'score': 0.9928785,\n",
       "  'index': 154,\n",
       "  'word': '##b',\n",
       "  'start': 699,\n",
       "  'end': 700},\n",
       " {'entity': 'I-ORG',\n",
       "  'score': 0.998475,\n",
       "  'index': 156,\n",
       "  'word': 'A',\n",
       "  'start': 705,\n",
       "  'end': 706},\n",
       " {'entity': 'I-ORG',\n",
       "  'score': 0.99682593,\n",
       "  'index': 157,\n",
       "  'word': '##WS',\n",
       "  'start': 706,\n",
       "  'end': 708},\n",
       " {'entity': 'I-ORG',\n",
       "  'score': 0.804082,\n",
       "  'index': 192,\n",
       "  'word': 'Panther',\n",
       "  'start': 886,\n",
       "  'end': 893},\n",
       " {'entity': 'I-ORG',\n",
       "  'score': 0.995609,\n",
       "  'index': 231,\n",
       "  'word': 'Panther',\n",
       "  'start': 1122,\n",
       "  'end': 1129},\n",
       " {'entity': 'I-ORG',\n",
       "  'score': 0.9984397,\n",
       "  'index': 247,\n",
       "  'word': 'Drop',\n",
       "  'start': 1218,\n",
       "  'end': 1222},\n",
       " {'entity': 'I-ORG',\n",
       "  'score': 0.9981306,\n",
       "  'index': 248,\n",
       "  'word': '##box',\n",
       "  'start': 1222,\n",
       "  'end': 1225},\n",
       " {'entity': 'I-ORG',\n",
       "  'score': 0.99752074,\n",
       "  'index': 250,\n",
       "  'word': 'Z',\n",
       "  'start': 1227,\n",
       "  'end': 1228},\n",
       " {'entity': 'I-ORG',\n",
       "  'score': 0.9697207,\n",
       "  'index': 251,\n",
       "  'word': '##ap',\n",
       "  'start': 1228,\n",
       "  'end': 1230},\n",
       " {'entity': 'I-ORG',\n",
       "  'score': 0.99131715,\n",
       "  'index': 252,\n",
       "  'word': '##ier',\n",
       "  'start': 1230,\n",
       "  'end': 1233},\n",
       " {'entity': 'I-ORG',\n",
       "  'score': 0.9980101,\n",
       "  'index': 254,\n",
       "  'word': 'S',\n",
       "  'start': 1238,\n",
       "  'end': 1239},\n",
       " {'entity': 'I-ORG',\n",
       "  'score': 0.9695137,\n",
       "  'index': 255,\n",
       "  'word': '##ny',\n",
       "  'start': 1239,\n",
       "  'end': 1241},\n",
       " {'entity': 'I-ORG',\n",
       "  'score': 0.99053967,\n",
       "  'index': 256,\n",
       "  'word': '##k',\n",
       "  'start': 1241,\n",
       "  'end': 1242},\n",
       " {'entity': 'I-ORG',\n",
       "  'score': 0.9990858,\n",
       "  'index': 258,\n",
       "  'word': 'Panther',\n",
       "  'start': 1245,\n",
       "  'end': 1252},\n",
       " {'entity': 'I-ORG',\n",
       "  'score': 0.99652547,\n",
       "  'index': 259,\n",
       "  'word': 'Labs',\n",
       "  'start': 1253,\n",
       "  'end': 1257},\n",
       " {'entity': 'I-ORG',\n",
       "  'score': 0.99833304,\n",
       "  'index': 290,\n",
       "  'word': 'Panther',\n",
       "  'start': 1407,\n",
       "  'end': 1414},\n",
       " {'entity': 'I-ORG',\n",
       "  'score': 0.9907589,\n",
       "  'index': 291,\n",
       "  'word': 'Labs',\n",
       "  'start': 1415,\n",
       "  'end': 1419},\n",
       " {'entity': 'I-ORG',\n",
       "  'score': 0.98082525,\n",
       "  'index': 306,\n",
       "  'word': 'Cy',\n",
       "  'start': 1469,\n",
       "  'end': 1471},\n",
       " {'entity': 'I-ORG',\n",
       "  'score': 0.9829427,\n",
       "  'index': 307,\n",
       "  'word': '##C',\n",
       "  'start': 1471,\n",
       "  'end': 1472},\n",
       " {'entity': 'I-ORG',\n",
       "  'score': 0.9704884,\n",
       "  'index': 308,\n",
       "  'word': '##og',\n",
       "  'start': 1472,\n",
       "  'end': 1474},\n",
       " {'entity': 'I-ORG',\n",
       "  'score': 0.8799112,\n",
       "  'index': 309,\n",
       "  'word': '##ni',\n",
       "  'start': 1474,\n",
       "  'end': 1476},\n",
       " {'entity': 'I-ORG',\n",
       "  'score': 0.97091585,\n",
       "  'index': 310,\n",
       "  'word': '##to',\n",
       "  'start': 1476,\n",
       "  'end': 1478}]"
      ]
     },
     "execution_count": 55,
     "metadata": {},
     "output_type": "execute_result"
    }
   ],
   "source": [
    "ner(mytext)"
   ]
  },
  {
   "cell_type": "markdown",
   "id": "ea6af921-d439-4f3f-a03b-84b274453046",
   "metadata": {},
   "source": [
    "### Question Answering"
   ]
  },
  {
   "cell_type": "code",
   "execution_count": 6,
   "id": "64bb4096-d34d-4633-b9b5-1640e0223572",
   "metadata": {
    "tags": []
   },
   "outputs": [],
   "source": [
    "# Set default locations for downloaded models\n",
    "import os\n",
    "\n",
    "if os.name != 'nt':  # Do this only if in a non-Windows environment\n",
    "    \n",
    "    if 'instructor' in os.getcwd(): # Set default model locations when logged in as instructor\n",
    "        os.environ['HF_HOME'] = '/home/instructor/shared/huggingface'\n",
    "        os.environ['SENTENCE_TRANSFORMERS_HOME'] = '/home/instructor/shared/huggingface'\n",
    "            \n",
    "    else: # Set default model locations when logged in as a student\n",
    "        os.environ['HF_HOME'] = '/home/jovyan/shared/huggingface'\n",
    "        os.environ['SENTENCE_TRANSFORMERS_HOME'] = '/home/jovyan/shared/huggingface'\n",
    "        "
   ]
  },
  {
   "cell_type": "code",
   "execution_count": 7,
   "id": "e4872ff3-867c-4ac7-9439-236368213034",
   "metadata": {},
   "outputs": [
    {
     "name": "stderr",
     "output_type": "stream",
     "text": [
      "No model was supplied, defaulted to distilbert-base-cased-distilled-squad and revision 626af31 (https://huggingface.co/distilbert-base-cased-distilled-squad).\n",
      "Using a pipeline without specifying a model name and revision in production is not recommended.\n"
     ]
    },
    {
     "data": {
      "text/plain": [
       "{'score': 0.7861830592155457, 'start': 31, 'end': 41, 'answer': 'NYU Tandon'}"
      ]
     },
     "execution_count": 7,
     "metadata": {},
     "output_type": "execute_result"
    }
   ],
   "source": [
    "from transformers import pipeline\n",
    "\n",
    "question_answerer = pipeline(\"question-answering\") \n",
    "\n",
    "question_answerer(\n",
    "    question=\"Where do I work?\",\n",
    "    context=\"My name is Mukul and I work at NYU Tandon in Brooklyn\",\n",
    ")"
   ]
  },
  {
   "cell_type": "code",
   "execution_count": 58,
   "id": "6198a31b-5478-4f9f-aefc-96771eabaa97",
   "metadata": {},
   "outputs": [
    {
     "name": "stdout",
     "output_type": "stream",
     "text": [
      "\n",
      "Panther Labs, an early stage startup that specializes in detection and response analytics, has raised a whopping $120 million in a new round of funding led by hedge fund Coatue Management.\n",
      "\n",
      "Panther Labs said the Series B investment was raised at a $1.4 billion valuation, putting the company among a growing list of ‘unicorn’ cybersecurity startups.\n",
      "\n",
      "In addition to Coatue Management, Panther Labs scored investments from ICONIQ Growth and Snowflake Ventures along with money from existing investors Lightspeed Venture Partners, S28 Capital, and Innovation Endeavors.\n",
      "\n",
      "The company previously raised $15 million in a September 2020 Series A round.\n",
      "\n",
      "The San Francisco firm, which was founded by Airbnb and AWS alumni, styles itself as a “cloud-scale security analytics platform” that helps organizations prevent breaches by providing actionable insights from large volumes of data.\n",
      "\n",
      "The Panther product can be used by security teams to perform continuous security monitoring, gain security visibility across cloud and on-premise infrastructure, and build data lakes for incident response investigations.\n",
      "\n",
      "In the last year, Panther claims its customer roster grew by 300 percent, including deals with big companies like Dropbox, Zapier and Snyk.\n",
      "\n",
      "Panther Labs said the new funding will be used to speed up product development, expand go-to-marketing initiatives and scale support for its customers.\n",
      "\n",
      "Related: Panther Labs Launches Open-Source Cloud-Native SIEM\n",
      "\n",
      "Related: CyCognito Snags $100 Million for Attack Surface Management\n",
      "\n"
     ]
    }
   ],
   "source": [
    "print(mytext)"
   ]
  },
  {
   "cell_type": "code",
   "execution_count": 59,
   "id": "46cdb04e-42b4-4576-bd22-98b9fd33aaba",
   "metadata": {},
   "outputs": [
    {
     "data": {
      "text/plain": [
       "{'score': 0.02731623686850071,\n",
       " 'start': 249,\n",
       " 'end': 261,\n",
       " 'answer': '$1.4 billion'}"
      ]
     },
     "execution_count": 59,
     "metadata": {},
     "output_type": "execute_result"
    }
   ],
   "source": [
    "question_answerer(\n",
    "    question = \"How much did Panther Labs raise\",\n",
    "    context = mytext,\n",
    ")"
   ]
  },
  {
   "cell_type": "code",
   "execution_count": 60,
   "id": "81474049-6f99-466e-93da-9926791d7ae7",
   "metadata": {},
   "outputs": [
    {
     "data": {
      "text/plain": [
       "{'score': 0.6693973541259766,\n",
       " 'start': 600,\n",
       " 'end': 611,\n",
       " 'answer': '$15 million'}"
      ]
     },
     "execution_count": 60,
     "metadata": {},
     "output_type": "execute_result"
    }
   ],
   "source": [
    "question_answerer(\n",
    "    question = \"How much did Panther Labs raise previously\",\n",
    "    context = mytext,\n",
    ")"
   ]
  },
  {
   "cell_type": "code",
   "execution_count": 61,
   "id": "8126e3bc-c524-4406-b273-bbc596cf1c22",
   "metadata": {},
   "outputs": [
    {
     "data": {
      "text/plain": [
       "{'score': 2.9083561457809992e-05,\n",
       " 'start': 694,\n",
       " 'end': 715,\n",
       " 'answer': 'Airbnb and AWS alumni'}"
      ]
     },
     "execution_count": 61,
     "metadata": {},
     "output_type": "execute_result"
    }
   ],
   "source": [
    "question_answerer(\n",
    "    question = \"Who founded Panter Labs\",\n",
    "    context = mytext,\n",
    ")"
   ]
  },
  {
   "cell_type": "code",
   "execution_count": null,
   "id": "c221e1f4-5dc3-4650-88ef-5c81d67a8952",
   "metadata": {},
   "outputs": [],
   "source": []
  },
  {
   "cell_type": "markdown",
   "id": "3bccfe46-0303-41b9-a12c-5b72668fea18",
   "metadata": {},
   "source": [
    "### Summarization"
   ]
  },
  {
   "cell_type": "code",
   "execution_count": 62,
   "id": "ad3a49e5-fdba-4bed-9f8b-b3b15f81371f",
   "metadata": {
    "tags": []
   },
   "outputs": [],
   "source": [
    "# Set default locations for downloaded models\n",
    "import os\n",
    "\n",
    "if os.name != 'nt':  # Do this only if in a non-Windows environment\n",
    "    \n",
    "    if 'instructor' in os.getcwd(): # Set default model locations when logged in as instructor\n",
    "        os.environ['TRANSFORMERS_CACHE'] = '/home/instructor/shared/huggingface'\n",
    "        os.environ['SENTENCE_TRANSFORMERS_HOME'] = '/home/instructor/shared/huggingface'\n",
    "            \n",
    "    else: # Set default model locations when logged in as a student\n",
    "        os.environ['TRANSFORMERS_CACHE'] = '/home/jovyan/shared/huggingface'\n",
    "        os.environ['SENTENCE_TRANSFORMERS_HOME'] = '/home/jovyan/shared/huggingface'\n",
    "        "
   ]
  },
  {
   "cell_type": "code",
   "execution_count": null,
   "id": "c6d26c4e-2b02-40cd-812d-822257c97d99",
   "metadata": {},
   "outputs": [
    {
     "name": "stderr",
     "output_type": "stream",
     "text": [
      "No model was supplied, defaulted to sshleifer/distilbart-cnn-12-6 and revision a4f8f3e (https://huggingface.co/sshleifer/distilbart-cnn-12-6).\n",
      "Using a pipeline without specifying a model name and revision in production is not recommended.\n"
     ]
    }
   ],
   "source": [
    "from transformers import pipeline\n",
    "\n",
    "summarizer = pipeline(\"summarization\")\n",
    "\n",
    "summarizer(\n",
    "    \"\"\"\n",
    "    America has changed dramatically during recent years. Not only has the number of \n",
    "    graduates in traditional engineering disciplines such as mechanical, civil, \n",
    "    electrical, chemical, and aeronautical engineering declined, but in most of \n",
    "    the premier American universities engineering curricula now concentrate on \n",
    "    and encourage largely the study of engineering science. As a result, there \n",
    "    are declining offerings in engineering subjects dealing with infrastructure, \n",
    "    the environment, and related issues, and greater concentration on high \n",
    "    technology subjects, largely supporting increasingly complex scientific \n",
    "    developments. While the latter is important, it should not be at the expense \n",
    "    of more traditional engineering.\n",
    "\n",
    "    Rapidly developing economies such as China anbd India, as well as other \n",
    "    industrial countries in Europe and Asia, continue to encourage and advance \n",
    "    the teaching of engineering. Both China and India, respectively, graduate \n",
    "    six and eight times as many traditional engineers as does the United States. \n",
    "    Other industrial countries at minimum maintain their output, while America \n",
    "    suffers an increasingly serious decline in the number of engineering graduates \n",
    "    and a lack of well-educated engineers.\n",
    "\"\"\"\n",
    ")"
   ]
  },
  {
   "cell_type": "code",
   "execution_count": null,
   "id": "dcb14b62-fe28-4237-a21f-14f23e08cbe5",
   "metadata": {},
   "outputs": [],
   "source": []
  },
  {
   "cell_type": "code",
   "execution_count": null,
   "id": "cd28ca4d-7ab6-418a-9c51-2bf51168a9dd",
   "metadata": {},
   "outputs": [],
   "source": [
    "mytext = \"\"\"\n",
    "Panther Labs, an early stage startup that specializes in detection and response analytics, has raised a whopping $120 million in a new round of funding led by hedge fund Coatue Management.\n",
    "\n",
    "Panther Labs said the Series B investment was raised at a $1.4 billion valuation, putting the company among a growing list of ‘unicorn’ cybersecurity startups.\n",
    "\n",
    "In addition to Coatue Management, Panther Labs scored investments from ICONIQ Growth and Snowflake Ventures along with money from existing investors Lightspeed Venture Partners, S28 Capital, and Innovation Endeavors.\n",
    "\n",
    "The company previously raised $15 million in a September 2020 Series A round.\n",
    "\n",
    "The San Francisco firm, which was founded by Airbnb and AWS alumni, styles itself as a “cloud-scale security analytics platform” that helps organizations prevent breaches by providing actionable insights from large volumes of data.\n",
    "\n",
    "The Panther product can be used by security teams to perform continuous security monitoring, gain security visibility across cloud and on-premise infrastructure, and build data lakes for incident response investigations.\n",
    "\n",
    "In the last year, Panther claims its customer roster grew by 300 percent, including deals with big companies like Dropbox, Zapier and Snyk.\n",
    "\n",
    "Panther Labs said the new funding will be used to speed up product development, expand go-to-marketing initiatives and scale support for its customers.\n",
    "\n",
    "Related: Panther Labs Launches Open-Source Cloud-Native SIEM\n",
    "\n",
    "Related: CyCognito Snags $100 Million for Attack Surface Management\n",
    "\"\"\""
   ]
  },
  {
   "cell_type": "code",
   "execution_count": null,
   "id": "c670fefc-164b-47f5-b2b7-af3ec503169b",
   "metadata": {},
   "outputs": [],
   "source": [
    "summarizer(mytext)"
   ]
  },
  {
   "cell_type": "markdown",
   "id": "a3f019b3-e889-4866-b819-812d44f1d03d",
   "metadata": {},
   "source": [
    "### Translation"
   ]
  },
  {
   "cell_type": "code",
   "execution_count": 3,
   "id": "8cc676b9-24e0-42e5-9e7b-92ee618871c2",
   "metadata": {
    "tags": []
   },
   "outputs": [
    {
     "name": "stderr",
     "output_type": "stream",
     "text": [
      "2024-01-16 20:05:25.243741: I tensorflow/core/platform/cpu_feature_guard.cc:193] This TensorFlow binary is optimized with oneAPI Deep Neural Network Library (oneDNN) to use the following CPU instructions in performance-critical operations:  AVX2 FMA\n",
      "To enable them in other operations, rebuild TensorFlow with the appropriate compiler flags.\n",
      "2024-01-16 20:05:25.893935: W tensorflow/compiler/xla/stream_executor/platform/default/dso_loader.cc:64] Could not load dynamic library 'libcudart.so.11.0'; dlerror: libcudart.so.11.0: cannot open shared object file: No such file or directory; LD_LIBRARY_PATH: :/usr/local/nvidia/lib64\n",
      "2024-01-16 20:05:25.893967: I tensorflow/compiler/xla/stream_executor/cuda/cudart_stub.cc:29] Ignore above cudart dlerror if you do not have a GPU set up on your machine.\n",
      "2024-01-16 20:05:28.750728: W tensorflow/compiler/xla/stream_executor/platform/default/dso_loader.cc:64] Could not load dynamic library 'libnvinfer.so.7'; dlerror: libnvinfer.so.7: cannot open shared object file: No such file or directory; LD_LIBRARY_PATH: :/usr/local/nvidia/lib64\n",
      "2024-01-16 20:05:28.753079: W tensorflow/compiler/xla/stream_executor/platform/default/dso_loader.cc:64] Could not load dynamic library 'libnvinfer_plugin.so.7'; dlerror: libnvinfer_plugin.so.7: cannot open shared object file: No such file or directory; LD_LIBRARY_PATH: :/usr/local/nvidia/lib64\n",
      "2024-01-16 20:05:28.753097: W tensorflow/compiler/tf2tensorrt/utils/py_utils.cc:38] TF-TRT Warning: Cannot dlopen some TensorRT libraries. If you would like to use Nvidia GPU with TensorRT, please make sure the missing libraries mentioned above are installed properly.\n"
     ]
    }
   ],
   "source": [
    "# Set default locations for downloaded models\n",
    "import os\n",
    "from transformers import pipeline\n",
    "\n",
    "if os.name != 'nt':  # Do this only if in a non-Windows environment\n",
    "    \n",
    "    if 'instructor' in os.getcwd(): # Set default model locations when logged in as instructor\n",
    "        os.environ['HF_HOME'] = '/home/instructor/shared/huggingface'\n",
    "        os.environ['SENTENCE_TRANSFORMERS_HOME'] = '/home/instructor/shared/huggingface'\n",
    "            \n",
    "    else: # Set default model locations when logged in as a student\n",
    "        os.environ['HF_HOME'] = '/home/jovyan/shared/huggingface'\n",
    "        os.environ['SENTENCE_TRANSFORMERS_HOME'] = '/home/jovyan/shared/huggingface'\n",
    "        "
   ]
  },
  {
   "cell_type": "code",
   "execution_count": 4,
   "id": "8d83784e-d0ab-4dda-990a-8d9eaa911c95",
   "metadata": {
    "tags": []
   },
   "outputs": [
    {
     "name": "stderr",
     "output_type": "stream",
     "text": [
      "No model was supplied, defaulted to t5-base and revision 686f1db (https://huggingface.co/t5-base).\n",
      "Using a pipeline without specifying a model name and revision in production is not recommended.\n"
     ]
    },
    {
     "data": {
      "application/vnd.jupyter.widget-view+json": {
       "model_id": "b68a7e1d69a24e678035a4c71e962858",
       "version_major": 2,
       "version_minor": 0
      },
      "text/plain": [
       "config.json:   0%|          | 0.00/1.21k [00:00<?, ?B/s]"
      ]
     },
     "metadata": {},
     "output_type": "display_data"
    },
    {
     "data": {
      "application/vnd.jupyter.widget-view+json": {
       "model_id": "82982bb5318b4ea29eab85b0f5af528d",
       "version_major": 2,
       "version_minor": 0
      },
      "text/plain": [
       "model.safetensors:   0%|          | 0.00/892M [00:00<?, ?B/s]"
      ]
     },
     "metadata": {},
     "output_type": "display_data"
    },
    {
     "data": {
      "application/vnd.jupyter.widget-view+json": {
       "model_id": "5ae5dc40ac3e4e8a812e70eaffcb7b68",
       "version_major": 2,
       "version_minor": 0
      },
      "text/plain": [
       "generation_config.json:   0%|          | 0.00/147 [00:00<?, ?B/s]"
      ]
     },
     "metadata": {},
     "output_type": "display_data"
    },
    {
     "data": {
      "application/vnd.jupyter.widget-view+json": {
       "model_id": "764428c7ae6647bd9e5f6ecb3c4c40a8",
       "version_major": 2,
       "version_minor": 0
      },
      "text/plain": [
       "spiece.model:   0%|          | 0.00/792k [00:00<?, ?B/s]"
      ]
     },
     "metadata": {},
     "output_type": "display_data"
    },
    {
     "data": {
      "application/vnd.jupyter.widget-view+json": {
       "model_id": "efaf4ea8070c4e8c9a6f65afd6ceda39",
       "version_major": 2,
       "version_minor": 0
      },
      "text/plain": [
       "tokenizer.json:   0%|          | 0.00/1.39M [00:00<?, ?B/s]"
      ]
     },
     "metadata": {},
     "output_type": "display_data"
    },
    {
     "name": "stderr",
     "output_type": "stream",
     "text": [
      "/opt/conda/envs/mggy8413/lib/python3.10/site-packages/transformers/models/t5/tokenization_t5_fast.py:160: FutureWarning: This tokenizer was incorrectly instantiated with a model max length of 512 which will be corrected in Transformers v5.\n",
      "For now, this behavior is kept to avoid breaking backwards compatibility when padding/encoding with `truncation is True`.\n",
      "- Be aware that you SHOULD NOT rely on t5-base automatically truncating your input to 512 when padding/encoding.\n",
      "- If you want to encode/pad to sequences longer than 512 you can either instantiate this tokenizer with `model_max_length` or pass `max_length` when encoding/padding.\n",
      "- To avoid this warning, please instantiate this tokenizer with `model_max_length` set to your preferred value.\n",
      "  warnings.warn(\n"
     ]
    },
    {
     "data": {
      "text/plain": [
       "[{'translation_text': 'Je ne parle pas français'}]"
      ]
     },
     "execution_count": 4,
     "metadata": {},
     "output_type": "execute_result"
    }
   ],
   "source": [
    "translator = pipeline(\"translation_en_to_fr\")\n",
    "translator(\"I do not speak French\")"
   ]
  },
  {
   "cell_type": "markdown",
   "id": "d8355749-a4d2-4679-8c47-10887677a693",
   "metadata": {},
   "source": [
    "### Text Generation"
   ]
  },
  {
   "cell_type": "code",
   "execution_count": 5,
   "id": "b634aa71-6838-40e2-9ff4-f52427aa21e2",
   "metadata": {
    "tags": []
   },
   "outputs": [],
   "source": [
    "# Set default locations for downloaded models\n",
    "import os\n",
    "\n",
    "if os.name != 'nt':  # Do this only if in a non-Windows environment\n",
    "    \n",
    "    if 'instructor' in os.getcwd(): # Set default model locations when logged in as instructor\n",
    "        os.environ['HF_HOME'] = '/home/instructor/shared/huggingface'\n",
    "        os.environ['SENTENCE_TRANSFORMERS_HOME'] = '/home/instructor/shared/huggingface'\n",
    "            \n",
    "    else: # Set default model locations when logged in as a student\n",
    "        os.environ['HF_HOME'] = '/home/jovyan/shared/huggingface'\n",
    "        os.environ['SENTENCE_TRANSFORMERS_HOME'] = '/home/jovyan/shared/huggingface'\n",
    "        "
   ]
  },
  {
   "cell_type": "code",
   "execution_count": 6,
   "id": "fff312b8-bc23-4374-809a-646b630ecc85",
   "metadata": {},
   "outputs": [
    {
     "name": "stderr",
     "output_type": "stream",
     "text": [
      "No model was supplied, defaulted to gpt2 and revision 6c0e608 (https://huggingface.co/gpt2).\n",
      "Using a pipeline without specifying a model name and revision in production is not recommended.\n"
     ]
    },
    {
     "data": {
      "application/vnd.jupyter.widget-view+json": {
       "model_id": "0d047c01eb9640a3977221e8a7cfc3ee",
       "version_major": 2,
       "version_minor": 0
      },
      "text/plain": [
       "config.json:   0%|          | 0.00/665 [00:00<?, ?B/s]"
      ]
     },
     "metadata": {},
     "output_type": "display_data"
    },
    {
     "data": {
      "application/vnd.jupyter.widget-view+json": {
       "model_id": "7cff58dee4f548baba6805cbe682febc",
       "version_major": 2,
       "version_minor": 0
      },
      "text/plain": [
       "model.safetensors:   0%|          | 0.00/548M [00:00<?, ?B/s]"
      ]
     },
     "metadata": {},
     "output_type": "display_data"
    },
    {
     "data": {
      "application/vnd.jupyter.widget-view+json": {
       "model_id": "f9eb3ae79ba44b7983f02ea042edccf3",
       "version_major": 2,
       "version_minor": 0
      },
      "text/plain": [
       "generation_config.json:   0%|          | 0.00/124 [00:00<?, ?B/s]"
      ]
     },
     "metadata": {},
     "output_type": "display_data"
    },
    {
     "data": {
      "application/vnd.jupyter.widget-view+json": {
       "model_id": "834f51ece7034b7094e502f30ad9070e",
       "version_major": 2,
       "version_minor": 0
      },
      "text/plain": [
       "vocab.json:   0%|          | 0.00/1.04M [00:00<?, ?B/s]"
      ]
     },
     "metadata": {},
     "output_type": "display_data"
    },
    {
     "data": {
      "application/vnd.jupyter.widget-view+json": {
       "model_id": "34e1197b424f4bfb88de143888cf7c72",
       "version_major": 2,
       "version_minor": 0
      },
      "text/plain": [
       "merges.txt:   0%|          | 0.00/456k [00:00<?, ?B/s]"
      ]
     },
     "metadata": {},
     "output_type": "display_data"
    },
    {
     "data": {
      "application/vnd.jupyter.widget-view+json": {
       "model_id": "5a9e21c56cb442de8ded8a37dc0bf8fd",
       "version_major": 2,
       "version_minor": 0
      },
      "text/plain": [
       "tokenizer.json:   0%|          | 0.00/1.36M [00:00<?, ?B/s]"
      ]
     },
     "metadata": {},
     "output_type": "display_data"
    },
    {
     "name": "stderr",
     "output_type": "stream",
     "text": [
      "Setting `pad_token_id` to `eos_token_id`:50256 for open-end generation.\n"
     ]
    },
    {
     "data": {
      "text/plain": [
       "[{'generated_text': \"In this course, we will teach you how to manipulate the data as well as get you started in creating a real-time database. In our second course, we will guide you through what is expected of data structures such as MySQL, PostgreSQL, Spark and OAuth.\\n\\nThe courses will cover how to create a Database using SQL's Sqlite API and how to create a MySQL application using the ExpressSQL API.\\n\\nWe will go in depth on using SQL commands to query the\"},\n",
       " {'generated_text': \"In this course, we will teach you how to use both the JavaScript and Scala collections\\n\\nA common problem with a Scala REPL is to have lots of nested collections, so you want to know many things about one particular collection. Well you can be sure we could run some real Javascript and Javascript library (we'll be using Scala by virtue of which!) that would run this JavaScript code and read its output. Once we have these collections, we need to be able to do one more thing in that\"},\n",
       " {'generated_text': \"In this course, we will teach you how to connect and coordinate digital communication in the digital context. What makes a digital communication possible for you? How to be an online resource? How to act on your social media profile? How will you manage to coordinate the communication?\\n\\nWhat if I didn't want to be online?\\n\\nYou and your team will come across plenty of great online experiences by connecting with other users who value your content and are curious about their work on the Internet.\\n\"},\n",
       " {'generated_text': \"In this course, we will teach you how to be a professional artist on the battlefield.\\n\\nWe are working with some people who are professionals, so they are probably a little bit older than us. All they know is that we are working on what's basically a Kickstarter project. We'll go over every bit and if you'd like to contribute, you can.\\n\\nNow let's do some video-game design. After you've read through the course description you'll know how to create\"}]"
      ]
     },
     "execution_count": 6,
     "metadata": {},
     "output_type": "execute_result"
    }
   ],
   "source": [
    "generator = pipeline(\"text-generation\")\n",
    "\n",
    "generator(\"In this course, we will teach you how to\", max_length = 100, num_return_sequences=4)"
   ]
  },
  {
   "cell_type": "markdown",
   "id": "d87c1ac3-1e7e-440d-b891-cd5685bf820d",
   "metadata": {},
   "source": [
    "### Zero Shot Classification"
   ]
  },
  {
   "cell_type": "code",
   "execution_count": 7,
   "id": "aa1b69b6-e20f-4a63-802f-3ed48e9848f0",
   "metadata": {
    "tags": []
   },
   "outputs": [],
   "source": [
    "# Set default locations for downloaded models\n",
    "import os\n",
    "\n",
    "if os.name != 'nt':  # Do this only if in a non-Windows environment\n",
    "    \n",
    "    if 'instructor' in os.getcwd(): # Set default model locations when logged in as instructor\n",
    "        os.environ['HF_HOME'] = '/home/instructor/shared/huggingface'\n",
    "        os.environ['SENTENCE_TRANSFORMERS_HOME'] = '/home/instructor/shared/huggingface'\n",
    "            \n",
    "    else: # Set default model locations when logged in as a student\n",
    "        os.environ['HF_HOME'] = '/home/jovyan/shared/huggingface'\n",
    "        os.environ['SENTENCE_TRANSFORMERS_HOME'] = '/home/jovyan/shared/huggingface'\n",
    "        "
   ]
  },
  {
   "cell_type": "code",
   "execution_count": 8,
   "id": "ff1d0a85-d115-46d7-859e-aba401933efa",
   "metadata": {},
   "outputs": [
    {
     "name": "stderr",
     "output_type": "stream",
     "text": [
      "No model was supplied, defaulted to facebook/bart-large-mnli and revision c626438 (https://huggingface.co/facebook/bart-large-mnli).\n",
      "Using a pipeline without specifying a model name and revision in production is not recommended.\n"
     ]
    },
    {
     "data": {
      "application/vnd.jupyter.widget-view+json": {
       "model_id": "9100fba7631d44ceb2ee541866d539ce",
       "version_major": 2,
       "version_minor": 0
      },
      "text/plain": [
       "config.json:   0%|          | 0.00/1.15k [00:00<?, ?B/s]"
      ]
     },
     "metadata": {},
     "output_type": "display_data"
    },
    {
     "data": {
      "application/vnd.jupyter.widget-view+json": {
       "model_id": "96f61c15ea2b423eadf35d3af340d1a6",
       "version_major": 2,
       "version_minor": 0
      },
      "text/plain": [
       "model.safetensors:   0%|          | 0.00/1.63G [00:00<?, ?B/s]"
      ]
     },
     "metadata": {},
     "output_type": "display_data"
    },
    {
     "data": {
      "application/vnd.jupyter.widget-view+json": {
       "model_id": "86e2c7f2e32d4da39b84870dbfb9c7ce",
       "version_major": 2,
       "version_minor": 0
      },
      "text/plain": [
       "tokenizer_config.json:   0%|          | 0.00/26.0 [00:00<?, ?B/s]"
      ]
     },
     "metadata": {},
     "output_type": "display_data"
    },
    {
     "data": {
      "application/vnd.jupyter.widget-view+json": {
       "model_id": "bba8a5e8d72844caaceed3b82b145ae6",
       "version_major": 2,
       "version_minor": 0
      },
      "text/plain": [
       "vocab.json:   0%|          | 0.00/899k [00:00<?, ?B/s]"
      ]
     },
     "metadata": {},
     "output_type": "display_data"
    },
    {
     "data": {
      "application/vnd.jupyter.widget-view+json": {
       "model_id": "08a97ca67506419398f9abcf7e599a2c",
       "version_major": 2,
       "version_minor": 0
      },
      "text/plain": [
       "merges.txt:   0%|          | 0.00/456k [00:00<?, ?B/s]"
      ]
     },
     "metadata": {},
     "output_type": "display_data"
    },
    {
     "data": {
      "application/vnd.jupyter.widget-view+json": {
       "model_id": "fe5f604586ee4ced87189b4b0e12ab29",
       "version_major": 2,
       "version_minor": 0
      },
      "text/plain": [
       "tokenizer.json:   0%|          | 0.00/1.36M [00:00<?, ?B/s]"
      ]
     },
     "metadata": {},
     "output_type": "display_data"
    },
    {
     "data": {
      "text/plain": [
       "{'sequence': 'This is a course about the Transformers library',\n",
       " 'labels': ['education', 'business', 'politics'],\n",
       " 'scores': [0.8445992469787598, 0.11197403818368912, 0.04342671483755112]}"
      ]
     },
     "execution_count": 8,
     "metadata": {},
     "output_type": "execute_result"
    }
   ],
   "source": [
    "from transformers import pipeline\n",
    "\n",
    "classifier = pipeline(\"zero-shot-classification\")\n",
    "\n",
    "classifier(\n",
    "    \"This is a course about the Transformers library\",\n",
    "    candidate_labels=[\"education\", \"politics\", \"business\"],\n",
    ")"
   ]
  },
  {
   "cell_type": "code",
   "execution_count": null,
   "id": "537189fa-eaa3-4380-8ac4-d5cb2a9879f5",
   "metadata": {},
   "outputs": [],
   "source": [
    "classifier(mytext, candidate_labels=[\"education\", \"politics\", \"business\"])"
   ]
  },
  {
   "cell_type": "markdown",
   "id": "ab0cf353-8305-470b-98b9-d05c31486182",
   "metadata": {},
   "source": [
    "### Text to text generation\n",
    "Text2TextGeneration can be used for a variety of NLP tasks like question answering, sentiment classification, question generation, translation, paraphrasing, summarization, etc.\n",
    "\n",
    "Refer details at:  \n",
    "https://theaidigest.in/text2textgeneration-pipeline-by-huggingface-transformers/  \n",
    "\n",
    "There are some interesting things this pipeline can do, for example:  \n"
   ]
  },
  {
   "cell_type": "markdown",
   "id": "ba6ec556-47a0-43dd-838e-df502b16f543",
   "metadata": {},
   "source": [
    "#### Question Answering"
   ]
  },
  {
   "cell_type": "code",
   "execution_count": 9,
   "id": "c47d6ab4-e732-40e3-8737-aba9cd80b34f",
   "metadata": {
    "tags": []
   },
   "outputs": [],
   "source": [
    "# Set default locations for downloaded models\n",
    "import os\n",
    "\n",
    "if os.name != 'nt':  # Do this only if in a non-Windows environment\n",
    "    \n",
    "    if 'instructor' in os.getcwd(): # Set default model locations when logged in as instructor\n",
    "        os.environ['HF_HOME'] = '/home/instructor/shared/huggingface'\n",
    "        os.environ['SENTENCE_TRANSFORMERS_HOME'] = '/home/instructor/shared/huggingface'\n",
    "            \n",
    "    else: # Set default model locations when logged in as a student\n",
    "        os.environ['HF_HOME'] = '/home/jovyan/shared/huggingface'\n",
    "        os.environ['SENTENCE_TRANSFORMERS_HOME'] = '/home/jovyan/shared/huggingface'\n",
    "        "
   ]
  },
  {
   "cell_type": "code",
   "execution_count": null,
   "id": "b89df715-d96d-475d-9c72-5c7bbf89d6a0",
   "metadata": {},
   "outputs": [],
   "source": [
    "from transformers import pipeline\n",
    "text2text_generator = pipeline(\"text2text-generation\", model = 't5-base') \n",
    "\n",
    "text2text_generator(\"question: What is 42 ? context: 42 is the answer to life, the universe and everything\")"
   ]
  },
  {
   "cell_type": "markdown",
   "id": "40a5fd97-668a-42a8-a16b-ab8e14bfcd0b",
   "metadata": {},
   "source": [
    "#### Summarization"
   ]
  },
  {
   "cell_type": "code",
   "execution_count": null,
   "id": "231ed843-45e5-4f92-bf16-e20356408172",
   "metadata": {},
   "outputs": [],
   "source": [
    "mytext = \"\"\"\n",
    "Panther Labs, an early stage startup that specializes in detection and response analytics, has raised a whopping $120 million in a new round of funding led by hedge fund Coatue Management.\n",
    "\n",
    "Panther Labs said the Series B investment was raised at a $1.4 billion valuation, putting the company among a growing list of ‘unicorn’ cybersecurity startups.\n",
    "\n",
    "In addition to Coatue Management, Panther Labs scored investments from ICONIQ Growth and Snowflake Ventures along with money from existing investors Lightspeed Venture Partners, S28 Capital, and Innovation Endeavors.\n",
    "\n",
    "The company previously raised $15 million in a September 2020 Series A round.\n",
    "\n",
    "The San Francisco firm, which was founded by Airbnb and AWS alumni, styles itself as a “cloud-scale security analytics platform” that helps organizations prevent breaches by providing actionable insights from large volumes of data.\n",
    "\n",
    "The Panther product can be used by security teams to perform continuous security monitoring, gain security visibility across cloud and on-premise infrastructure, and build data lakes for incident response investigations.\n",
    "\n",
    "In the last year, Panther claims its customer roster grew by 300 percent, including deals with big companies like Dropbox, Zapier and Snyk.\n",
    "\n",
    "Panther Labs said the new funding will be used to speed up product development, expand go-to-marketing initiatives and scale support for its customers.\n",
    "\n",
    "Related: Panther Labs Launches Open-Source Cloud-Native SIEM\n",
    "\n",
    "Related: CyCognito Snags $100 Million for Attack Surface Management\n",
    "\"\"\""
   ]
  },
  {
   "cell_type": "code",
   "execution_count": null,
   "id": "b8d2c704-f086-4d5f-a038-888ee6554f6e",
   "metadata": {},
   "outputs": [],
   "source": [
    "text2text_generator(\"summarize: Natural language processing (NLP) is a subfield of linguistics, computer science, and artificial intelligence concerned with the interactions between computers and human language, \\\n",
    "                     in particular how to program computers to process and analyze large amounts of natural language data.\")"
   ]
  },
  {
   "cell_type": "code",
   "execution_count": null,
   "id": "aae4a707-ae32-48aa-8d57-d03bfd616bbf",
   "metadata": {},
   "outputs": [],
   "source": [
    "text2text_generator(\"summarize: \" + mytext)"
   ]
  },
  {
   "cell_type": "markdown",
   "id": "07186111-a89e-4e81-8e59-be7a8a0384aa",
   "metadata": {},
   "source": [
    "#### Sentiment Analysis"
   ]
  },
  {
   "cell_type": "code",
   "execution_count": null,
   "id": "2cdebd3b-512c-477f-bb51-7813fb2c8a59",
   "metadata": {},
   "outputs": [],
   "source": [
    "text2text_generator(\"sst2 sentence: The vastness of space offers many opportunities for humanity.\")"
   ]
  },
  {
   "cell_type": "code",
   "execution_count": null,
   "id": "420a97aa-b37e-4d5c-aba2-919c88858081",
   "metadata": {},
   "outputs": [],
   "source": []
  },
  {
   "cell_type": "code",
   "execution_count": null,
   "id": "626753bb-7bfc-40b7-a050-eb2a73055d9c",
   "metadata": {},
   "outputs": [],
   "source": []
  }
 ],
 "metadata": {
  "kernelspec": {
   "display_name": "Python [conda env:test1]",
   "language": "python",
   "name": "conda-env-test1-py"
  },
  "language_info": {
   "codemirror_mode": {
    "name": "ipython",
    "version": 3
   },
   "file_extension": ".py",
   "mimetype": "text/x-python",
   "name": "python",
   "nbconvert_exporter": "python",
   "pygments_lexer": "ipython3",
   "version": "3.10.13"
  }
 },
 "nbformat": 4,
 "nbformat_minor": 5
}
