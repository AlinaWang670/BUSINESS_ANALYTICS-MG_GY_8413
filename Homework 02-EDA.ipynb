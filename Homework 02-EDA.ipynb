{
 "cells": [
  {
   "cell_type": "markdown",
   "id": "d41522eb-bdcf-4674-ba55-7bba029daab1",
   "metadata": {},
   "source": [
    "# Homework 2 - EDA"
   ]
  },
  {
   "cell_type": "code",
   "execution_count": 2,
   "id": "2b83313f-62a8-4087-9d1a-ffba81c0697d",
   "metadata": {},
   "outputs": [],
   "source": [
    "# The regular imports\n",
    "\n",
    "import pandas as pd\n",
    "import numpy as np\n",
    "import seaborn as sns\n"
   ]
  },
  {
   "cell_type": "markdown",
   "id": "cb15f0be-850c-43f3-9dc4-0c5973de1988",
   "metadata": {},
   "source": [
    "#### First, we do some data exploration to familiarize ourselves with the volume and kind of data"
   ]
  },
  {
   "cell_type": "code",
   "execution_count": 3,
   "id": "ddb4dcc7-c9c2-41e9-9209-7ab476fb97b6",
   "metadata": {},
   "outputs": [
    {
     "data": {
      "text/html": [
       "<div>\n",
       "<style scoped>\n",
       "    .dataframe tbody tr th:only-of-type {\n",
       "        vertical-align: middle;\n",
       "    }\n",
       "\n",
       "    .dataframe tbody tr th {\n",
       "        vertical-align: top;\n",
       "    }\n",
       "\n",
       "    .dataframe thead th {\n",
       "        text-align: right;\n",
       "    }\n",
       "</style>\n",
       "<table border=\"1\" class=\"dataframe\">\n",
       "  <thead>\n",
       "    <tr style=\"text-align: right;\">\n",
       "      <th></th>\n",
       "      <th>Age</th>\n",
       "      <th>Gender</th>\n",
       "      <th>Stream</th>\n",
       "      <th>Internships</th>\n",
       "      <th>CGPA</th>\n",
       "      <th>Hostel</th>\n",
       "      <th>HistoryOfBacklogs</th>\n",
       "      <th>PlacedOrNot</th>\n",
       "    </tr>\n",
       "  </thead>\n",
       "  <tbody>\n",
       "    <tr>\n",
       "      <th>0</th>\n",
       "      <td>22</td>\n",
       "      <td>Male</td>\n",
       "      <td>Electronics And Communication</td>\n",
       "      <td>1</td>\n",
       "      <td>8</td>\n",
       "      <td>1</td>\n",
       "      <td>1</td>\n",
       "      <td>1</td>\n",
       "    </tr>\n",
       "    <tr>\n",
       "      <th>1</th>\n",
       "      <td>21</td>\n",
       "      <td>Female</td>\n",
       "      <td>Computer Science</td>\n",
       "      <td>0</td>\n",
       "      <td>7</td>\n",
       "      <td>1</td>\n",
       "      <td>1</td>\n",
       "      <td>1</td>\n",
       "    </tr>\n",
       "    <tr>\n",
       "      <th>2</th>\n",
       "      <td>22</td>\n",
       "      <td>Female</td>\n",
       "      <td>Information Technology</td>\n",
       "      <td>1</td>\n",
       "      <td>6</td>\n",
       "      <td>0</td>\n",
       "      <td>0</td>\n",
       "      <td>1</td>\n",
       "    </tr>\n",
       "    <tr>\n",
       "      <th>3</th>\n",
       "      <td>21</td>\n",
       "      <td>Male</td>\n",
       "      <td>Information Technology</td>\n",
       "      <td>0</td>\n",
       "      <td>8</td>\n",
       "      <td>0</td>\n",
       "      <td>1</td>\n",
       "      <td>1</td>\n",
       "    </tr>\n",
       "    <tr>\n",
       "      <th>4</th>\n",
       "      <td>22</td>\n",
       "      <td>Male</td>\n",
       "      <td>Mechanical</td>\n",
       "      <td>0</td>\n",
       "      <td>8</td>\n",
       "      <td>1</td>\n",
       "      <td>0</td>\n",
       "      <td>1</td>\n",
       "    </tr>\n",
       "    <tr>\n",
       "      <th>...</th>\n",
       "      <td>...</td>\n",
       "      <td>...</td>\n",
       "      <td>...</td>\n",
       "      <td>...</td>\n",
       "      <td>...</td>\n",
       "      <td>...</td>\n",
       "      <td>...</td>\n",
       "      <td>...</td>\n",
       "    </tr>\n",
       "    <tr>\n",
       "      <th>2961</th>\n",
       "      <td>23</td>\n",
       "      <td>Male</td>\n",
       "      <td>Information Technology</td>\n",
       "      <td>0</td>\n",
       "      <td>7</td>\n",
       "      <td>0</td>\n",
       "      <td>0</td>\n",
       "      <td>0</td>\n",
       "    </tr>\n",
       "    <tr>\n",
       "      <th>2962</th>\n",
       "      <td>23</td>\n",
       "      <td>Male</td>\n",
       "      <td>Mechanical</td>\n",
       "      <td>1</td>\n",
       "      <td>7</td>\n",
       "      <td>1</td>\n",
       "      <td>0</td>\n",
       "      <td>0</td>\n",
       "    </tr>\n",
       "    <tr>\n",
       "      <th>2963</th>\n",
       "      <td>22</td>\n",
       "      <td>Male</td>\n",
       "      <td>Information Technology</td>\n",
       "      <td>1</td>\n",
       "      <td>7</td>\n",
       "      <td>0</td>\n",
       "      <td>0</td>\n",
       "      <td>0</td>\n",
       "    </tr>\n",
       "    <tr>\n",
       "      <th>2964</th>\n",
       "      <td>22</td>\n",
       "      <td>Male</td>\n",
       "      <td>Computer Science</td>\n",
       "      <td>1</td>\n",
       "      <td>7</td>\n",
       "      <td>0</td>\n",
       "      <td>0</td>\n",
       "      <td>0</td>\n",
       "    </tr>\n",
       "    <tr>\n",
       "      <th>2965</th>\n",
       "      <td>23</td>\n",
       "      <td>Male</td>\n",
       "      <td>Civil</td>\n",
       "      <td>0</td>\n",
       "      <td>8</td>\n",
       "      <td>0</td>\n",
       "      <td>0</td>\n",
       "      <td>1</td>\n",
       "    </tr>\n",
       "  </tbody>\n",
       "</table>\n",
       "<p>2966 rows × 8 columns</p>\n",
       "</div>"
      ],
      "text/plain": [
       "      Age  Gender                         Stream  Internships  CGPA  Hostel  \\\n",
       "0      22    Male  Electronics And Communication            1     8       1   \n",
       "1      21  Female               Computer Science            0     7       1   \n",
       "2      22  Female         Information Technology            1     6       0   \n",
       "3      21    Male         Information Technology            0     8       0   \n",
       "4      22    Male                     Mechanical            0     8       1   \n",
       "...   ...     ...                            ...          ...   ...     ...   \n",
       "2961   23    Male         Information Technology            0     7       0   \n",
       "2962   23    Male                     Mechanical            1     7       1   \n",
       "2963   22    Male         Information Technology            1     7       0   \n",
       "2964   22    Male               Computer Science            1     7       0   \n",
       "2965   23    Male                          Civil            0     8       0   \n",
       "\n",
       "      HistoryOfBacklogs  PlacedOrNot  \n",
       "0                     1            1  \n",
       "1                     1            1  \n",
       "2                     0            1  \n",
       "3                     1            1  \n",
       "4                     0            1  \n",
       "...                 ...          ...  \n",
       "2961                  0            0  \n",
       "2962                  0            0  \n",
       "2963                  0            0  \n",
       "2964                  0            0  \n",
       "2965                  0            1  \n",
       "\n",
       "[2966 rows x 8 columns]"
      ]
     },
     "execution_count": 3,
     "metadata": {},
     "output_type": "execute_result"
    }
   ],
   "source": [
    "df = pd.read_csv(\"collegePlace.csv\")\n",
    "df"
   ]
  },
  {
   "cell_type": "code",
   "execution_count": 4,
   "id": "f809b2ad-b7c2-4091-aa1b-3919ad033126",
   "metadata": {},
   "outputs": [
    {
     "name": "stdout",
     "output_type": "stream",
     "text": [
      "<class 'pandas.core.frame.DataFrame'>\n",
      "RangeIndex: 2966 entries, 0 to 2965\n",
      "Data columns (total 8 columns):\n",
      " #   Column             Non-Null Count  Dtype \n",
      "---  ------             --------------  ----- \n",
      " 0   Age                2966 non-null   int64 \n",
      " 1   Gender             2966 non-null   object\n",
      " 2   Stream             2966 non-null   object\n",
      " 3   Internships        2966 non-null   int64 \n",
      " 4   CGPA               2966 non-null   int64 \n",
      " 5   Hostel             2966 non-null   int64 \n",
      " 6   HistoryOfBacklogs  2966 non-null   int64 \n",
      " 7   PlacedOrNot        2966 non-null   int64 \n",
      "dtypes: int64(6), object(2)\n",
      "memory usage: 185.5+ KB\n"
     ]
    }
   ],
   "source": [
    "df.info()"
   ]
  },
  {
   "cell_type": "code",
   "execution_count": 5,
   "id": "99c63396-9fb5-47bd-b9c8-d37bd1bf473b",
   "metadata": {},
   "outputs": [
    {
     "data": {
      "text/plain": [
       "Age\n",
       "21    1084\n",
       "22     941\n",
       "20     375\n",
       "23     195\n",
       "19     156\n",
       "24     131\n",
       "26      50\n",
       "25      29\n",
       "28       3\n",
       "30       1\n",
       "29       1\n",
       "Name: count, dtype: int64"
      ]
     },
     "execution_count": 5,
     "metadata": {},
     "output_type": "execute_result"
    }
   ],
   "source": [
    "df.Age.value_counts()"
   ]
  },
  {
   "cell_type": "markdown",
   "id": "a809f44c-d5a2-416e-891a-7bcc515a79eb",
   "metadata": {},
   "source": [
    "***\n",
    "__Q1__ - What is the most common age for students in the dataset?"
   ]
  },
  {
   "cell_type": "code",
   "execution_count": 6,
   "id": "0b8c4777-03c1-4c61-b7f9-d4eeacb09b2b",
   "metadata": {},
   "outputs": [
    {
     "data": {
      "text/plain": [
       "0    21\n",
       "Name: Age, dtype: int64"
      ]
     },
     "execution_count": 6,
     "metadata": {},
     "output_type": "execute_result"
    }
   ],
   "source": [
    "df.Age.mode()"
   ]
  },
  {
   "cell_type": "code",
   "execution_count": 7,
   "id": "a660e83e-8e91-492d-9d97-50151e3ab9c6",
   "metadata": {},
   "outputs": [
    {
     "data": {
      "text/plain": [
       "Age\n",
       "21    1084\n",
       "22     941\n",
       "20     375\n",
       "23     195\n",
       "19     156\n",
       "24     131\n",
       "26      50\n",
       "25      29\n",
       "28       3\n",
       "30       1\n",
       "29       1\n",
       "Name: count, dtype: int64"
      ]
     },
     "execution_count": 7,
     "metadata": {},
     "output_type": "execute_result"
    }
   ],
   "source": [
    "df['Age'].value_counts()"
   ]
  },
  {
   "cell_type": "markdown",
   "id": "18d3c1b9-0070-4fcd-97ac-89027c3d165c",
   "metadata": {},
   "source": [
    "***\n",
    "__Q2__ How many Female students are in the dataset?"
   ]
  },
  {
   "cell_type": "code",
   "execution_count": 8,
   "id": "8a7e0613-6904-4ba5-a19c-dc9e0ee4e368",
   "metadata": {},
   "outputs": [
    {
     "data": {
      "text/plain": [
       "Gender\n",
       "Male      2475\n",
       "Female     491\n",
       "Name: count, dtype: int64"
      ]
     },
     "execution_count": 8,
     "metadata": {},
     "output_type": "execute_result"
    }
   ],
   "source": [
    "df.Gender.value_counts()"
   ]
  },
  {
   "cell_type": "code",
   "execution_count": 9,
   "id": "70ca3d66-c952-4720-a24b-42928fd72d3e",
   "metadata": {},
   "outputs": [
    {
     "data": {
      "text/plain": [
       "(491, 8)"
      ]
     },
     "execution_count": 9,
     "metadata": {},
     "output_type": "execute_result"
    }
   ],
   "source": [
    "df[df['Gender']=='Female'].shape"
   ]
  },
  {
   "cell_type": "markdown",
   "id": "acf3fbec-8232-4d17-b275-fe30379ccff7",
   "metadata": {},
   "source": [
    "***\n",
    "__Q3__ What percentage of the female student population lives in the hostel?\n",
    "\n",
    "We calculate this by dividing the count of females living in the hostel by the total count of females in the dataset.\n",
    "\n",
    "In other words, we calculate: \n",
    "Count of females living in the hostel / Total count of females"
   ]
  },
  {
   "cell_type": "code",
   "execution_count": 10,
   "id": "581d9fe2-5867-4e64-888e-619eefb9db5e",
   "metadata": {},
   "outputs": [
    {
     "data": {
      "text/plain": [
       "230"
      ]
     },
     "execution_count": 10,
     "metadata": {},
     "output_type": "execute_result"
    }
   ],
   "source": [
    "# Females living in the hostel\n",
    "numerator = df[(df['Gender']=='Female') & (df['Hostel']==1)].shape[0]\n",
    "numerator"
   ]
  },
  {
   "cell_type": "code",
   "execution_count": 11,
   "id": "0def72e8-cd0f-4c63-a6ae-29fed80fb77e",
   "metadata": {},
   "outputs": [
    {
     "data": {
      "text/plain": [
       "491"
      ]
     },
     "execution_count": 11,
     "metadata": {},
     "output_type": "execute_result"
    }
   ],
   "source": [
    "denominator =  df[(df['Gender']=='Female')].shape[0]\n",
    "denominator"
   ]
  },
  {
   "cell_type": "code",
   "execution_count": 12,
   "id": "f25c39b7-ce2b-47dc-9400-14046db21993",
   "metadata": {},
   "outputs": [
    {
     "data": {
      "text/plain": [
       "0.4684317718940937"
      ]
     },
     "execution_count": 12,
     "metadata": {},
     "output_type": "execute_result"
    }
   ],
   "source": [
    "numerator/denominator"
   ]
  },
  {
   "cell_type": "code",
   "execution_count": 13,
   "id": "434cf5f9-9c13-4594-b3e7-80356042e77e",
   "metadata": {},
   "outputs": [
    {
     "data": {
      "text/html": [
       "<div>\n",
       "<style scoped>\n",
       "    .dataframe tbody tr th:only-of-type {\n",
       "        vertical-align: middle;\n",
       "    }\n",
       "\n",
       "    .dataframe tbody tr th {\n",
       "        vertical-align: top;\n",
       "    }\n",
       "\n",
       "    .dataframe thead th {\n",
       "        text-align: right;\n",
       "    }\n",
       "</style>\n",
       "<table border=\"1\" class=\"dataframe\">\n",
       "  <thead>\n",
       "    <tr style=\"text-align: right;\">\n",
       "      <th>Hostel</th>\n",
       "      <th>0</th>\n",
       "      <th>1</th>\n",
       "      <th>All</th>\n",
       "    </tr>\n",
       "    <tr>\n",
       "      <th>Gender</th>\n",
       "      <th></th>\n",
       "      <th></th>\n",
       "      <th></th>\n",
       "    </tr>\n",
       "  </thead>\n",
       "  <tbody>\n",
       "    <tr>\n",
       "      <th>Female</th>\n",
       "      <td>261</td>\n",
       "      <td>230</td>\n",
       "      <td>491</td>\n",
       "    </tr>\n",
       "    <tr>\n",
       "      <th>Male</th>\n",
       "      <td>1907</td>\n",
       "      <td>568</td>\n",
       "      <td>2475</td>\n",
       "    </tr>\n",
       "    <tr>\n",
       "      <th>All</th>\n",
       "      <td>2168</td>\n",
       "      <td>798</td>\n",
       "      <td>2966</td>\n",
       "    </tr>\n",
       "  </tbody>\n",
       "</table>\n",
       "</div>"
      ],
      "text/plain": [
       "Hostel     0    1   All\n",
       "Gender                 \n",
       "Female   261  230   491\n",
       "Male    1907  568  2475\n",
       "All     2168  798  2966"
      ]
     },
     "execution_count": 13,
     "metadata": {},
     "output_type": "execute_result"
    }
   ],
   "source": [
    "# Or we can do a quick cross-tab and do the calculations manually\n",
    "\n",
    "pd.crosstab(df.Gender, df.Hostel, margins=True)"
   ]
  },
  {
   "cell_type": "code",
   "execution_count": 14,
   "id": "97e09d5a-eacb-4961-a450-bea2403ff699",
   "metadata": {},
   "outputs": [
    {
     "data": {
      "text/html": [
       "<div>\n",
       "<style scoped>\n",
       "    .dataframe tbody tr th:only-of-type {\n",
       "        vertical-align: middle;\n",
       "    }\n",
       "\n",
       "    .dataframe tbody tr th {\n",
       "        vertical-align: top;\n",
       "    }\n",
       "\n",
       "    .dataframe thead th {\n",
       "        text-align: right;\n",
       "    }\n",
       "</style>\n",
       "<table border=\"1\" class=\"dataframe\">\n",
       "  <thead>\n",
       "    <tr style=\"text-align: right;\">\n",
       "      <th>Hostel</th>\n",
       "      <th>0</th>\n",
       "      <th>1</th>\n",
       "    </tr>\n",
       "    <tr>\n",
       "      <th>Gender</th>\n",
       "      <th></th>\n",
       "      <th></th>\n",
       "    </tr>\n",
       "  </thead>\n",
       "  <tbody>\n",
       "    <tr>\n",
       "      <th>Female</th>\n",
       "      <td>0.531568</td>\n",
       "      <td>0.468432</td>\n",
       "    </tr>\n",
       "    <tr>\n",
       "      <th>Male</th>\n",
       "      <td>0.770505</td>\n",
       "      <td>0.229495</td>\n",
       "    </tr>\n",
       "    <tr>\n",
       "      <th>All</th>\n",
       "      <td>0.730951</td>\n",
       "      <td>0.269049</td>\n",
       "    </tr>\n",
       "  </tbody>\n",
       "</table>\n",
       "</div>"
      ],
      "text/plain": [
       "Hostel         0         1\n",
       "Gender                    \n",
       "Female  0.531568  0.468432\n",
       "Male    0.770505  0.229495\n",
       "All     0.730951  0.269049"
      ]
     },
     "execution_count": 14,
     "metadata": {},
     "output_type": "execute_result"
    }
   ],
   "source": [
    "# Or we can do a quick cross-tab and normalize over rows using normalize='index'.\n",
    "# This gives us the answer in the first row, second column\n",
    "\n",
    "pd.crosstab(df.Gender, df.Hostel, margins=True, normalize='index')"
   ]
  },
  {
   "cell_type": "code",
   "execution_count": 15,
   "id": "14e14026-8825-4769-86ea-dbb08f1b5e90",
   "metadata": {},
   "outputs": [
    {
     "data": {
      "text/plain": [
       "0.4684317718940937"
      ]
     },
     "execution_count": 15,
     "metadata": {},
     "output_type": "execute_result"
    }
   ],
   "source": [
    "230/491"
   ]
  },
  {
   "cell_type": "code",
   "execution_count": 16,
   "id": "6cb62336-8511-4dd3-bb1c-eba99c4c7167",
   "metadata": {},
   "outputs": [
    {
     "data": {
      "text/html": [
       "<div>\n",
       "<style scoped>\n",
       "    .dataframe tbody tr th:only-of-type {\n",
       "        vertical-align: middle;\n",
       "    }\n",
       "\n",
       "    .dataframe tbody tr th {\n",
       "        vertical-align: top;\n",
       "    }\n",
       "\n",
       "    .dataframe thead tr th {\n",
       "        text-align: left;\n",
       "    }\n",
       "\n",
       "    .dataframe thead tr:last-of-type th {\n",
       "        text-align: right;\n",
       "    }\n",
       "</style>\n",
       "<table border=\"1\" class=\"dataframe\">\n",
       "  <thead>\n",
       "    <tr>\n",
       "      <th></th>\n",
       "      <th colspan=\"3\" halign=\"left\">Stream</th>\n",
       "    </tr>\n",
       "    <tr>\n",
       "      <th>Hostel</th>\n",
       "      <th>0</th>\n",
       "      <th>1</th>\n",
       "      <th>All</th>\n",
       "    </tr>\n",
       "    <tr>\n",
       "      <th>Gender</th>\n",
       "      <th></th>\n",
       "      <th></th>\n",
       "      <th></th>\n",
       "    </tr>\n",
       "  </thead>\n",
       "  <tbody>\n",
       "    <tr>\n",
       "      <th>Female</th>\n",
       "      <td>261</td>\n",
       "      <td>230</td>\n",
       "      <td>491</td>\n",
       "    </tr>\n",
       "    <tr>\n",
       "      <th>Male</th>\n",
       "      <td>1907</td>\n",
       "      <td>568</td>\n",
       "      <td>2475</td>\n",
       "    </tr>\n",
       "    <tr>\n",
       "      <th>All</th>\n",
       "      <td>2168</td>\n",
       "      <td>798</td>\n",
       "      <td>2966</td>\n",
       "    </tr>\n",
       "  </tbody>\n",
       "</table>\n",
       "</div>"
      ],
      "text/plain": [
       "       Stream           \n",
       "Hostel      0    1   All\n",
       "Gender                  \n",
       "Female    261  230   491\n",
       "Male     1907  568  2475\n",
       "All      2168  798  2966"
      ]
     },
     "execution_count": 16,
     "metadata": {},
     "output_type": "execute_result"
    }
   ],
   "source": [
    "# or we can do a quick pivot table \n",
    "\n",
    "df.pivot_table(index = ['Gender'],\n",
    "               columns = ['Hostel'],\n",
    "               values = ['Stream'],\n",
    "               aggfunc = 'count', margins=True)"
   ]
  },
  {
   "cell_type": "markdown",
   "id": "c8b53f42-7cbd-431a-9ce3-cf8f368de466",
   "metadata": {},
   "source": [
    "***\n",
    "__Q4__ What is the correlation between the number of internships and the student's CGPA?"
   ]
  },
  {
   "cell_type": "code",
   "execution_count": 17,
   "id": "4244ab77-bc33-4ef1-8d77-eba706ffd2d9",
   "metadata": {},
   "outputs": [
    {
     "data": {
      "text/html": [
       "<div>\n",
       "<style scoped>\n",
       "    .dataframe tbody tr th:only-of-type {\n",
       "        vertical-align: middle;\n",
       "    }\n",
       "\n",
       "    .dataframe tbody tr th {\n",
       "        vertical-align: top;\n",
       "    }\n",
       "\n",
       "    .dataframe thead th {\n",
       "        text-align: right;\n",
       "    }\n",
       "</style>\n",
       "<table border=\"1\" class=\"dataframe\">\n",
       "  <thead>\n",
       "    <tr style=\"text-align: right;\">\n",
       "      <th></th>\n",
       "      <th>Age</th>\n",
       "      <th>Internships</th>\n",
       "      <th>CGPA</th>\n",
       "      <th>Hostel</th>\n",
       "      <th>HistoryOfBacklogs</th>\n",
       "      <th>PlacedOrNot</th>\n",
       "    </tr>\n",
       "  </thead>\n",
       "  <tbody>\n",
       "    <tr>\n",
       "      <th>Age</th>\n",
       "      <td>1.000000</td>\n",
       "      <td>0.006552</td>\n",
       "      <td>-0.119787</td>\n",
       "      <td>0.003042</td>\n",
       "      <td>-0.042586</td>\n",
       "      <td>0.046943</td>\n",
       "    </tr>\n",
       "    <tr>\n",
       "      <th>Internships</th>\n",
       "      <td>0.006552</td>\n",
       "      <td>1.000000</td>\n",
       "      <td>0.023496</td>\n",
       "      <td>0.004617</td>\n",
       "      <td>-0.015118</td>\n",
       "      <td>0.179334</td>\n",
       "    </tr>\n",
       "    <tr>\n",
       "      <th>CGPA</th>\n",
       "      <td>-0.119787</td>\n",
       "      <td>0.023496</td>\n",
       "      <td>1.000000</td>\n",
       "      <td>0.014991</td>\n",
       "      <td>0.002576</td>\n",
       "      <td>0.588648</td>\n",
       "    </tr>\n",
       "    <tr>\n",
       "      <th>Hostel</th>\n",
       "      <td>0.003042</td>\n",
       "      <td>0.004617</td>\n",
       "      <td>0.014991</td>\n",
       "      <td>1.000000</td>\n",
       "      <td>0.103506</td>\n",
       "      <td>-0.038182</td>\n",
       "    </tr>\n",
       "    <tr>\n",
       "      <th>HistoryOfBacklogs</th>\n",
       "      <td>-0.042586</td>\n",
       "      <td>-0.015118</td>\n",
       "      <td>0.002576</td>\n",
       "      <td>0.103506</td>\n",
       "      <td>1.000000</td>\n",
       "      <td>-0.022337</td>\n",
       "    </tr>\n",
       "    <tr>\n",
       "      <th>PlacedOrNot</th>\n",
       "      <td>0.046943</td>\n",
       "      <td>0.179334</td>\n",
       "      <td>0.588648</td>\n",
       "      <td>-0.038182</td>\n",
       "      <td>-0.022337</td>\n",
       "      <td>1.000000</td>\n",
       "    </tr>\n",
       "  </tbody>\n",
       "</table>\n",
       "</div>"
      ],
      "text/plain": [
       "                        Age  Internships      CGPA    Hostel  \\\n",
       "Age                1.000000     0.006552 -0.119787  0.003042   \n",
       "Internships        0.006552     1.000000  0.023496  0.004617   \n",
       "CGPA              -0.119787     0.023496  1.000000  0.014991   \n",
       "Hostel             0.003042     0.004617  0.014991  1.000000   \n",
       "HistoryOfBacklogs -0.042586    -0.015118  0.002576  0.103506   \n",
       "PlacedOrNot        0.046943     0.179334  0.588648 -0.038182   \n",
       "\n",
       "                   HistoryOfBacklogs  PlacedOrNot  \n",
       "Age                        -0.042586     0.046943  \n",
       "Internships                -0.015118     0.179334  \n",
       "CGPA                        0.002576     0.588648  \n",
       "Hostel                      0.103506    -0.038182  \n",
       "HistoryOfBacklogs           1.000000    -0.022337  \n",
       "PlacedOrNot                -0.022337     1.000000  "
      ]
     },
     "execution_count": 17,
     "metadata": {},
     "output_type": "execute_result"
    }
   ],
   "source": [
    "# We can use the correlation matrix\n",
    "\n",
    "df.corr(numeric_only = True)"
   ]
  },
  {
   "cell_type": "code",
   "execution_count": 18,
   "id": "815fd008-e5bb-4f94-8a9e-a44295997cb6",
   "metadata": {},
   "outputs": [
    {
     "data": {
      "text/plain": [
       "array([[1.        , 0.02349569],\n",
       "       [0.02349569, 1.        ]])"
      ]
     },
     "execution_count": 18,
     "metadata": {},
     "output_type": "execute_result"
    }
   ],
   "source": [
    "# Alternatively:\n",
    "\n",
    "np.corrcoef(df.Internships, df.CGPA)"
   ]
  },
  {
   "cell_type": "markdown",
   "id": "50637a96-2f53-4539-a043-7b6cebe0280f",
   "metadata": {},
   "source": [
    "So the answer is 0.02349569."
   ]
  },
  {
   "cell_type": "markdown",
   "id": "ebea84ce-dc50-44e4-9c66-f4418f3f3b80",
   "metadata": {},
   "source": [
    "***\n",
    "__Q5__ Age appears to be highly correlated with the likelihood of placement. True/False?\n",
    "\n",
    "To answer this question, we look at the correlation between age and placement.  \n",
    "\n",
    "Looks like correlation is quite low at 0.05, and age and placement are not 'highly correlated'."
   ]
  },
  {
   "cell_type": "code",
   "execution_count": 19,
   "id": "b9e6ded5-750f-4093-96c4-c77f6170f9dc",
   "metadata": {},
   "outputs": [
    {
     "data": {
      "text/plain": [
       "array([[1.        , 0.04694251],\n",
       "       [0.04694251, 1.        ]])"
      ]
     },
     "execution_count": 19,
     "metadata": {},
     "output_type": "execute_result"
    }
   ],
   "source": [
    "np.corrcoef(df.PlacedOrNot, df.Age)"
   ]
  },
  {
   "cell_type": "markdown",
   "id": "2ca47907-1b98-471b-871f-0f9123a16a7e",
   "metadata": {},
   "source": [
    "***\n",
    "__Q6__ - Which stream of study has the highest placement rate (measured as a percentage) considering all students?"
   ]
  },
  {
   "cell_type": "code",
   "execution_count": 20,
   "id": "1a7545e2-f6bf-4f87-8855-6189b4450041",
   "metadata": {},
   "outputs": [
    {
     "data": {
      "text/html": [
       "<div>\n",
       "<style scoped>\n",
       "    .dataframe tbody tr th:only-of-type {\n",
       "        vertical-align: middle;\n",
       "    }\n",
       "\n",
       "    .dataframe tbody tr th {\n",
       "        vertical-align: top;\n",
       "    }\n",
       "\n",
       "    .dataframe thead th {\n",
       "        text-align: right;\n",
       "    }\n",
       "</style>\n",
       "<table border=\"1\" class=\"dataframe\">\n",
       "  <thead>\n",
       "    <tr style=\"text-align: right;\">\n",
       "      <th>PlacedOrNot</th>\n",
       "      <th>0</th>\n",
       "      <th>1</th>\n",
       "    </tr>\n",
       "    <tr>\n",
       "      <th>Stream</th>\n",
       "      <th></th>\n",
       "      <th></th>\n",
       "    </tr>\n",
       "  </thead>\n",
       "  <tbody>\n",
       "    <tr>\n",
       "      <th>Civil</th>\n",
       "      <td>171</td>\n",
       "      <td>146</td>\n",
       "    </tr>\n",
       "    <tr>\n",
       "      <th>Computer Science</th>\n",
       "      <td>324</td>\n",
       "      <td>452</td>\n",
       "    </tr>\n",
       "    <tr>\n",
       "      <th>Electrical</th>\n",
       "      <td>153</td>\n",
       "      <td>181</td>\n",
       "    </tr>\n",
       "    <tr>\n",
       "      <th>Electronics And Communication</th>\n",
       "      <td>173</td>\n",
       "      <td>251</td>\n",
       "    </tr>\n",
       "    <tr>\n",
       "      <th>Information Technology</th>\n",
       "      <td>282</td>\n",
       "      <td>409</td>\n",
       "    </tr>\n",
       "    <tr>\n",
       "      <th>Mechanical</th>\n",
       "      <td>224</td>\n",
       "      <td>200</td>\n",
       "    </tr>\n",
       "  </tbody>\n",
       "</table>\n",
       "</div>"
      ],
      "text/plain": [
       "PlacedOrNot                      0    1\n",
       "Stream                                 \n",
       "Civil                          171  146\n",
       "Computer Science               324  452\n",
       "Electrical                     153  181\n",
       "Electronics And Communication  173  251\n",
       "Information Technology         282  409\n",
       "Mechanical                     224  200"
      ]
     },
     "execution_count": 20,
     "metadata": {},
     "output_type": "execute_result"
    }
   ],
   "source": [
    "# First, we do a crosstab of the stream and placement.  We can also do a pivot table, groupby, or use \n",
    "# other techniques.\n",
    "# Next, we calculate the placement rate for each stream.\n",
    "\n",
    "x = pd.crosstab(df.Stream, df.PlacedOrNot)\n",
    "x"
   ]
  },
  {
   "cell_type": "code",
   "execution_count": 21,
   "id": "e344a66e-251d-4772-a22b-1853582a37d3",
   "metadata": {},
   "outputs": [
    {
     "data": {
      "text/html": [
       "<div>\n",
       "<style scoped>\n",
       "    .dataframe tbody tr th:only-of-type {\n",
       "        vertical-align: middle;\n",
       "    }\n",
       "\n",
       "    .dataframe tbody tr th {\n",
       "        vertical-align: top;\n",
       "    }\n",
       "\n",
       "    .dataframe thead th {\n",
       "        text-align: right;\n",
       "    }\n",
       "</style>\n",
       "<table border=\"1\" class=\"dataframe\">\n",
       "  <thead>\n",
       "    <tr style=\"text-align: right;\">\n",
       "      <th>PlacedOrNot</th>\n",
       "      <th>0</th>\n",
       "      <th>1</th>\n",
       "      <th>Placement Rate</th>\n",
       "    </tr>\n",
       "    <tr>\n",
       "      <th>Stream</th>\n",
       "      <th></th>\n",
       "      <th></th>\n",
       "      <th></th>\n",
       "    </tr>\n",
       "  </thead>\n",
       "  <tbody>\n",
       "    <tr>\n",
       "      <th>Electronics And Communication</th>\n",
       "      <td>173</td>\n",
       "      <td>251</td>\n",
       "      <td>0.591981</td>\n",
       "    </tr>\n",
       "    <tr>\n",
       "      <th>Information Technology</th>\n",
       "      <td>282</td>\n",
       "      <td>409</td>\n",
       "      <td>0.591896</td>\n",
       "    </tr>\n",
       "    <tr>\n",
       "      <th>Computer Science</th>\n",
       "      <td>324</td>\n",
       "      <td>452</td>\n",
       "      <td>0.582474</td>\n",
       "    </tr>\n",
       "    <tr>\n",
       "      <th>Electrical</th>\n",
       "      <td>153</td>\n",
       "      <td>181</td>\n",
       "      <td>0.541916</td>\n",
       "    </tr>\n",
       "    <tr>\n",
       "      <th>Mechanical</th>\n",
       "      <td>224</td>\n",
       "      <td>200</td>\n",
       "      <td>0.471698</td>\n",
       "    </tr>\n",
       "    <tr>\n",
       "      <th>Civil</th>\n",
       "      <td>171</td>\n",
       "      <td>146</td>\n",
       "      <td>0.460568</td>\n",
       "    </tr>\n",
       "  </tbody>\n",
       "</table>\n",
       "</div>"
      ],
      "text/plain": [
       "PlacedOrNot                      0    1  Placement Rate\n",
       "Stream                                                 \n",
       "Electronics And Communication  173  251        0.591981\n",
       "Information Technology         282  409        0.591896\n",
       "Computer Science               324  452        0.582474\n",
       "Electrical                     153  181        0.541916\n",
       "Mechanical                     224  200        0.471698\n",
       "Civil                          171  146        0.460568"
      ]
     },
     "execution_count": 21,
     "metadata": {},
     "output_type": "execute_result"
    }
   ],
   "source": [
    "# We calculate the placement rate, and sort descending to find out the stream with the highest rate.\n",
    "# Electronics and communication has the highest placement rate at 173/251 = 59.1981%\n",
    "\n",
    "x['Placement Rate'] = x[1]/(x[0] + x[1])\n",
    "x.sort_values(by = 'Placement Rate', ascending= False, inplace=True)\n",
    "x"
   ]
  },
  {
   "cell_type": "code",
   "execution_count": 22,
   "id": "2675668d-03d1-4d3c-bc7f-3aa4363dd5a5",
   "metadata": {},
   "outputs": [
    {
     "data": {
      "text/plain": [
       "'Electronics And Communication'"
      ]
     },
     "execution_count": 22,
     "metadata": {},
     "output_type": "execute_result"
    }
   ],
   "source": [
    "# If we need to programmatically pick the first item...\n",
    "\n",
    "x.index[0]"
   ]
  },
  {
   "cell_type": "markdown",
   "id": "cbd501a4-7546-4035-9556-2e28df3eb39f",
   "metadata": {},
   "source": [
    "***\n",
    "__Q7__ - Which stream of study has the highest placement rate (measured as a percentage) for females?"
   ]
  },
  {
   "cell_type": "code",
   "execution_count": 23,
   "id": "310f7b68-b073-4245-9321-6c00bbf129cf",
   "metadata": {},
   "outputs": [
    {
     "data": {
      "text/html": [
       "<div>\n",
       "<style scoped>\n",
       "    .dataframe tbody tr th:only-of-type {\n",
       "        vertical-align: middle;\n",
       "    }\n",
       "\n",
       "    .dataframe tbody tr th {\n",
       "        vertical-align: top;\n",
       "    }\n",
       "\n",
       "    .dataframe thead th {\n",
       "        text-align: right;\n",
       "    }\n",
       "</style>\n",
       "<table border=\"1\" class=\"dataframe\">\n",
       "  <thead>\n",
       "    <tr style=\"text-align: right;\">\n",
       "      <th>PlacedOrNot</th>\n",
       "      <th>0</th>\n",
       "      <th>1</th>\n",
       "      <th>Placement Rate</th>\n",
       "    </tr>\n",
       "    <tr>\n",
       "      <th>Stream</th>\n",
       "      <th></th>\n",
       "      <th></th>\n",
       "      <th></th>\n",
       "    </tr>\n",
       "  </thead>\n",
       "  <tbody>\n",
       "    <tr>\n",
       "      <th>Electronics And Communication</th>\n",
       "      <td>28</td>\n",
       "      <td>49</td>\n",
       "      <td>0.636364</td>\n",
       "    </tr>\n",
       "    <tr>\n",
       "      <th>Information Technology</th>\n",
       "      <td>57</td>\n",
       "      <td>81</td>\n",
       "      <td>0.586957</td>\n",
       "    </tr>\n",
       "    <tr>\n",
       "      <th>Electrical</th>\n",
       "      <td>21</td>\n",
       "      <td>29</td>\n",
       "      <td>0.580000</td>\n",
       "    </tr>\n",
       "    <tr>\n",
       "      <th>Computer Science</th>\n",
       "      <td>67</td>\n",
       "      <td>91</td>\n",
       "      <td>0.575949</td>\n",
       "    </tr>\n",
       "    <tr>\n",
       "      <th>Civil</th>\n",
       "      <td>17</td>\n",
       "      <td>12</td>\n",
       "      <td>0.413793</td>\n",
       "    </tr>\n",
       "    <tr>\n",
       "      <th>Mechanical</th>\n",
       "      <td>26</td>\n",
       "      <td>13</td>\n",
       "      <td>0.333333</td>\n",
       "    </tr>\n",
       "  </tbody>\n",
       "</table>\n",
       "</div>"
      ],
      "text/plain": [
       "PlacedOrNot                     0   1  Placement Rate\n",
       "Stream                                               \n",
       "Electronics And Communication  28  49        0.636364\n",
       "Information Technology         57  81        0.586957\n",
       "Electrical                     21  29        0.580000\n",
       "Computer Science               67  91        0.575949\n",
       "Civil                          17  12        0.413793\n",
       "Mechanical                     26  13        0.333333"
      ]
     },
     "execution_count": 23,
     "metadata": {},
     "output_type": "execute_result"
    }
   ],
   "source": [
    "# This question is the same as the previous one except that we have to filter our dataframe first to include only females.\n",
    "# Then we do all the same steps as before.\n",
    "\n",
    "df_females = df[df['Gender']=='Female']\n",
    "x = pd.crosstab(df_females.Stream, df_females.PlacedOrNot)\n",
    "x['Placement Rate'] = x[1]/(x[0] + x[1])\n",
    "x.sort_values(by = 'Placement Rate', ascending= False, inplace=True)\n",
    "x"
   ]
  },
  {
   "cell_type": "code",
   "execution_count": 24,
   "id": "9f982473-9a71-45e6-8218-a245c13b45c6",
   "metadata": {},
   "outputs": [
    {
     "data": {
      "text/plain": [
       "'Electronics And Communication'"
      ]
     },
     "execution_count": 24,
     "metadata": {},
     "output_type": "execute_result"
    }
   ],
   "source": [
    "\n",
    "x.index[0]"
   ]
  },
  {
   "cell_type": "markdown",
   "id": "79328fe4-9ed2-45ed-90f8-cd5025e5accf",
   "metadata": {},
   "source": [
    "***\n",
    "__Q8__ - What is the overall placement rate (%) for females in the dataset?\n"
   ]
  },
  {
   "cell_type": "code",
   "execution_count": 25,
   "id": "b6a712f0-8353-4022-85cc-1c9dd1377e74",
   "metadata": {},
   "outputs": [
    {
     "data": {
      "text/html": [
       "<div>\n",
       "<style scoped>\n",
       "    .dataframe tbody tr th:only-of-type {\n",
       "        vertical-align: middle;\n",
       "    }\n",
       "\n",
       "    .dataframe tbody tr th {\n",
       "        vertical-align: top;\n",
       "    }\n",
       "\n",
       "    .dataframe thead th {\n",
       "        text-align: right;\n",
       "    }\n",
       "</style>\n",
       "<table border=\"1\" class=\"dataframe\">\n",
       "  <thead>\n",
       "    <tr style=\"text-align: right;\">\n",
       "      <th>PlacedOrNot</th>\n",
       "      <th>0</th>\n",
       "      <th>1</th>\n",
       "      <th>All</th>\n",
       "      <th>Placement Rate</th>\n",
       "    </tr>\n",
       "    <tr>\n",
       "      <th>Stream</th>\n",
       "      <th></th>\n",
       "      <th></th>\n",
       "      <th></th>\n",
       "      <th></th>\n",
       "    </tr>\n",
       "  </thead>\n",
       "  <tbody>\n",
       "    <tr>\n",
       "      <th>Civil</th>\n",
       "      <td>17</td>\n",
       "      <td>12</td>\n",
       "      <td>29</td>\n",
       "      <td>0.413793</td>\n",
       "    </tr>\n",
       "    <tr>\n",
       "      <th>Computer Science</th>\n",
       "      <td>67</td>\n",
       "      <td>91</td>\n",
       "      <td>158</td>\n",
       "      <td>0.575949</td>\n",
       "    </tr>\n",
       "    <tr>\n",
       "      <th>Electrical</th>\n",
       "      <td>21</td>\n",
       "      <td>29</td>\n",
       "      <td>50</td>\n",
       "      <td>0.580000</td>\n",
       "    </tr>\n",
       "    <tr>\n",
       "      <th>Electronics And Communication</th>\n",
       "      <td>28</td>\n",
       "      <td>49</td>\n",
       "      <td>77</td>\n",
       "      <td>0.636364</td>\n",
       "    </tr>\n",
       "    <tr>\n",
       "      <th>Information Technology</th>\n",
       "      <td>57</td>\n",
       "      <td>81</td>\n",
       "      <td>138</td>\n",
       "      <td>0.586957</td>\n",
       "    </tr>\n",
       "    <tr>\n",
       "      <th>Mechanical</th>\n",
       "      <td>26</td>\n",
       "      <td>13</td>\n",
       "      <td>39</td>\n",
       "      <td>0.333333</td>\n",
       "    </tr>\n",
       "    <tr>\n",
       "      <th>All</th>\n",
       "      <td>216</td>\n",
       "      <td>275</td>\n",
       "      <td>491</td>\n",
       "      <td>0.560081</td>\n",
       "    </tr>\n",
       "  </tbody>\n",
       "</table>\n",
       "</div>"
      ],
      "text/plain": [
       "PlacedOrNot                      0    1  All  Placement Rate\n",
       "Stream                                                      \n",
       "Civil                           17   12   29        0.413793\n",
       "Computer Science                67   91  158        0.575949\n",
       "Electrical                      21   29   50        0.580000\n",
       "Electronics And Communication   28   49   77        0.636364\n",
       "Information Technology          57   81  138        0.586957\n",
       "Mechanical                      26   13   39        0.333333\n",
       "All                            216  275  491        0.560081"
      ]
     },
     "execution_count": 25,
     "metadata": {},
     "output_type": "execute_result"
    }
   ],
   "source": [
    "# This question is very similar to the previous question, and calculated in the same way.\n",
    "# The last line for 'All' gives us the answer of 56.0081%\n",
    "\n",
    "df_females = df[df['Gender']=='Female']\n",
    "x = pd.crosstab(df_females.Stream, df_females.PlacedOrNot, margins=True)\n",
    "x['Placement Rate'] = x[1]/x['All']\n",
    "x"
   ]
  },
  {
   "cell_type": "markdown",
   "id": "0e8be3ee-0e20-48c6-ba9b-350a1d2f6e88",
   "metadata": {},
   "source": [
    "***\n",
    "__Q9__ - What is the mean CGPA score for male and female students?"
   ]
  },
  {
   "cell_type": "code",
   "execution_count": 26,
   "id": "48ae2f55-57ab-49fb-9412-1bbd30538fe4",
   "metadata": {},
   "outputs": [
    {
     "data": {
      "text/html": [
       "<div>\n",
       "<style scoped>\n",
       "    .dataframe tbody tr th:only-of-type {\n",
       "        vertical-align: middle;\n",
       "    }\n",
       "\n",
       "    .dataframe tbody tr th {\n",
       "        vertical-align: top;\n",
       "    }\n",
       "\n",
       "    .dataframe thead th {\n",
       "        text-align: right;\n",
       "    }\n",
       "</style>\n",
       "<table border=\"1\" class=\"dataframe\">\n",
       "  <thead>\n",
       "    <tr style=\"text-align: right;\">\n",
       "      <th></th>\n",
       "      <th>CGPA</th>\n",
       "      <th>Age</th>\n",
       "      <th>Hostel</th>\n",
       "    </tr>\n",
       "    <tr>\n",
       "      <th>Gender</th>\n",
       "      <th></th>\n",
       "      <th></th>\n",
       "      <th></th>\n",
       "    </tr>\n",
       "  </thead>\n",
       "  <tbody>\n",
       "    <tr>\n",
       "      <th>Female</th>\n",
       "      <td>7.081466</td>\n",
       "      <td>21.549898</td>\n",
       "      <td>0.468432</td>\n",
       "    </tr>\n",
       "    <tr>\n",
       "      <th>Male</th>\n",
       "      <td>7.072323</td>\n",
       "      <td>21.473131</td>\n",
       "      <td>0.229495</td>\n",
       "    </tr>\n",
       "  </tbody>\n",
       "</table>\n",
       "</div>"
      ],
      "text/plain": [
       "            CGPA        Age    Hostel\n",
       "Gender                               \n",
       "Female  7.081466  21.549898  0.468432\n",
       "Male    7.072323  21.473131  0.229495"
      ]
     },
     "execution_count": 26,
     "metadata": {},
     "output_type": "execute_result"
    }
   ],
   "source": [
    "df.groupby(['Gender']).agg({\"CGPA\": \"mean\", \"Age\": \"mean\", \"Hostel\": \"mean\"})"
   ]
  },
  {
   "cell_type": "markdown",
   "id": "eec83731-fd3f-43aa-b7b9-09c15e2de018",
   "metadata": {},
   "source": [
    "***\n",
    "__Q10__ - How many students have completed at least 1 internship?"
   ]
  },
  {
   "cell_type": "code",
   "execution_count": 27,
   "id": "a6668c19-09b4-4e1e-876e-a150eac4c610",
   "metadata": {},
   "outputs": [
    {
     "data": {
      "text/plain": [
       "1635"
      ]
     },
     "execution_count": 27,
     "metadata": {},
     "output_type": "execute_result"
    }
   ],
   "source": [
    "len(df[df['Internships']>0])"
   ]
  },
  {
   "cell_type": "markdown",
   "id": "9b747b82-be78-4dcf-86e1-7249c26e5de4",
   "metadata": {},
   "source": [
    "# End\n",
    "***"
   ]
  },
  {
   "cell_type": "code",
   "execution_count": null,
   "id": "1adff6f4-8f7a-414b-954d-bb8c3f25283e",
   "metadata": {},
   "outputs": [],
   "source": []
  }
 ],
 "metadata": {
  "kernelspec": {
   "display_name": "Python [conda env:mggy8413]",
   "language": "python",
   "name": "conda-env-mggy8413-py"
  },
  "language_info": {
   "codemirror_mode": {
    "name": "ipython",
    "version": 3
   },
   "file_extension": ".py",
   "mimetype": "text/x-python",
   "name": "python",
   "nbconvert_exporter": "python",
   "pygments_lexer": "ipython3",
   "version": "3.11.7"
  }
 },
 "nbformat": 4,
 "nbformat_minor": 5
}
