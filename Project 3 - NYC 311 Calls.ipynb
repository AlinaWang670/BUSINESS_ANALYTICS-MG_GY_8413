{
 "cells": [
  {
   "cell_type": "markdown",
   "id": "dc418f9b-d92d-4c3b-b1df-7adfa5cbe991",
   "metadata": {},
   "source": [
    "### Data Exploration\n",
    "\n",
    "Spend some time querying the data, and making yourself familiar with it using the EDA techniques we learned in class.  Show your EDA in the Jupyter notebook you will use for uploading to Github.  Look at the types of complaints, read some descriptions, see the earliest date, the latest date etc.  Read the data dictionary to understand what the columns mean.  Be aware that many columns have NaN values, and they may not get counted for your analysis."
   ]
  },
  {
   "cell_type": "code",
   "execution_count": 2,
   "id": "a8901d0e-2349-479e-b8f0-98abe9e8c9be",
   "metadata": {},
   "outputs": [],
   "source": [
    "df = pd.read_pickle('shared/Project-3_NYC_311_Calls.pkl')"
   ]
  },
  {
   "cell_type": "code",
   "execution_count": null,
   "id": "ff8ef244-99f0-4e90-9507-3e66571488ef",
   "metadata": {},
   "outputs": [],
   "source": [
    "df.head(5)"
   ]
  },
  {
   "cell_type": "code",
   "execution_count": 23,
   "id": "9fa2b42b-b9ec-4e04-a78c-c3ce41973eeb",
   "metadata": {},
   "outputs": [
    {
     "name": "stdout",
     "output_type": "stream",
     "text": [
      "<class 'pandas.core.frame.DataFrame'>\n",
      "RangeIndex: 33780977 entries, 0 to 33780976\n",
      "Data columns (total 12 columns):\n",
      " #   Column                  Dtype         \n",
      "---  ------                  -----         \n",
      " 0   Unique Key              int64         \n",
      " 1   Created Date            datetime64[ns]\n",
      " 2   Agency                  object        \n",
      " 3   Agency Name             object        \n",
      " 4   Complaint Type          object        \n",
      " 5   Descriptor              object        \n",
      " 6   Location Type           object        \n",
      " 7   Incident Zip            object        \n",
      " 8   City                    object        \n",
      " 9   Resolution Description  object        \n",
      " 10  Borough                 object        \n",
      " 11  Open Data Channel Type  object        \n",
      "dtypes: datetime64[ns](1), int64(1), object(10)\n",
      "memory usage: 3.0+ GB\n"
     ]
    }
   ],
   "source": [
    "df.info()"
   ]
  },
  {
   "cell_type": "code",
   "execution_count": 26,
   "id": "e648415f-d65f-438e-a79e-4fe1533b4610",
   "metadata": {},
   "outputs": [
    {
     "data": {
      "text/plain": [
       "Unique Key                      0\n",
       "Created Date                    0\n",
       "Agency                          0\n",
       "Agency Name                     0\n",
       "Complaint Type                  0\n",
       "Descriptor                 586677\n",
       "Location Type             7140574\n",
       "Incident Zip              1507958\n",
       "City                      1981664\n",
       "Resolution Description    1254890\n",
       "Borough                     47074\n",
       "Open Data Channel Type          0\n",
       "dtype: int64"
      ]
     },
     "execution_count": 26,
     "metadata": {},
     "output_type": "execute_result"
    }
   ],
   "source": [
    "df.isnull().sum()"
   ]
  },
  {
   "cell_type": "code",
   "execution_count": 25,
   "id": "26845a0b-9bdb-4efa-b5a7-6f26145b6866",
   "metadata": {},
   "outputs": [
    {
     "name": "stdout",
     "output_type": "stream",
     "text": [
      "2023-08-04 12:00:00\n",
      "2010-01-01 00:00:00\n"
     ]
    }
   ],
   "source": [
    "print(df['Created Date'].max())\n",
    "print(df['Created Date'].min())"
   ]
  },
  {
   "cell_type": "code",
   "execution_count": 8,
   "id": "a694910d-02ac-486d-b228-ba3076e49c79",
   "metadata": {},
   "outputs": [
    {
     "data": {
      "text/html": [
       "<div>\n",
       "<style scoped>\n",
       "    .dataframe tbody tr th:only-of-type {\n",
       "        vertical-align: middle;\n",
       "    }\n",
       "\n",
       "    .dataframe tbody tr th {\n",
       "        vertical-align: top;\n",
       "    }\n",
       "\n",
       "    .dataframe thead th {\n",
       "        text-align: right;\n",
       "    }\n",
       "</style>\n",
       "<table border=\"1\" class=\"dataframe\">\n",
       "  <thead>\n",
       "    <tr style=\"text-align: right;\">\n",
       "      <th></th>\n",
       "      <th>Unique Key</th>\n",
       "      <th>Created Date</th>\n",
       "      <th>Agency</th>\n",
       "      <th>Agency Name</th>\n",
       "      <th>Complaint Type</th>\n",
       "      <th>Descriptor</th>\n",
       "      <th>Location Type</th>\n",
       "      <th>Incident Zip</th>\n",
       "      <th>City</th>\n",
       "      <th>Resolution Description</th>\n",
       "      <th>Borough</th>\n",
       "      <th>Open Data Channel Type</th>\n",
       "    </tr>\n",
       "  </thead>\n",
       "  <tbody>\n",
       "    <tr>\n",
       "      <th>0</th>\n",
       "      <td>20184537</td>\n",
       "      <td>2011-04-06</td>\n",
       "      <td>HPD</td>\n",
       "      <td>Department of Housing Preservation and Develop...</td>\n",
       "      <td>HEATING</td>\n",
       "      <td>HEAT</td>\n",
       "      <td>RESIDENTIAL BUILDING</td>\n",
       "      <td>10002.0</td>\n",
       "      <td>NEW YORK</td>\n",
       "      <td>More than one complaint was received for this ...</td>\n",
       "      <td>MANHATTAN</td>\n",
       "      <td>UNKNOWN</td>\n",
       "    </tr>\n",
       "    <tr>\n",
       "      <th>1</th>\n",
       "      <td>20184538</td>\n",
       "      <td>2011-04-06</td>\n",
       "      <td>HPD</td>\n",
       "      <td>Department of Housing Preservation and Develop...</td>\n",
       "      <td>GENERAL CONSTRUCTION</td>\n",
       "      <td>WINDOWS</td>\n",
       "      <td>RESIDENTIAL BUILDING</td>\n",
       "      <td>11236.0</td>\n",
       "      <td>BROOKLYN</td>\n",
       "      <td>The Department of Housing Preservation and Dev...</td>\n",
       "      <td>BROOKLYN</td>\n",
       "      <td>UNKNOWN</td>\n",
       "    </tr>\n",
       "  </tbody>\n",
       "</table>\n",
       "</div>"
      ],
      "text/plain": [
       "   Unique Key Created Date Agency  \\\n",
       "0    20184537   2011-04-06    HPD   \n",
       "1    20184538   2011-04-06    HPD   \n",
       "\n",
       "                                         Agency Name        Complaint Type  \\\n",
       "0  Department of Housing Preservation and Develop...               HEATING   \n",
       "1  Department of Housing Preservation and Develop...  GENERAL CONSTRUCTION   \n",
       "\n",
       "  Descriptor         Location Type Incident Zip      City  \\\n",
       "0       HEAT  RESIDENTIAL BUILDING      10002.0  NEW YORK   \n",
       "1    WINDOWS  RESIDENTIAL BUILDING      11236.0  BROOKLYN   \n",
       "\n",
       "                              Resolution Description    Borough  \\\n",
       "0  More than one complaint was received for this ...  MANHATTAN   \n",
       "1  The Department of Housing Preservation and Dev...   BROOKLYN   \n",
       "\n",
       "  Open Data Channel Type  \n",
       "0                UNKNOWN  \n",
       "1                UNKNOWN  "
      ]
     },
     "execution_count": 8,
     "metadata": {},
     "output_type": "execute_result"
    }
   ],
   "source": [
    "df.head(2)"
   ]
  },
  {
   "cell_type": "markdown",
   "id": "22c67f69-7922-4f62-af7a-d5a239c71f5f",
   "metadata": {},
   "source": [
    "### Question 1 (0.5 points) \n",
    "What is the average number of daily complaints received in 2022?\n",
    "\n",
    "(hint: use daily resampling on a column, for example, on the 'Unique Key' column as that has no missing values)"
   ]
  },
  {
   "cell_type": "code",
   "execution_count": 3,
   "id": "4eb2b120-e3c6-420f-a39d-bd87458b4178",
   "metadata": {},
   "outputs": [],
   "source": [
    "count_22 = df[df['Created Date'].dt.year == 2022]\n",
    "count_22 = count_22.groupby(df['Created Date'].dt.date).count()"
   ]
  },
  {
   "cell_type": "code",
   "execution_count": 7,
   "id": "8edd4f41-fa2c-4ccc-a58e-17ff09cab1db",
   "metadata": {},
   "outputs": [
    {
     "data": {
      "text/html": [
       "<div>\n",
       "<style scoped>\n",
       "    .dataframe tbody tr th:only-of-type {\n",
       "        vertical-align: middle;\n",
       "    }\n",
       "\n",
       "    .dataframe tbody tr th {\n",
       "        vertical-align: top;\n",
       "    }\n",
       "\n",
       "    .dataframe thead th {\n",
       "        text-align: right;\n",
       "    }\n",
       "</style>\n",
       "<table border=\"1\" class=\"dataframe\">\n",
       "  <thead>\n",
       "    <tr style=\"text-align: right;\">\n",
       "      <th></th>\n",
       "      <th>Unique Key</th>\n",
       "      <th>Created Date</th>\n",
       "      <th>Agency</th>\n",
       "      <th>Agency Name</th>\n",
       "      <th>Complaint Type</th>\n",
       "      <th>Descriptor</th>\n",
       "      <th>Location Type</th>\n",
       "      <th>Incident Zip</th>\n",
       "      <th>City</th>\n",
       "      <th>Resolution Description</th>\n",
       "      <th>Borough</th>\n",
       "      <th>Open Data Channel Type</th>\n",
       "    </tr>\n",
       "    <tr>\n",
       "      <th>Created Date</th>\n",
       "      <th></th>\n",
       "      <th></th>\n",
       "      <th></th>\n",
       "      <th></th>\n",
       "      <th></th>\n",
       "      <th></th>\n",
       "      <th></th>\n",
       "      <th></th>\n",
       "      <th></th>\n",
       "      <th></th>\n",
       "      <th></th>\n",
       "      <th></th>\n",
       "    </tr>\n",
       "  </thead>\n",
       "  <tbody>\n",
       "    <tr>\n",
       "      <th>2022-01-01</th>\n",
       "      <td>5866</td>\n",
       "      <td>5866</td>\n",
       "      <td>5866</td>\n",
       "      <td>5866</td>\n",
       "      <td>5866</td>\n",
       "      <td>5525</td>\n",
       "      <td>5525</td>\n",
       "      <td>5779</td>\n",
       "      <td>5566</td>\n",
       "      <td>5820</td>\n",
       "      <td>5866</td>\n",
       "      <td>5866</td>\n",
       "    </tr>\n",
       "    <tr>\n",
       "      <th>2022-01-02</th>\n",
       "      <td>6710</td>\n",
       "      <td>6710</td>\n",
       "      <td>6710</td>\n",
       "      <td>6710</td>\n",
       "      <td>6710</td>\n",
       "      <td>6493</td>\n",
       "      <td>6151</td>\n",
       "      <td>6607</td>\n",
       "      <td>6428</td>\n",
       "      <td>6601</td>\n",
       "      <td>6710</td>\n",
       "      <td>6710</td>\n",
       "    </tr>\n",
       "    <tr>\n",
       "      <th>2022-01-03</th>\n",
       "      <td>9163</td>\n",
       "      <td>9163</td>\n",
       "      <td>9163</td>\n",
       "      <td>9163</td>\n",
       "      <td>9163</td>\n",
       "      <td>8965</td>\n",
       "      <td>7985</td>\n",
       "      <td>9024</td>\n",
       "      <td>8838</td>\n",
       "      <td>9039</td>\n",
       "      <td>9163</td>\n",
       "      <td>9163</td>\n",
       "    </tr>\n",
       "    <tr>\n",
       "      <th>2022-01-04</th>\n",
       "      <td>9415</td>\n",
       "      <td>9415</td>\n",
       "      <td>9415</td>\n",
       "      <td>9415</td>\n",
       "      <td>9415</td>\n",
       "      <td>9223</td>\n",
       "      <td>8279</td>\n",
       "      <td>9300</td>\n",
       "      <td>9128</td>\n",
       "      <td>9254</td>\n",
       "      <td>9415</td>\n",
       "      <td>9415</td>\n",
       "    </tr>\n",
       "    <tr>\n",
       "      <th>2022-01-05</th>\n",
       "      <td>8385</td>\n",
       "      <td>8385</td>\n",
       "      <td>8385</td>\n",
       "      <td>8385</td>\n",
       "      <td>8385</td>\n",
       "      <td>8192</td>\n",
       "      <td>7242</td>\n",
       "      <td>8274</td>\n",
       "      <td>8076</td>\n",
       "      <td>8307</td>\n",
       "      <td>8385</td>\n",
       "      <td>8385</td>\n",
       "    </tr>\n",
       "    <tr>\n",
       "      <th>2022-01-06</th>\n",
       "      <td>8541</td>\n",
       "      <td>8541</td>\n",
       "      <td>8541</td>\n",
       "      <td>8541</td>\n",
       "      <td>8541</td>\n",
       "      <td>8333</td>\n",
       "      <td>7576</td>\n",
       "      <td>8421</td>\n",
       "      <td>8220</td>\n",
       "      <td>8378</td>\n",
       "      <td>8541</td>\n",
       "      <td>8541</td>\n",
       "    </tr>\n",
       "    <tr>\n",
       "      <th>2022-01-07</th>\n",
       "      <td>6887</td>\n",
       "      <td>6887</td>\n",
       "      <td>6887</td>\n",
       "      <td>6887</td>\n",
       "      <td>6887</td>\n",
       "      <td>6720</td>\n",
       "      <td>6161</td>\n",
       "      <td>6775</td>\n",
       "      <td>6627</td>\n",
       "      <td>6822</td>\n",
       "      <td>6887</td>\n",
       "      <td>6887</td>\n",
       "    </tr>\n",
       "    <tr>\n",
       "      <th>2022-01-08</th>\n",
       "      <td>7772</td>\n",
       "      <td>7772</td>\n",
       "      <td>7772</td>\n",
       "      <td>7772</td>\n",
       "      <td>7772</td>\n",
       "      <td>7606</td>\n",
       "      <td>7292</td>\n",
       "      <td>7690</td>\n",
       "      <td>7517</td>\n",
       "      <td>7641</td>\n",
       "      <td>7772</td>\n",
       "      <td>7772</td>\n",
       "    </tr>\n",
       "    <tr>\n",
       "      <th>2022-01-09</th>\n",
       "      <td>7125</td>\n",
       "      <td>7125</td>\n",
       "      <td>7125</td>\n",
       "      <td>7125</td>\n",
       "      <td>7125</td>\n",
       "      <td>6896</td>\n",
       "      <td>6562</td>\n",
       "      <td>7036</td>\n",
       "      <td>6869</td>\n",
       "      <td>7102</td>\n",
       "      <td>7125</td>\n",
       "      <td>7125</td>\n",
       "    </tr>\n",
       "    <tr>\n",
       "      <th>2022-01-10</th>\n",
       "      <td>9490</td>\n",
       "      <td>9490</td>\n",
       "      <td>9490</td>\n",
       "      <td>9490</td>\n",
       "      <td>9490</td>\n",
       "      <td>9303</td>\n",
       "      <td>8247</td>\n",
       "      <td>9388</td>\n",
       "      <td>9178</td>\n",
       "      <td>9411</td>\n",
       "      <td>9490</td>\n",
       "      <td>9490</td>\n",
       "    </tr>\n",
       "  </tbody>\n",
       "</table>\n",
       "</div>"
      ],
      "text/plain": [
       "              Unique Key  Created Date  Agency  Agency Name  Complaint Type  \\\n",
       "Created Date                                                                  \n",
       "2022-01-01          5866          5866    5866         5866            5866   \n",
       "2022-01-02          6710          6710    6710         6710            6710   \n",
       "2022-01-03          9163          9163    9163         9163            9163   \n",
       "2022-01-04          9415          9415    9415         9415            9415   \n",
       "2022-01-05          8385          8385    8385         8385            8385   \n",
       "2022-01-06          8541          8541    8541         8541            8541   \n",
       "2022-01-07          6887          6887    6887         6887            6887   \n",
       "2022-01-08          7772          7772    7772         7772            7772   \n",
       "2022-01-09          7125          7125    7125         7125            7125   \n",
       "2022-01-10          9490          9490    9490         9490            9490   \n",
       "\n",
       "              Descriptor  Location Type  Incident Zip  City  \\\n",
       "Created Date                                                  \n",
       "2022-01-01          5525           5525          5779  5566   \n",
       "2022-01-02          6493           6151          6607  6428   \n",
       "2022-01-03          8965           7985          9024  8838   \n",
       "2022-01-04          9223           8279          9300  9128   \n",
       "2022-01-05          8192           7242          8274  8076   \n",
       "2022-01-06          8333           7576          8421  8220   \n",
       "2022-01-07          6720           6161          6775  6627   \n",
       "2022-01-08          7606           7292          7690  7517   \n",
       "2022-01-09          6896           6562          7036  6869   \n",
       "2022-01-10          9303           8247          9388  9178   \n",
       "\n",
       "              Resolution Description  Borough  Open Data Channel Type  \n",
       "Created Date                                                           \n",
       "2022-01-01                      5820     5866                    5866  \n",
       "2022-01-02                      6601     6710                    6710  \n",
       "2022-01-03                      9039     9163                    9163  \n",
       "2022-01-04                      9254     9415                    9415  \n",
       "2022-01-05                      8307     8385                    8385  \n",
       "2022-01-06                      8378     8541                    8541  \n",
       "2022-01-07                      6822     6887                    6887  \n",
       "2022-01-08                      7641     7772                    7772  \n",
       "2022-01-09                      7102     7125                    7125  \n",
       "2022-01-10                      9411     9490                    9490  "
      ]
     },
     "execution_count": 7,
     "metadata": {},
     "output_type": "execute_result"
    }
   ],
   "source": [
    "count_22.head(10)"
   ]
  },
  {
   "cell_type": "code",
   "execution_count": 15,
   "id": "eecf2f8b-1b1e-4f7a-abdb-3ee62cf741f9",
   "metadata": {},
   "outputs": [
    {
     "data": {
      "text/plain": [
       "8684.320547945206"
      ]
     },
     "execution_count": 15,
     "metadata": {},
     "output_type": "execute_result"
    }
   ],
   "source": [
    "count_22['Unique Key'].mean()"
   ]
  },
  {
   "cell_type": "markdown",
   "id": "2a4550ae-8d60-47b7-82e8-fcf3589f059f",
   "metadata": {},
   "source": [
    "### Question 2 (0.5 points) \n",
    "On which single date were the maximum number of calls received?"
   ]
  },
  {
   "cell_type": "code",
   "execution_count": 10,
   "id": "24ed8977-0670-4d6a-bf7b-2662f369c795",
   "metadata": {},
   "outputs": [],
   "source": [
    "count = df[['Created Date','Unique Key']].groupby(df['Created Date'].dt.date).count()"
   ]
  },
  {
   "cell_type": "code",
   "execution_count": 11,
   "id": "e380ccfd-b226-4cfa-92bf-46728e9d5417",
   "metadata": {},
   "outputs": [
    {
     "data": {
      "text/html": [
       "<div>\n",
       "<style scoped>\n",
       "    .dataframe tbody tr th:only-of-type {\n",
       "        vertical-align: middle;\n",
       "    }\n",
       "\n",
       "    .dataframe tbody tr th {\n",
       "        vertical-align: top;\n",
       "    }\n",
       "\n",
       "    .dataframe thead th {\n",
       "        text-align: right;\n",
       "    }\n",
       "</style>\n",
       "<table border=\"1\" class=\"dataframe\">\n",
       "  <thead>\n",
       "    <tr style=\"text-align: right;\">\n",
       "      <th></th>\n",
       "      <th>Created Date</th>\n",
       "      <th>Unique Key</th>\n",
       "    </tr>\n",
       "    <tr>\n",
       "      <th>Created Date</th>\n",
       "      <th></th>\n",
       "      <th></th>\n",
       "    </tr>\n",
       "  </thead>\n",
       "  <tbody>\n",
       "    <tr>\n",
       "      <th>2010-01-01</th>\n",
       "      <td>2942</td>\n",
       "      <td>2942</td>\n",
       "    </tr>\n",
       "    <tr>\n",
       "      <th>2010-01-02</th>\n",
       "      <td>3958</td>\n",
       "      <td>3958</td>\n",
       "    </tr>\n",
       "    <tr>\n",
       "      <th>2010-01-03</th>\n",
       "      <td>5676</td>\n",
       "      <td>5676</td>\n",
       "    </tr>\n",
       "    <tr>\n",
       "      <th>2010-01-04</th>\n",
       "      <td>9763</td>\n",
       "      <td>9763</td>\n",
       "    </tr>\n",
       "    <tr>\n",
       "      <th>2010-01-05</th>\n",
       "      <td>8735</td>\n",
       "      <td>8735</td>\n",
       "    </tr>\n",
       "    <tr>\n",
       "      <th>2010-01-06</th>\n",
       "      <td>7178</td>\n",
       "      <td>7178</td>\n",
       "    </tr>\n",
       "    <tr>\n",
       "      <th>2010-01-07</th>\n",
       "      <td>7105</td>\n",
       "      <td>7105</td>\n",
       "    </tr>\n",
       "    <tr>\n",
       "      <th>2010-01-08</th>\n",
       "      <td>6290</td>\n",
       "      <td>6290</td>\n",
       "    </tr>\n",
       "    <tr>\n",
       "      <th>2010-01-09</th>\n",
       "      <td>4020</td>\n",
       "      <td>4020</td>\n",
       "    </tr>\n",
       "    <tr>\n",
       "      <th>2010-01-10</th>\n",
       "      <td>4528</td>\n",
       "      <td>4528</td>\n",
       "    </tr>\n",
       "  </tbody>\n",
       "</table>\n",
       "</div>"
      ],
      "text/plain": [
       "              Created Date  Unique Key\n",
       "Created Date                          \n",
       "2010-01-01            2942        2942\n",
       "2010-01-02            3958        3958\n",
       "2010-01-03            5676        5676\n",
       "2010-01-04            9763        9763\n",
       "2010-01-05            8735        8735\n",
       "2010-01-06            7178        7178\n",
       "2010-01-07            7105        7105\n",
       "2010-01-08            6290        6290\n",
       "2010-01-09            4020        4020\n",
       "2010-01-10            4528        4528"
      ]
     },
     "execution_count": 11,
     "metadata": {},
     "output_type": "execute_result"
    }
   ],
   "source": [
    "count.head(10)"
   ]
  },
  {
   "cell_type": "markdown",
   "id": "7c3c4771-3b59-4ee3-b414-d4d52ebcf95e",
   "metadata": {},
   "source": [
    "### Question 3 \n",
    "On the date the maximum number of calls were received, what was the most important complaint type?\n",
    "\n",
    "(Might be fun to search online for why so many such calls were received on that day?)"
   ]
  },
  {
   "cell_type": "code",
   "execution_count": 20,
   "id": "8fb3f017-6038-4913-b5a6-9850231807c2",
   "metadata": {},
   "outputs": [],
   "source": [
    "call = df[df['Created Date'].dt.year == 2020]\n",
    "call = call[call['Created Date'].dt.month == 8]\n",
    "call = call[call['Created Date'].dt.day == 4]"
   ]
  },
  {
   "cell_type": "code",
   "execution_count": 18,
   "id": "b9b4977e-ca4c-4ea4-a2d3-375ffdd7eeb1",
   "metadata": {},
   "outputs": [
    {
     "data": {
      "text/plain": [
       "0           2011\n",
       "1           2011\n",
       "2           2011\n",
       "3           2022\n",
       "4           2011\n",
       "            ... \n",
       "33780972    2011\n",
       "33780973    2011\n",
       "33780974    2011\n",
       "33780975    2011\n",
       "33780976    2011\n",
       "Name: Created Date, Length: 33780977, dtype: int32"
      ]
     },
     "execution_count": 18,
     "metadata": {},
     "output_type": "execute_result"
    }
   ],
   "source": [
    "#df['Created Date'].dt.date"
   ]
  },
  {
   "cell_type": "code",
   "execution_count": 21,
   "id": "568706f0-9096-4ec0-9acd-75f728447d3d",
   "metadata": {},
   "outputs": [
    {
     "data": {
      "text/plain": [
       "Complaint Type\n",
       "Damaged Tree                           14863\n",
       "Noise - Residential                      982\n",
       "Request Large Bulky Item Collection      909\n",
       "Street Light Condition                   617\n",
       "Overgrown Tree/Branches                  609\n",
       "                                       ...  \n",
       "For Hire Vehicle Report                    1\n",
       "LinkNYC                                    1\n",
       "Public Payphone Complaint                  1\n",
       "Peeling Paint                              1\n",
       "Window Guard                               1\n",
       "Name: count, Length: 125, dtype: int64"
      ]
     },
     "execution_count": 21,
     "metadata": {},
     "output_type": "execute_result"
    }
   ],
   "source": [
    "call.value_counts('Complaint Type')"
   ]
  },
  {
   "cell_type": "markdown",
   "id": "50edbc34-b340-4ed5-9788-b5e725be6bde",
   "metadata": {},
   "source": [
    "### Question 4 (0.5 points) \n",
    "Quietest month: Group the data by months, and identify the month that historically has the fewest number of calls."
   ]
  },
  {
   "cell_type": "code",
   "execution_count": 22,
   "id": "6cad771c-abfb-4eea-aeaf-a83c91590ab5",
   "metadata": {},
   "outputs": [],
   "source": [
    "count = df[['Created Date','Unique Key']].groupby(df['Created Date'].dt.month).count()\n",
    "count = count.sort_values(by='Unique Key', ascending = False)"
   ]
  },
  {
   "cell_type": "code",
   "execution_count": 25,
   "id": "ad609aaa-e250-49b9-a49b-52207f2930ea",
   "metadata": {},
   "outputs": [
    {
     "data": {
      "text/html": [
       "<div>\n",
       "<style scoped>\n",
       "    .dataframe tbody tr th:only-of-type {\n",
       "        vertical-align: middle;\n",
       "    }\n",
       "\n",
       "    .dataframe tbody tr th {\n",
       "        vertical-align: top;\n",
       "    }\n",
       "\n",
       "    .dataframe thead th {\n",
       "        text-align: right;\n",
       "    }\n",
       "</style>\n",
       "<table border=\"1\" class=\"dataframe\">\n",
       "  <thead>\n",
       "    <tr style=\"text-align: right;\">\n",
       "      <th></th>\n",
       "      <th>Created Date</th>\n",
       "      <th>Unique Key</th>\n",
       "    </tr>\n",
       "    <tr>\n",
       "      <th>Created Date</th>\n",
       "      <th></th>\n",
       "      <th></th>\n",
       "    </tr>\n",
       "  </thead>\n",
       "  <tbody>\n",
       "    <tr>\n",
       "      <th>12</th>\n",
       "      <td>2596986</td>\n",
       "      <td>2596986</td>\n",
       "    </tr>\n",
       "    <tr>\n",
       "      <th>2</th>\n",
       "      <td>2621845</td>\n",
       "      <td>2621845</td>\n",
       "    </tr>\n",
       "    <tr>\n",
       "      <th>11</th>\n",
       "      <td>2634749</td>\n",
       "      <td>2634749</td>\n",
       "    </tr>\n",
       "    <tr>\n",
       "      <th>4</th>\n",
       "      <td>2672760</td>\n",
       "      <td>2672760</td>\n",
       "    </tr>\n",
       "    <tr>\n",
       "      <th>9</th>\n",
       "      <td>2684271</td>\n",
       "      <td>2684271</td>\n",
       "    </tr>\n",
       "    <tr>\n",
       "      <th>10</th>\n",
       "      <td>2766887</td>\n",
       "      <td>2766887</td>\n",
       "    </tr>\n",
       "    <tr>\n",
       "      <th>8</th>\n",
       "      <td>2779862</td>\n",
       "      <td>2779862</td>\n",
       "    </tr>\n",
       "    <tr>\n",
       "      <th>3</th>\n",
       "      <td>2868044</td>\n",
       "      <td>2868044</td>\n",
       "    </tr>\n",
       "    <tr>\n",
       "      <th>5</th>\n",
       "      <td>2956598</td>\n",
       "      <td>2956598</td>\n",
       "    </tr>\n",
       "    <tr>\n",
       "      <th>1</th>\n",
       "      <td>2994507</td>\n",
       "      <td>2994507</td>\n",
       "    </tr>\n",
       "    <tr>\n",
       "      <th>6</th>\n",
       "      <td>3093442</td>\n",
       "      <td>3093442</td>\n",
       "    </tr>\n",
       "    <tr>\n",
       "      <th>7</th>\n",
       "      <td>3111026</td>\n",
       "      <td>3111026</td>\n",
       "    </tr>\n",
       "  </tbody>\n",
       "</table>\n",
       "</div>"
      ],
      "text/plain": [
       "              Created Date  Unique Key\n",
       "Created Date                          \n",
       "12                 2596986     2596986\n",
       "2                  2621845     2621845\n",
       "11                 2634749     2634749\n",
       "4                  2672760     2672760\n",
       "9                  2684271     2684271\n",
       "10                 2766887     2766887\n",
       "8                  2779862     2779862\n",
       "3                  2868044     2868044\n",
       "5                  2956598     2956598\n",
       "1                  2994507     2994507\n",
       "6                  3093442     3093442\n",
       "7                  3111026     3111026"
      ]
     },
     "execution_count": 25,
     "metadata": {},
     "output_type": "execute_result"
    }
   ],
   "source": [
    "count.sort_values('Unique Key')"
   ]
  },
  {
   "cell_type": "markdown",
   "id": "32b4e297-2396-481c-855a-0a8b56d0b7cf",
   "metadata": {},
   "source": [
    "### Question 5 (1 point) \n",
    "Resample your time series to a daily frequency.  Perform ETS decomposition based on an additive model.  What is the value of the seasonal component on 2020-12-25 (rounded to the nearest integer)?"
   ]
  },
  {
   "cell_type": "code",
   "execution_count": 57,
   "id": "db1f434d-61a6-42dc-aa42-35ce99a6d7a1",
   "metadata": {},
   "outputs": [],
   "source": [
    "import pandas as pd\n",
    "import matplotlib.pyplot as plt\n",
    "%matplotlib inline"
   ]
  },
  {
   "cell_type": "code",
   "execution_count": 58,
   "id": "25849239-41a4-47ac-af9e-09ffc2c49a99",
   "metadata": {},
   "outputs": [
    {
     "data": {
      "text/html": [
       "<div>\n",
       "<style scoped>\n",
       "    .dataframe tbody tr th:only-of-type {\n",
       "        vertical-align: middle;\n",
       "    }\n",
       "\n",
       "    .dataframe tbody tr th {\n",
       "        vertical-align: top;\n",
       "    }\n",
       "\n",
       "    .dataframe thead th {\n",
       "        text-align: right;\n",
       "    }\n",
       "</style>\n",
       "<table border=\"1\" class=\"dataframe\">\n",
       "  <thead>\n",
       "    <tr style=\"text-align: right;\">\n",
       "      <th></th>\n",
       "      <th>Created Date</th>\n",
       "      <th>Unique Key</th>\n",
       "    </tr>\n",
       "  </thead>\n",
       "  <tbody>\n",
       "    <tr>\n",
       "      <th>0</th>\n",
       "      <td>2010-01-01</td>\n",
       "      <td>2942</td>\n",
       "    </tr>\n",
       "    <tr>\n",
       "      <th>1</th>\n",
       "      <td>2010-01-02</td>\n",
       "      <td>3958</td>\n",
       "    </tr>\n",
       "    <tr>\n",
       "      <th>2</th>\n",
       "      <td>2010-01-03</td>\n",
       "      <td>5676</td>\n",
       "    </tr>\n",
       "    <tr>\n",
       "      <th>3</th>\n",
       "      <td>2010-01-04</td>\n",
       "      <td>9763</td>\n",
       "    </tr>\n",
       "    <tr>\n",
       "      <th>4</th>\n",
       "      <td>2010-01-05</td>\n",
       "      <td>8735</td>\n",
       "    </tr>\n",
       "    <tr>\n",
       "      <th>...</th>\n",
       "      <td>...</td>\n",
       "      <td>...</td>\n",
       "    </tr>\n",
       "    <tr>\n",
       "      <th>4959</th>\n",
       "      <td>2023-07-31</td>\n",
       "      <td>9921</td>\n",
       "    </tr>\n",
       "    <tr>\n",
       "      <th>4960</th>\n",
       "      <td>2023-08-01</td>\n",
       "      <td>9813</td>\n",
       "    </tr>\n",
       "    <tr>\n",
       "      <th>4961</th>\n",
       "      <td>2023-08-02</td>\n",
       "      <td>9245</td>\n",
       "    </tr>\n",
       "    <tr>\n",
       "      <th>4962</th>\n",
       "      <td>2023-08-03</td>\n",
       "      <td>9128</td>\n",
       "    </tr>\n",
       "    <tr>\n",
       "      <th>4963</th>\n",
       "      <td>2023-08-04</td>\n",
       "      <td>384</td>\n",
       "    </tr>\n",
       "  </tbody>\n",
       "</table>\n",
       "<p>4964 rows × 2 columns</p>\n",
       "</div>"
      ],
      "text/plain": [
       "     Created Date  Unique Key\n",
       "0      2010-01-01        2942\n",
       "1      2010-01-02        3958\n",
       "2      2010-01-03        5676\n",
       "3      2010-01-04        9763\n",
       "4      2010-01-05        8735\n",
       "...           ...         ...\n",
       "4959   2023-07-31        9921\n",
       "4960   2023-08-01        9813\n",
       "4961   2023-08-02        9245\n",
       "4962   2023-08-03        9128\n",
       "4963   2023-08-04         384\n",
       "\n",
       "[4964 rows x 2 columns]"
      ]
     },
     "execution_count": 58,
     "metadata": {},
     "output_type": "execute_result"
    },
    {
     "data": {
      "image/png": "[encoded data removed]",
      "text/plain": [
       "<Figure size 640x480 with 1 Axes>"
      ]
     },
     "metadata": {},
     "output_type": "display_data"
    }
   ],
   "source": [
    "count.plot()\n",
    "df_count"
   ]
  },
  {
   "cell_type": "code",
   "execution_count": 64,
   "id": "34454cf7-1f79-4edf-b70b-2eccaed23661",
   "metadata": {},
   "outputs": [
    {
     "data": {
      "text/plain": [
       "Created Date\n",
       "2010-01-01    2942\n",
       "2010-01-02    3958\n",
       "2010-01-03    5676\n",
       "2010-01-04    9763\n",
       "2010-01-05    8735\n",
       "              ... \n",
       "2023-07-31    9921\n",
       "2023-08-01    9813\n",
       "2023-08-02    9245\n",
       "2023-08-03    9128\n",
       "2023-08-04     384\n",
       "Name: Unique Key, Length: 4964, dtype: int64"
      ]
     },
     "execution_count": 64,
     "metadata": {},
     "output_type": "execute_result"
    }
   ],
   "source": [
    "count.index = pd.to_datetime(count.index)\n",
    "count"
   ]
  },
  {
   "cell_type": "code",
   "execution_count": 65,
   "id": "2ebfccf6-1a71-45cc-816c-fe6d029d14b7",
   "metadata": {},
   "outputs": [],
   "source": [
    "final = seasonal_decompose(count,model='additive')"
   ]
  },
  {
   "cell_type": "code",
   "execution_count": 66,
   "id": "cdbe6aff-afcd-4dfe-9a2c-d69d4eddae6a",
   "metadata": {},
   "outputs": [
    {
     "data": {
      "text/plain": [
       "<Axes: xlabel='Created Date'>"
      ]
     },
     "execution_count": 66,
     "metadata": {},
     "output_type": "execute_result"
    },
    {
     "data": {
      "image/png": "[encoded data removed]",
      "text/plain": [
       "<Figure size 640x480 with 1 Axes>"
      ]
     },
     "metadata": {},
     "output_type": "display_data"
    }
   ],
   "source": [
    "final.trend.plot()"
   ]
  },
  {
   "cell_type": "code",
   "execution_count": 68,
   "id": "61e2e61a-5a14-4a7d-91c6-bb63ff71587e",
   "metadata": {},
   "outputs": [
    {
     "data": {
      "text/plain": [
       "183"
      ]
     },
     "execution_count": 68,
     "metadata": {},
     "output_type": "execute_result"
    }
   ],
   "source": [
    "# Extract the seasonal component for the date 2020-12-25\n",
    "seasonal_component = final.seasonal.loc['2020-12-25'].round().astype(int)\n",
    "\n",
    "seasonal_component"
   ]
  },
  {
   "cell_type": "markdown",
   "id": "5824a4be-6cb9-4ac5-99a7-6fe9857cd966",
   "metadata": {},
   "source": [
    "### Question 6 (1.5 points) \n",
    "Calculate the autocorrelation of the number of daily calls with the number of calls the day prior, ie lag of 1.  (Use the daily series)."
   ]
  },
  {
   "cell_type": "code",
   "execution_count": 13,
   "id": "6dc5f4b7-8707-4b48-a92c-85b81476d374",
   "metadata": {},
   "outputs": [
    {
     "data": {
      "text/plain": [
       "0.7517059728398577"
      ]
     },
     "execution_count": 13,
     "metadata": {},
     "output_type": "execute_result"
    }
   ],
   "source": [
    "# Calculate the autocorrelation with a lag of 1\n",
    "autocorr_1 = count['Unique Key'].autocorr(lag=1)\n",
    "autocorr_1"
   ]
  },
  {
   "cell_type": "markdown",
   "id": "8f36b5d3-e273-4312-b160-f27de44a4e65",
   "metadata": {},
   "source": [
    "### Question 7 (1.5 points) \n",
    "Forecast the daily series with a test set of 90 days using the Prophet library.  What is your RMSE on your test set?\n",
    "\n",
    "Due to random initialization in several parts of the algorithm, your answer may not exactly match the choices below, but will come close.  Pick the closest number."
   ]
  },
  {
   "cell_type": "code",
   "execution_count": 49,
   "id": "f4c0046b-a5ab-4aff-bf2b-2bcc2417b898",
   "metadata": {},
   "outputs": [],
   "source": [
    "from prophet import Prophet\n",
    "from sklearn.metrics import mean_squared_error\n",
    "import numpy as np"
   ]
  },
  {
   "cell_type": "code",
   "execution_count": 36,
   "id": "50f1fd6c-edda-4a4f-902a-5b83c045a542",
   "metadata": {},
   "outputs": [
    {
     "name": "stdout",
     "output_type": "stream",
     "text": [
      "Collecting scikit-learn\n",
      "  Using cached scikit_learn-1.4.2-cp311-cp311-manylinux_2_17_x86_64.manylinux2014_x86_64.whl.metadata (11 kB)\n",
      "Requirement already satisfied: numpy>=1.19.5 in /opt/conda/lib/python3.11/site-packages (from scikit-learn) (1.26.3)\n",
      "Requirement already satisfied: scipy>=1.6.0 in /opt/conda/lib/python3.11/site-packages (from scikit-learn) (1.13.0)\n",
      "Collecting joblib>=1.2.0 (from scikit-learn)\n",
      "  Using cached joblib-1.4.0-py3-none-any.whl.metadata (5.4 kB)\n",
      "Collecting threadpoolctl>=2.0.0 (from scikit-learn)\n",
      "  Using cached threadpoolctl-3.4.0-py3-none-any.whl.metadata (13 kB)\n",
      "Using cached scikit_learn-1.4.2-cp311-cp311-manylinux_2_17_x86_64.manylinux2014_x86_64.whl (12.1 MB)\n",
      "Using cached joblib-1.4.0-py3-none-any.whl (301 kB)\n",
      "Using cached threadpoolctl-3.4.0-py3-none-any.whl (17 kB)\n",
      "Installing collected packages: threadpoolctl, joblib, scikit-learn\n",
      "Successfully installed joblib-1.4.0 scikit-learn-1.4.2 threadpoolctl-3.4.0\n",
      "Note: you may need to restart the kernel to use updated packages.\n"
     ]
    }
   ],
   "source": [
    "#pip install scikit-learn"
   ]
  },
  {
   "cell_type": "code",
   "execution_count": 44,
   "id": "f45df155-904d-4ba3-8a53-28af5ede6065",
   "metadata": {},
   "outputs": [
    {
     "name": "stdout",
     "output_type": "stream",
     "text": [
      "  Created Date  Unique Key\n",
      "0   2010-01-01        2942\n",
      "1   2010-01-02        3958\n",
      "2   2010-01-03        5676\n",
      "3   2010-01-04        9763\n",
      "4   2010-01-05        8735\n"
     ]
    }
   ],
   "source": [
    "# Convert Series to DataFrame\n",
    "df_count = count.to_frame()\n",
    "\n",
    "# Reset index to move it back as a column\n",
    "df_count.reset_index(inplace=True)\n",
    "\n",
    "# Print the DataFrame to verify\n",
    "print(df_count.head())\n"
   ]
  },
  {
   "cell_type": "code",
   "execution_count": 50,
   "id": "e5455fa3-9430-4261-8dd6-2b424271f34e",
   "metadata": {},
   "outputs": [
    {
     "name": "stderr",
     "output_type": "stream",
     "text": [
      "19:55:19 - cmdstanpy - INFO - Chain [1] start processing\n",
      "19:55:20 - cmdstanpy - INFO - Chain [1] done processing\n"
     ]
    },
    {
     "name": "stdout",
     "output_type": "stream",
     "text": [
      "RMSE on test set: 1233.7823321393885\n"
     ]
    }
   ],
   "source": [
    "# Assuming your DataFrame is called df and the daily series is prepared\n",
    "# If not, replace df with your DataFrame name and daily series accordingly\n",
    "\n",
    "# Prepare the data for Prophet\n",
    "df_prophet = df_count.rename(columns={'Created Date': 'ds', 'Unique Key': 'y'})\n",
    "df_prophet = df_prophet[['ds', 'y']]\n",
    "\n",
    "# Split the data into training and test sets\n",
    "train = df_prophet[:-90]  # Training set: all data except the last 90 days\n",
    "test = df_prophet[-90:]   # Test set: last 90 days\n",
    "\n",
    "# Initialize and fit the Prophet model\n",
    "model = Prophet()\n",
    "model.fit(train)\n",
    "\n",
    "# Make predictions for the test set\n",
    "future = model.make_future_dataframe(periods=90)  # Forecast for 90 days\n",
    "forecast = model.predict(future)\n",
    "\n",
    "# Extract actual values and predicted values for the test set\n",
    "actual = test['y'].values\n",
    "predicted = forecast.iloc[-90:]['yhat'].values\n",
    "\n",
    "# Calculate RMSE\n",
    "rmse = np.sqrt(mean_squared_error(actual, predicted))\n",
    "\n",
    "print(\"RMSE on test set:\", rmse)"
   ]
  },
  {
   "cell_type": "code",
   "execution_count": null,
   "id": "083197bb-5060-4d7c-8f17-1c807c6bdbf4",
   "metadata": {},
   "outputs": [],
   "source": []
  }
 ],
 "metadata": {
  "kernelspec": {
   "display_name": "Python 3 (ipykernel)",
   "language": "python",
   "name": "python3"
  },
  "language_info": {
   "codemirror_mode": {
    "name": "ipython",
    "version": 3
   },
   "file_extension": ".py",
   "mimetype": "text/x-python",
   "name": "python",
   "nbconvert_exporter": "python",
   "pygments_lexer": "ipython3",
   "version": "3.11.6"
  }
 },
 "nbformat": 4,
 "nbformat_minor": 5
}
