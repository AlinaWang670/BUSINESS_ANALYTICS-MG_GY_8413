{
 "cells": [
  {
   "cell_type": "markdown",
   "id": "9ffdd3c7-6f0e-4623-ae61-2b5c29adac5e",
   "metadata": {},
   "source": [
    "# Homework 1 - Descriptive Statistics"
   ]
  },
  {
   "cell_type": "code",
   "execution_count": 1,
   "id": "78467bdc-1c71-4f88-9f6c-ac1fd6f6a7a7",
   "metadata": {},
   "outputs": [],
   "source": [
    "# Usual library imports\n",
    "import numpy as np\n",
    "import pandas as pd"
   ]
  },
  {
   "cell_type": "markdown",
   "id": "760530f2-a457-43a6-a583-9b406823603b",
   "metadata": {},
   "source": [
    "***\n",
    "__Q1__ - Compute the geometric mean for the following data on growth factors of an investment for 10 years.\n",
    "1.10, 0.50, 0.70, 1.21, 1.55, 1.12, 1.16, 1.1, 1.22, 1.22"
   ]
  },
  {
   "cell_type": "code",
   "execution_count": 2,
   "id": "95646fca-92ec-483a-b87c-a7bcf4f615ac",
   "metadata": {},
   "outputs": [
    {
     "data": {
      "text/plain": [
       "1.0438464429616174"
      ]
     },
     "execution_count": 2,
     "metadata": {},
     "output_type": "execute_result"
    }
   ],
   "source": [
    "from scipy.stats.mstats import gmean\n",
    "gmean([1.10, 0.50, 0.70, 1.21, 1.55, 1.12, 1.16, 1.1, 1.22, 1.22])"
   ]
  },
  {
   "cell_type": "code",
   "execution_count": 3,
   "id": "db742dda-5648-417e-93ef-c73cc1353b6e",
   "metadata": {},
   "outputs": [
    {
     "data": {
      "text/plain": [
       "1.0438464429616174"
      ]
     },
     "execution_count": 3,
     "metadata": {},
     "output_type": "execute_result"
    }
   ],
   "source": [
    "# Also\n",
    "(1.10 * 0.50 * 0.70 * 1.21 * 1.55 * 1.12 * 1.16 * 1.1 * 1.22 * 1.22)**(1/10)"
   ]
  },
  {
   "cell_type": "markdown",
   "id": "f4ad2d4b-372f-441a-a467-22bd6e342654",
   "metadata": {},
   "source": [
    "***\n",
    "__Q2__ - The simplest measure of variability is the ____   \n",
    "\n",
    "Answer: Range  \n",
    "\n",
    "All other measures required more sophisticated computations, and can be more difficult to comprehend for the lay person.  \n",
    "\n",
    "***"
   ]
  },
  {
   "cell_type": "markdown",
   "id": "69f04e32-cbfa-4af1-9ce7-3bd0d86629ce",
   "metadata": {},
   "source": [
    "__Q3__ - Compute the coefficient of variation for the following sample data.\n",
    "\n",
    "\n",
    "32, 41, 36, 24, 29, 30, 40, 22, 35, 37  \n",
    "\n",
    "Answer: Note that the question makes a specific reference to 'sample data'.  Therefore we need to calculate the sample standard deviation for the numerator, not the population standard deviation.  Also see Q7 later.  \n",
    "\n",
    "We can calculate the coefficient of variation by dividing the sample standard deviation by the mean, or by directly using the 'variation' function in scipy.stats."
   ]
  },
  {
   "cell_type": "code",
   "execution_count": 4,
   "id": "32c5c931-d312-47fe-a4d6-c9d0899403cd",
   "metadata": {},
   "outputs": [
    {
     "data": {
      "text/plain": [
       "19.62551020696945"
      ]
     },
     "execution_count": 4,
     "metadata": {},
     "output_type": "execute_result"
    }
   ],
   "source": [
    "import numpy as np\n",
    "np.std([32, 41, 36, 24, 29, 30, 40, 22, 35, 37], ddof=1) / np.mean([32, 41, 36, 24, 29, 30, 40, 22, 35, 37])  * 100"
   ]
  },
  {
   "cell_type": "code",
   "execution_count": 5,
   "id": "500903c2-daa6-4967-97ae-777cfffb2349",
   "metadata": {},
   "outputs": [
    {
     "data": {
      "text/plain": [
       "19.62551020696945"
      ]
     },
     "execution_count": 5,
     "metadata": {},
     "output_type": "execute_result"
    }
   ],
   "source": [
    "# Also:\n",
    "from scipy.stats import variation\n",
    "variation([32, 41, 36, 24, 29, 30, 40, 22, 35, 37], ddof = 1) * 100"
   ]
  },
  {
   "cell_type": "markdown",
   "id": "4a6860d0-1c48-4d81-98d3-da459f17e19f",
   "metadata": {},
   "source": [
    "***\n",
    "__Q4__ - Any data value with a z-score less than –3 or greater than +3 is considered to be a(n) _____.\n",
    "\n",
    "Answer: Outlier, as such data points are relatively rare in any distribution."
   ]
  },
  {
   "cell_type": "markdown",
   "id": "09b5c49b-6a10-46c8-8124-fc9bc7824b3a",
   "metadata": {},
   "source": [
    "***\n",
    "__Q5__ - The College Board reported that the mean Math Level 2 SAT subject test score was 686 with a standard deviation of 96. Assuming scores follow a bell-shaped distribution, use the empirical rule to find the percentage of students who scored less than 494."
   ]
  },
  {
   "cell_type": "markdown",
   "id": "35ab495e-674e-423e-a758-672c86663d42",
   "metadata": {},
   "source": [
    "Answer: \n",
    "A score of 494 is 494 - 686 = -192 points below the mean, or 2 standard deviations below the mean.\n",
    "\n",
    "We know from the empirical rule that 95.45% of the observations for a normal distribution are within 2 standard deviations.  This means 100-95.45=4.55% of the observations lie in the two tails, or 2.275% in either tail.  Therefore 2.275% of the scores will be below 2 standard deviations from the mean."
   ]
  },
  {
   "cell_type": "code",
   "execution_count": 6,
   "id": "99d71ac4-2ed7-4cb7-9951-1edeef8d6c90",
   "metadata": {},
   "outputs": [
    {
     "data": {
      "text/plain": [
       "2.27501319481792"
      ]
     },
     "execution_count": 6,
     "metadata": {},
     "output_type": "execute_result"
    }
   ],
   "source": [
    "# Alternatively, we can just use the normal distribution cdf method to calculate this directly.\n",
    "\n",
    "from scipy.stats import norm\n",
    "norm(686,96).cdf(494)*100"
   ]
  },
  {
   "cell_type": "markdown",
   "id": "e233b33f-b74d-45cd-8c85-3925feb47d44",
   "metadata": {},
   "source": [
    "***\n",
    "__Q6__ - Compute the standard deviation for the following sample data.\n",
    " \n",
    "\n",
    "32, 41, 36, 24, 29, 30, 40, 22, 25, 37"
   ]
  },
  {
   "cell_type": "code",
   "execution_count": 7,
   "id": "ed8fa02e-e8a8-452c-b8f1-898fd1f51fa1",
   "metadata": {},
   "outputs": [
    {
     "data": {
      "text/plain": [
       "17.82133552795637"
      ]
     },
     "execution_count": 7,
     "metadata": {},
     "output_type": "execute_result"
    }
   ],
   "source": [
    "# For calculating standard deviation for sample data, we need to divide the denominator\n",
    "# of the sum of squares by N - 1.\n",
    "# \n",
    "# For population data, we need to divide by N.\n",
    "# In the Python np.std function, this is represented using the parameter Delta Degrees of\n",
    "# Freedom, set to 1 for sample data.  \n",
    "\n",
    "np.std([32, 41, 36, 24, 29, 30, 40, 22, 85, 37], ddof=1)"
   ]
  },
  {
   "cell_type": "markdown",
   "id": "03c1456f-6cc5-4729-b3e4-107ee8cbe22a",
   "metadata": {},
   "source": [
    "***\n",
    "__Q7__ - Compute the median for the following set of numbers:\n",
    "\n",
    "99, 80, 12, 54, 53, 64, 31, 12, 62, 88"
   ]
  },
  {
   "cell_type": "code",
   "execution_count": 9,
   "id": "7e91bea2-a3d1-4100-93ce-9c48253a1757",
   "metadata": {},
   "outputs": [
    {
     "data": {
      "text/plain": [
       "58.0"
      ]
     },
     "execution_count": 9,
     "metadata": {},
     "output_type": "execute_result"
    }
   ],
   "source": [
    "np.median([99, 80, 12, 54, 53, 64, 31, 12, 62, 88])"
   ]
  },
  {
   "cell_type": "markdown",
   "id": "487179ce-c5b3-45d4-8f90-35aa90b3d0ad",
   "metadata": {},
   "source": [
    "***\n",
    "__Q8__ - Which of the following statements are true (select all that apply)  \n",
    "\n",
    "Question 10 options:  \n",
    "\n",
    "1. In machine learning, we provide data and the correct answers, and the computer determines the rules  \n",
    "2. In machine learning, we provide the rules and the data, and the computer calculates the answers  \n",
    "3. As a rule, in every situation the more complex we make our analytical computations, the better are the answers we will get  \n",
    "4. For any distribution, at least 3/4th of the data will lie within 2 standard deviations of the mean  \n",
    "\n",
    "\n",
    "Answer: Statement 2 is not correct, Statement 1 is.  Statement 3 is incorrect.  Statement 4 is correct due to Chebyshev's rule.  \n",
    "\n",
    "In traditional programming, humans provide the data, and the rules to apply.  The rules may be expressed as if/else conditions.  Machine learning flips this around, and can figure the rules out based on the correct answers and the data by recognizing statistical patterns."
   ]
  },
  {
   "cell_type": "markdown",
   "id": "31863bdc-08a6-4876-bf78-6f6317d483a0",
   "metadata": {},
   "source": [
    "**Q9** - What is correlation used for?\n",
    "\n",
    "Answer:\n",
    "\n",
    "Correlation is used for understanding the linear relationship between two variables.  \n",
    "\n",
    "It does not describe cause and effect, nor does it relate to multiple variables."
   ]
  },
  {
   "cell_type": "markdown",
   "id": "02631da0-c923-47ba-acc8-059e9819b309",
   "metadata": {},
   "source": [
    "**Q10** - Which of the following is unaffected by outliers in the data?\n",
    "\n",
    "Mode and medians are not affected by outliers in the data, but mean and standard deviation are."
   ]
  },
  {
   "cell_type": "code",
   "execution_count": null,
   "id": "5e031de2-8520-4bf0-9106-d184f8fbfbaf",
   "metadata": {},
   "outputs": [],
   "source": []
  }
 ],
 "metadata": {
  "kernelspec": {
   "display_name": "Python [conda env:mggy8413]",
   "language": "python",
   "name": "conda-env-mggy8413-py"
  },
  "language_info": {
   "codemirror_mode": {
    "name": "ipython",
    "version": 3
   },
   "file_extension": ".py",
   "mimetype": "text/x-python",
   "name": "python",
   "nbconvert_exporter": "python",
   "pygments_lexer": "ipython3",
   "version": "3.9.15"
  }
 },
 "nbformat": 4,
 "nbformat_minor": 5
}
